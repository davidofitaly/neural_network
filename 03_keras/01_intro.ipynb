{
  "nbformat": 4,
  "nbformat_minor": 0,
  "metadata": {
    "colab": {
      "provenance": [],
      "include_colab_link": true
    },
    "kernelspec": {
      "name": "python3",
      "display_name": "Python 3"
    },
    "language_info": {
      "name": "python"
    }
  },
  "cells": [
    {
      "cell_type": "markdown",
      "metadata": {
        "id": "view-in-github",
        "colab_type": "text"
      },
      "source": [
        "<a href=\"https://colab.research.google.com/github/davidofitaly/neural_network/blob/main/03_keras/01_intro.ipynb\" target=\"_parent\"><img src=\"https://colab.research.google.com/assets/colab-badge.svg\" alt=\"Open In Colab\"/></a>"
      ]
    },
    {
      "cell_type": "markdown",
      "source": [
        "###Import of libraries"
      ],
      "metadata": {
        "id": "zfQ-tDs-77ec"
      }
    },
    {
      "cell_type": "code",
      "execution_count": 1,
      "metadata": {
        "colab": {
          "base_uri": "https://localhost:8080/"
        },
        "id": "LrZ9eIbLzD4v",
        "outputId": "be961feb-385f-4e8a-ed76-dfc345d3e67b"
      },
      "outputs": [
        {
          "output_type": "stream",
          "name": "stdout",
          "text": [
            "Requirement already satisfied: tensorflow in /usr/local/lib/python3.10/dist-packages (2.17.0)\n",
            "Requirement already satisfied: absl-py>=1.0.0 in /usr/local/lib/python3.10/dist-packages (from tensorflow) (1.4.0)\n",
            "Requirement already satisfied: astunparse>=1.6.0 in /usr/local/lib/python3.10/dist-packages (from tensorflow) (1.6.3)\n",
            "Requirement already satisfied: flatbuffers>=24.3.25 in /usr/local/lib/python3.10/dist-packages (from tensorflow) (24.3.25)\n",
            "Requirement already satisfied: gast!=0.5.0,!=0.5.1,!=0.5.2,>=0.2.1 in /usr/local/lib/python3.10/dist-packages (from tensorflow) (0.6.0)\n",
            "Requirement already satisfied: google-pasta>=0.1.1 in /usr/local/lib/python3.10/dist-packages (from tensorflow) (0.2.0)\n",
            "Requirement already satisfied: h5py>=3.10.0 in /usr/local/lib/python3.10/dist-packages (from tensorflow) (3.12.1)\n",
            "Requirement already satisfied: libclang>=13.0.0 in /usr/local/lib/python3.10/dist-packages (from tensorflow) (18.1.1)\n",
            "Requirement already satisfied: ml-dtypes<0.5.0,>=0.3.1 in /usr/local/lib/python3.10/dist-packages (from tensorflow) (0.4.1)\n",
            "Requirement already satisfied: opt-einsum>=2.3.2 in /usr/local/lib/python3.10/dist-packages (from tensorflow) (3.4.0)\n",
            "Requirement already satisfied: packaging in /usr/local/lib/python3.10/dist-packages (from tensorflow) (24.1)\n",
            "Requirement already satisfied: protobuf!=4.21.0,!=4.21.1,!=4.21.2,!=4.21.3,!=4.21.4,!=4.21.5,<5.0.0dev,>=3.20.3 in /usr/local/lib/python3.10/dist-packages (from tensorflow) (3.20.3)\n",
            "Requirement already satisfied: requests<3,>=2.21.0 in /usr/local/lib/python3.10/dist-packages (from tensorflow) (2.32.3)\n",
            "Requirement already satisfied: setuptools in /usr/local/lib/python3.10/dist-packages (from tensorflow) (75.1.0)\n",
            "Requirement already satisfied: six>=1.12.0 in /usr/local/lib/python3.10/dist-packages (from tensorflow) (1.16.0)\n",
            "Requirement already satisfied: termcolor>=1.1.0 in /usr/local/lib/python3.10/dist-packages (from tensorflow) (2.5.0)\n",
            "Requirement already satisfied: typing-extensions>=3.6.6 in /usr/local/lib/python3.10/dist-packages (from tensorflow) (4.12.2)\n",
            "Requirement already satisfied: wrapt>=1.11.0 in /usr/local/lib/python3.10/dist-packages (from tensorflow) (1.16.0)\n",
            "Requirement already satisfied: grpcio<2.0,>=1.24.3 in /usr/local/lib/python3.10/dist-packages (from tensorflow) (1.64.1)\n",
            "Requirement already satisfied: tensorboard<2.18,>=2.17 in /usr/local/lib/python3.10/dist-packages (from tensorflow) (2.17.0)\n",
            "Requirement already satisfied: keras>=3.2.0 in /usr/local/lib/python3.10/dist-packages (from tensorflow) (3.4.1)\n",
            "Requirement already satisfied: tensorflow-io-gcs-filesystem>=0.23.1 in /usr/local/lib/python3.10/dist-packages (from tensorflow) (0.37.1)\n",
            "Requirement already satisfied: numpy<2.0.0,>=1.23.5 in /usr/local/lib/python3.10/dist-packages (from tensorflow) (1.26.4)\n",
            "Requirement already satisfied: wheel<1.0,>=0.23.0 in /usr/local/lib/python3.10/dist-packages (from astunparse>=1.6.0->tensorflow) (0.44.0)\n",
            "Requirement already satisfied: rich in /usr/local/lib/python3.10/dist-packages (from keras>=3.2.0->tensorflow) (13.9.3)\n",
            "Requirement already satisfied: namex in /usr/local/lib/python3.10/dist-packages (from keras>=3.2.0->tensorflow) (0.0.8)\n",
            "Requirement already satisfied: optree in /usr/local/lib/python3.10/dist-packages (from keras>=3.2.0->tensorflow) (0.13.0)\n",
            "Requirement already satisfied: charset-normalizer<4,>=2 in /usr/local/lib/python3.10/dist-packages (from requests<3,>=2.21.0->tensorflow) (3.4.0)\n",
            "Requirement already satisfied: idna<4,>=2.5 in /usr/local/lib/python3.10/dist-packages (from requests<3,>=2.21.0->tensorflow) (3.10)\n",
            "Requirement already satisfied: urllib3<3,>=1.21.1 in /usr/local/lib/python3.10/dist-packages (from requests<3,>=2.21.0->tensorflow) (2.2.3)\n",
            "Requirement already satisfied: certifi>=2017.4.17 in /usr/local/lib/python3.10/dist-packages (from requests<3,>=2.21.0->tensorflow) (2024.8.30)\n",
            "Requirement already satisfied: markdown>=2.6.8 in /usr/local/lib/python3.10/dist-packages (from tensorboard<2.18,>=2.17->tensorflow) (3.7)\n",
            "Requirement already satisfied: tensorboard-data-server<0.8.0,>=0.7.0 in /usr/local/lib/python3.10/dist-packages (from tensorboard<2.18,>=2.17->tensorflow) (0.7.2)\n",
            "Requirement already satisfied: werkzeug>=1.0.1 in /usr/local/lib/python3.10/dist-packages (from tensorboard<2.18,>=2.17->tensorflow) (3.0.6)\n",
            "Requirement already satisfied: MarkupSafe>=2.1.1 in /usr/local/lib/python3.10/dist-packages (from werkzeug>=1.0.1->tensorboard<2.18,>=2.17->tensorflow) (3.0.2)\n",
            "Requirement already satisfied: markdown-it-py>=2.2.0 in /usr/local/lib/python3.10/dist-packages (from rich->keras>=3.2.0->tensorflow) (3.0.0)\n",
            "Requirement already satisfied: pygments<3.0.0,>=2.13.0 in /usr/local/lib/python3.10/dist-packages (from rich->keras>=3.2.0->tensorflow) (2.18.0)\n",
            "Requirement already satisfied: mdurl~=0.1 in /usr/local/lib/python3.10/dist-packages (from markdown-it-py>=2.2.0->rich->keras>=3.2.0->tensorflow) (0.1.2)\n"
          ]
        }
      ],
      "source": [
        "!pip install tensorflow"
      ]
    },
    {
      "cell_type": "code",
      "source": [
        "import tensorflow as tf\n",
        "import numpy as np\n",
        "import pandas as pd\n",
        "import plotly.express as px\n",
        "\n",
        "tf.__version__"
      ],
      "metadata": {
        "colab": {
          "base_uri": "https://localhost:8080/",
          "height": 35
        },
        "id": "qzJwtlCn8A0l",
        "outputId": "0c4dfd3d-85d7-4934-8723-1a55ae7ddd1c"
      },
      "execution_count": 2,
      "outputs": [
        {
          "output_type": "execute_result",
          "data": {
            "text/plain": [
              "'2.17.0'"
            ],
            "application/vnd.google.colaboratory.intrinsic+json": {
              "type": "string"
            }
          },
          "metadata": {},
          "execution_count": 2
        }
      ]
    },
    {
      "cell_type": "markdown",
      "source": [
        "###First model"
      ],
      "metadata": {
        "id": "4AuQmxSl8tiC"
      }
    },
    {
      "cell_type": "code",
      "source": [
        "from tensorflow.keras.models import Sequential\n",
        "\n",
        "\n",
        "model = Sequential()\n",
        "print(model)"
      ],
      "metadata": {
        "colab": {
          "base_uri": "https://localhost:8080/"
        },
        "id": "49aNRN4B9BTX",
        "outputId": "49717a87-655b-4877-d77f-1159279d4b06"
      },
      "execution_count": 10,
      "outputs": [
        {
          "output_type": "stream",
          "name": "stdout",
          "text": [
            "<Sequential name=sequential_1, built=False>\n"
          ]
        }
      ]
    },
    {
      "cell_type": "code",
      "source": [
        "from tensorflow.keras.layers import Dense\n",
        "\n",
        "model.add(Dense(units=4, input_shape=(10,)))"
      ],
      "metadata": {
        "id": "U_AjwFeJ9Nqh"
      },
      "execution_count": 12,
      "outputs": []
    },
    {
      "cell_type": "code",
      "source": [
        "model.summary()"
      ],
      "metadata": {
        "colab": {
          "base_uri": "https://localhost:8080/",
          "height": 170
        },
        "id": "2GPTRXtd9qwf",
        "outputId": "a403d534-7fea-4328-9982-9f181f235852"
      },
      "execution_count": 13,
      "outputs": [
        {
          "output_type": "display_data",
          "data": {
            "text/plain": [
              "\u001b[1mModel: \"sequential_1\"\u001b[0m\n"
            ],
            "text/html": [
              "<pre style=\"white-space:pre;overflow-x:auto;line-height:normal;font-family:Menlo,'DejaVu Sans Mono',consolas,'Courier New',monospace\"><span style=\"font-weight: bold\">Model: \"sequential_1\"</span>\n",
              "</pre>\n"
            ]
          },
          "metadata": {}
        },
        {
          "output_type": "display_data",
          "data": {
            "text/plain": [
              "┏━━━━━━━━━━━━━━━━━━━━━━━━━━━━━━━━━━━━━━┳━━━━━━━━━━━━━━━━━━━━━━━━━━━━━┳━━━━━━━━━━━━━━━━━┓\n",
              "┃\u001b[1m \u001b[0m\u001b[1mLayer (type)                        \u001b[0m\u001b[1m \u001b[0m┃\u001b[1m \u001b[0m\u001b[1mOutput Shape               \u001b[0m\u001b[1m \u001b[0m┃\u001b[1m \u001b[0m\u001b[1m        Param #\u001b[0m\u001b[1m \u001b[0m┃\n",
              "┡━━━━━━━━━━━━━━━━━━━━━━━━━━━━━━━━━━━━━━╇━━━━━━━━━━━━━━━━━━━━━━━━━━━━━╇━━━━━━━━━━━━━━━━━┩\n",
              "│ dense_3 (\u001b[38;5;33mDense\u001b[0m)                      │ (\u001b[38;5;45mNone\u001b[0m, \u001b[38;5;34m4\u001b[0m)                   │              \u001b[38;5;34m44\u001b[0m │\n",
              "└──────────────────────────────────────┴─────────────────────────────┴─────────────────┘\n"
            ],
            "text/html": [
              "<pre style=\"white-space:pre;overflow-x:auto;line-height:normal;font-family:Menlo,'DejaVu Sans Mono',consolas,'Courier New',monospace\">┏━━━━━━━━━━━━━━━━━━━━━━━━━━━━━━━━━━━━━━┳━━━━━━━━━━━━━━━━━━━━━━━━━━━━━┳━━━━━━━━━━━━━━━━━┓\n",
              "┃<span style=\"font-weight: bold\"> Layer (type)                         </span>┃<span style=\"font-weight: bold\"> Output Shape                </span>┃<span style=\"font-weight: bold\">         Param # </span>┃\n",
              "┡━━━━━━━━━━━━━━━━━━━━━━━━━━━━━━━━━━━━━━╇━━━━━━━━━━━━━━━━━━━━━━━━━━━━━╇━━━━━━━━━━━━━━━━━┩\n",
              "│ dense_3 (<span style=\"color: #0087ff; text-decoration-color: #0087ff\">Dense</span>)                      │ (<span style=\"color: #00d7ff; text-decoration-color: #00d7ff\">None</span>, <span style=\"color: #00af00; text-decoration-color: #00af00\">4</span>)                   │              <span style=\"color: #00af00; text-decoration-color: #00af00\">44</span> │\n",
              "└──────────────────────────────────────┴─────────────────────────────┴─────────────────┘\n",
              "</pre>\n"
            ]
          },
          "metadata": {}
        },
        {
          "output_type": "display_data",
          "data": {
            "text/plain": [
              "\u001b[1m Total params: \u001b[0m\u001b[38;5;34m44\u001b[0m (176.00 B)\n"
            ],
            "text/html": [
              "<pre style=\"white-space:pre;overflow-x:auto;line-height:normal;font-family:Menlo,'DejaVu Sans Mono',consolas,'Courier New',monospace\"><span style=\"font-weight: bold\"> Total params: </span><span style=\"color: #00af00; text-decoration-color: #00af00\">44</span> (176.00 B)\n",
              "</pre>\n"
            ]
          },
          "metadata": {}
        },
        {
          "output_type": "display_data",
          "data": {
            "text/plain": [
              "\u001b[1m Trainable params: \u001b[0m\u001b[38;5;34m44\u001b[0m (176.00 B)\n"
            ],
            "text/html": [
              "<pre style=\"white-space:pre;overflow-x:auto;line-height:normal;font-family:Menlo,'DejaVu Sans Mono',consolas,'Courier New',monospace\"><span style=\"font-weight: bold\"> Trainable params: </span><span style=\"color: #00af00; text-decoration-color: #00af00\">44</span> (176.00 B)\n",
              "</pre>\n"
            ]
          },
          "metadata": {}
        },
        {
          "output_type": "display_data",
          "data": {
            "text/plain": [
              "\u001b[1m Non-trainable params: \u001b[0m\u001b[38;5;34m0\u001b[0m (0.00 B)\n"
            ],
            "text/html": [
              "<pre style=\"white-space:pre;overflow-x:auto;line-height:normal;font-family:Menlo,'DejaVu Sans Mono',consolas,'Courier New',monospace\"><span style=\"font-weight: bold\"> Non-trainable params: </span><span style=\"color: #00af00; text-decoration-color: #00af00\">0</span> (0.00 B)\n",
              "</pre>\n"
            ]
          },
          "metadata": {}
        }
      ]
    },
    {
      "cell_type": "code",
      "source": [
        "model.add(Dense(units=2))\n",
        "\n",
        "model.summary()"
      ],
      "metadata": {
        "colab": {
          "base_uri": "https://localhost:8080/",
          "height": 204
        },
        "id": "rHs6HtIY-BkP",
        "outputId": "58d7d4f6-3a3d-4916-9ced-05cc8a395e48"
      },
      "execution_count": 14,
      "outputs": [
        {
          "output_type": "display_data",
          "data": {
            "text/plain": [
              "\u001b[1mModel: \"sequential_1\"\u001b[0m\n"
            ],
            "text/html": [
              "<pre style=\"white-space:pre;overflow-x:auto;line-height:normal;font-family:Menlo,'DejaVu Sans Mono',consolas,'Courier New',monospace\"><span style=\"font-weight: bold\">Model: \"sequential_1\"</span>\n",
              "</pre>\n"
            ]
          },
          "metadata": {}
        },
        {
          "output_type": "display_data",
          "data": {
            "text/plain": [
              "┏━━━━━━━━━━━━━━━━━━━━━━━━━━━━━━━━━━━━━━┳━━━━━━━━━━━━━━━━━━━━━━━━━━━━━┳━━━━━━━━━━━━━━━━━┓\n",
              "┃\u001b[1m \u001b[0m\u001b[1mLayer (type)                        \u001b[0m\u001b[1m \u001b[0m┃\u001b[1m \u001b[0m\u001b[1mOutput Shape               \u001b[0m\u001b[1m \u001b[0m┃\u001b[1m \u001b[0m\u001b[1m        Param #\u001b[0m\u001b[1m \u001b[0m┃\n",
              "┡━━━━━━━━━━━━━━━━━━━━━━━━━━━━━━━━━━━━━━╇━━━━━━━━━━━━━━━━━━━━━━━━━━━━━╇━━━━━━━━━━━━━━━━━┩\n",
              "│ dense_3 (\u001b[38;5;33mDense\u001b[0m)                      │ (\u001b[38;5;45mNone\u001b[0m, \u001b[38;5;34m4\u001b[0m)                   │              \u001b[38;5;34m44\u001b[0m │\n",
              "├──────────────────────────────────────┼─────────────────────────────┼─────────────────┤\n",
              "│ dense_4 (\u001b[38;5;33mDense\u001b[0m)                      │ (\u001b[38;5;45mNone\u001b[0m, \u001b[38;5;34m2\u001b[0m)                   │              \u001b[38;5;34m10\u001b[0m │\n",
              "└──────────────────────────────────────┴─────────────────────────────┴─────────────────┘\n"
            ],
            "text/html": [
              "<pre style=\"white-space:pre;overflow-x:auto;line-height:normal;font-family:Menlo,'DejaVu Sans Mono',consolas,'Courier New',monospace\">┏━━━━━━━━━━━━━━━━━━━━━━━━━━━━━━━━━━━━━━┳━━━━━━━━━━━━━━━━━━━━━━━━━━━━━┳━━━━━━━━━━━━━━━━━┓\n",
              "┃<span style=\"font-weight: bold\"> Layer (type)                         </span>┃<span style=\"font-weight: bold\"> Output Shape                </span>┃<span style=\"font-weight: bold\">         Param # </span>┃\n",
              "┡━━━━━━━━━━━━━━━━━━━━━━━━━━━━━━━━━━━━━━╇━━━━━━━━━━━━━━━━━━━━━━━━━━━━━╇━━━━━━━━━━━━━━━━━┩\n",
              "│ dense_3 (<span style=\"color: #0087ff; text-decoration-color: #0087ff\">Dense</span>)                      │ (<span style=\"color: #00d7ff; text-decoration-color: #00d7ff\">None</span>, <span style=\"color: #00af00; text-decoration-color: #00af00\">4</span>)                   │              <span style=\"color: #00af00; text-decoration-color: #00af00\">44</span> │\n",
              "├──────────────────────────────────────┼─────────────────────────────┼─────────────────┤\n",
              "│ dense_4 (<span style=\"color: #0087ff; text-decoration-color: #0087ff\">Dense</span>)                      │ (<span style=\"color: #00d7ff; text-decoration-color: #00d7ff\">None</span>, <span style=\"color: #00af00; text-decoration-color: #00af00\">2</span>)                   │              <span style=\"color: #00af00; text-decoration-color: #00af00\">10</span> │\n",
              "└──────────────────────────────────────┴─────────────────────────────┴─────────────────┘\n",
              "</pre>\n"
            ]
          },
          "metadata": {}
        },
        {
          "output_type": "display_data",
          "data": {
            "text/plain": [
              "\u001b[1m Total params: \u001b[0m\u001b[38;5;34m54\u001b[0m (216.00 B)\n"
            ],
            "text/html": [
              "<pre style=\"white-space:pre;overflow-x:auto;line-height:normal;font-family:Menlo,'DejaVu Sans Mono',consolas,'Courier New',monospace\"><span style=\"font-weight: bold\"> Total params: </span><span style=\"color: #00af00; text-decoration-color: #00af00\">54</span> (216.00 B)\n",
              "</pre>\n"
            ]
          },
          "metadata": {}
        },
        {
          "output_type": "display_data",
          "data": {
            "text/plain": [
              "\u001b[1m Trainable params: \u001b[0m\u001b[38;5;34m54\u001b[0m (216.00 B)\n"
            ],
            "text/html": [
              "<pre style=\"white-space:pre;overflow-x:auto;line-height:normal;font-family:Menlo,'DejaVu Sans Mono',consolas,'Courier New',monospace\"><span style=\"font-weight: bold\"> Trainable params: </span><span style=\"color: #00af00; text-decoration-color: #00af00\">54</span> (216.00 B)\n",
              "</pre>\n"
            ]
          },
          "metadata": {}
        },
        {
          "output_type": "display_data",
          "data": {
            "text/plain": [
              "\u001b[1m Non-trainable params: \u001b[0m\u001b[38;5;34m0\u001b[0m (0.00 B)\n"
            ],
            "text/html": [
              "<pre style=\"white-space:pre;overflow-x:auto;line-height:normal;font-family:Menlo,'DejaVu Sans Mono',consolas,'Courier New',monospace\"><span style=\"font-weight: bold\"> Non-trainable params: </span><span style=\"color: #00af00; text-decoration-color: #00af00\">0</span> (0.00 B)\n",
              "</pre>\n"
            ]
          },
          "metadata": {}
        }
      ]
    },
    {
      "cell_type": "markdown",
      "source": [
        "###Activaiton function"
      ],
      "metadata": {
        "id": "KKUUH2mn_9po"
      }
    },
    {
      "cell_type": "code",
      "source": [
        "from tensorflow.keras.activations import linear\n",
        "\n",
        "random_data = sorted(np.random.randn(200))\n",
        "data = pd.DataFrame({'data': random_data, 'linear': linear(random_data)})\n",
        "\n",
        "data.head()\n"
      ],
      "metadata": {
        "colab": {
          "base_uri": "https://localhost:8080/",
          "height": 206
        },
        "id": "5EzvsIW0AAHm",
        "outputId": "d4368b75-d822-4e50-d067-0f0573cb86e5"
      },
      "execution_count": 15,
      "outputs": [
        {
          "output_type": "execute_result",
          "data": {
            "text/plain": [
              "       data    linear\n",
              "0 -3.507426 -3.507426\n",
              "1 -3.225191 -3.225191\n",
              "2 -2.139934 -2.139934\n",
              "3 -2.063813 -2.063813\n",
              "4 -1.779344 -1.779344"
            ],
            "text/html": [
              "\n",
              "  <div id=\"df-f157a500-33fa-47c1-af06-1a14dd5645b2\" class=\"colab-df-container\">\n",
              "    <div>\n",
              "<style scoped>\n",
              "    .dataframe tbody tr th:only-of-type {\n",
              "        vertical-align: middle;\n",
              "    }\n",
              "\n",
              "    .dataframe tbody tr th {\n",
              "        vertical-align: top;\n",
              "    }\n",
              "\n",
              "    .dataframe thead th {\n",
              "        text-align: right;\n",
              "    }\n",
              "</style>\n",
              "<table border=\"1\" class=\"dataframe\">\n",
              "  <thead>\n",
              "    <tr style=\"text-align: right;\">\n",
              "      <th></th>\n",
              "      <th>data</th>\n",
              "      <th>linear</th>\n",
              "    </tr>\n",
              "  </thead>\n",
              "  <tbody>\n",
              "    <tr>\n",
              "      <th>0</th>\n",
              "      <td>-3.507426</td>\n",
              "      <td>-3.507426</td>\n",
              "    </tr>\n",
              "    <tr>\n",
              "      <th>1</th>\n",
              "      <td>-3.225191</td>\n",
              "      <td>-3.225191</td>\n",
              "    </tr>\n",
              "    <tr>\n",
              "      <th>2</th>\n",
              "      <td>-2.139934</td>\n",
              "      <td>-2.139934</td>\n",
              "    </tr>\n",
              "    <tr>\n",
              "      <th>3</th>\n",
              "      <td>-2.063813</td>\n",
              "      <td>-2.063813</td>\n",
              "    </tr>\n",
              "    <tr>\n",
              "      <th>4</th>\n",
              "      <td>-1.779344</td>\n",
              "      <td>-1.779344</td>\n",
              "    </tr>\n",
              "  </tbody>\n",
              "</table>\n",
              "</div>\n",
              "    <div class=\"colab-df-buttons\">\n",
              "\n",
              "  <div class=\"colab-df-container\">\n",
              "    <button class=\"colab-df-convert\" onclick=\"convertToInteractive('df-f157a500-33fa-47c1-af06-1a14dd5645b2')\"\n",
              "            title=\"Convert this dataframe to an interactive table.\"\n",
              "            style=\"display:none;\">\n",
              "\n",
              "  <svg xmlns=\"http://www.w3.org/2000/svg\" height=\"24px\" viewBox=\"0 -960 960 960\">\n",
              "    <path d=\"M120-120v-720h720v720H120Zm60-500h600v-160H180v160Zm220 220h160v-160H400v160Zm0 220h160v-160H400v160ZM180-400h160v-160H180v160Zm440 0h160v-160H620v160ZM180-180h160v-160H180v160Zm440 0h160v-160H620v160Z\"/>\n",
              "  </svg>\n",
              "    </button>\n",
              "\n",
              "  <style>\n",
              "    .colab-df-container {\n",
              "      display:flex;\n",
              "      gap: 12px;\n",
              "    }\n",
              "\n",
              "    .colab-df-convert {\n",
              "      background-color: #E8F0FE;\n",
              "      border: none;\n",
              "      border-radius: 50%;\n",
              "      cursor: pointer;\n",
              "      display: none;\n",
              "      fill: #1967D2;\n",
              "      height: 32px;\n",
              "      padding: 0 0 0 0;\n",
              "      width: 32px;\n",
              "    }\n",
              "\n",
              "    .colab-df-convert:hover {\n",
              "      background-color: #E2EBFA;\n",
              "      box-shadow: 0px 1px 2px rgba(60, 64, 67, 0.3), 0px 1px 3px 1px rgba(60, 64, 67, 0.15);\n",
              "      fill: #174EA6;\n",
              "    }\n",
              "\n",
              "    .colab-df-buttons div {\n",
              "      margin-bottom: 4px;\n",
              "    }\n",
              "\n",
              "    [theme=dark] .colab-df-convert {\n",
              "      background-color: #3B4455;\n",
              "      fill: #D2E3FC;\n",
              "    }\n",
              "\n",
              "    [theme=dark] .colab-df-convert:hover {\n",
              "      background-color: #434B5C;\n",
              "      box-shadow: 0px 1px 3px 1px rgba(0, 0, 0, 0.15);\n",
              "      filter: drop-shadow(0px 1px 2px rgba(0, 0, 0, 0.3));\n",
              "      fill: #FFFFFF;\n",
              "    }\n",
              "  </style>\n",
              "\n",
              "    <script>\n",
              "      const buttonEl =\n",
              "        document.querySelector('#df-f157a500-33fa-47c1-af06-1a14dd5645b2 button.colab-df-convert');\n",
              "      buttonEl.style.display =\n",
              "        google.colab.kernel.accessAllowed ? 'block' : 'none';\n",
              "\n",
              "      async function convertToInteractive(key) {\n",
              "        const element = document.querySelector('#df-f157a500-33fa-47c1-af06-1a14dd5645b2');\n",
              "        const dataTable =\n",
              "          await google.colab.kernel.invokeFunction('convertToInteractive',\n",
              "                                                    [key], {});\n",
              "        if (!dataTable) return;\n",
              "\n",
              "        const docLinkHtml = 'Like what you see? Visit the ' +\n",
              "          '<a target=\"_blank\" href=https://colab.research.google.com/notebooks/data_table.ipynb>data table notebook</a>'\n",
              "          + ' to learn more about interactive tables.';\n",
              "        element.innerHTML = '';\n",
              "        dataTable['output_type'] = 'display_data';\n",
              "        await google.colab.output.renderOutput(dataTable, element);\n",
              "        const docLink = document.createElement('div');\n",
              "        docLink.innerHTML = docLinkHtml;\n",
              "        element.appendChild(docLink);\n",
              "      }\n",
              "    </script>\n",
              "  </div>\n",
              "\n",
              "\n",
              "<div id=\"df-011fbf92-7f84-47d0-990d-789e2aeac0a5\">\n",
              "  <button class=\"colab-df-quickchart\" onclick=\"quickchart('df-011fbf92-7f84-47d0-990d-789e2aeac0a5')\"\n",
              "            title=\"Suggest charts\"\n",
              "            style=\"display:none;\">\n",
              "\n",
              "<svg xmlns=\"http://www.w3.org/2000/svg\" height=\"24px\"viewBox=\"0 0 24 24\"\n",
              "     width=\"24px\">\n",
              "    <g>\n",
              "        <path d=\"M19 3H5c-1.1 0-2 .9-2 2v14c0 1.1.9 2 2 2h14c1.1 0 2-.9 2-2V5c0-1.1-.9-2-2-2zM9 17H7v-7h2v7zm4 0h-2V7h2v10zm4 0h-2v-4h2v4z\"/>\n",
              "    </g>\n",
              "</svg>\n",
              "  </button>\n",
              "\n",
              "<style>\n",
              "  .colab-df-quickchart {\n",
              "      --bg-color: #E8F0FE;\n",
              "      --fill-color: #1967D2;\n",
              "      --hover-bg-color: #E2EBFA;\n",
              "      --hover-fill-color: #174EA6;\n",
              "      --disabled-fill-color: #AAA;\n",
              "      --disabled-bg-color: #DDD;\n",
              "  }\n",
              "\n",
              "  [theme=dark] .colab-df-quickchart {\n",
              "      --bg-color: #3B4455;\n",
              "      --fill-color: #D2E3FC;\n",
              "      --hover-bg-color: #434B5C;\n",
              "      --hover-fill-color: #FFFFFF;\n",
              "      --disabled-bg-color: #3B4455;\n",
              "      --disabled-fill-color: #666;\n",
              "  }\n",
              "\n",
              "  .colab-df-quickchart {\n",
              "    background-color: var(--bg-color);\n",
              "    border: none;\n",
              "    border-radius: 50%;\n",
              "    cursor: pointer;\n",
              "    display: none;\n",
              "    fill: var(--fill-color);\n",
              "    height: 32px;\n",
              "    padding: 0;\n",
              "    width: 32px;\n",
              "  }\n",
              "\n",
              "  .colab-df-quickchart:hover {\n",
              "    background-color: var(--hover-bg-color);\n",
              "    box-shadow: 0 1px 2px rgba(60, 64, 67, 0.3), 0 1px 3px 1px rgba(60, 64, 67, 0.15);\n",
              "    fill: var(--button-hover-fill-color);\n",
              "  }\n",
              "\n",
              "  .colab-df-quickchart-complete:disabled,\n",
              "  .colab-df-quickchart-complete:disabled:hover {\n",
              "    background-color: var(--disabled-bg-color);\n",
              "    fill: var(--disabled-fill-color);\n",
              "    box-shadow: none;\n",
              "  }\n",
              "\n",
              "  .colab-df-spinner {\n",
              "    border: 2px solid var(--fill-color);\n",
              "    border-color: transparent;\n",
              "    border-bottom-color: var(--fill-color);\n",
              "    animation:\n",
              "      spin 1s steps(1) infinite;\n",
              "  }\n",
              "\n",
              "  @keyframes spin {\n",
              "    0% {\n",
              "      border-color: transparent;\n",
              "      border-bottom-color: var(--fill-color);\n",
              "      border-left-color: var(--fill-color);\n",
              "    }\n",
              "    20% {\n",
              "      border-color: transparent;\n",
              "      border-left-color: var(--fill-color);\n",
              "      border-top-color: var(--fill-color);\n",
              "    }\n",
              "    30% {\n",
              "      border-color: transparent;\n",
              "      border-left-color: var(--fill-color);\n",
              "      border-top-color: var(--fill-color);\n",
              "      border-right-color: var(--fill-color);\n",
              "    }\n",
              "    40% {\n",
              "      border-color: transparent;\n",
              "      border-right-color: var(--fill-color);\n",
              "      border-top-color: var(--fill-color);\n",
              "    }\n",
              "    60% {\n",
              "      border-color: transparent;\n",
              "      border-right-color: var(--fill-color);\n",
              "    }\n",
              "    80% {\n",
              "      border-color: transparent;\n",
              "      border-right-color: var(--fill-color);\n",
              "      border-bottom-color: var(--fill-color);\n",
              "    }\n",
              "    90% {\n",
              "      border-color: transparent;\n",
              "      border-bottom-color: var(--fill-color);\n",
              "    }\n",
              "  }\n",
              "</style>\n",
              "\n",
              "  <script>\n",
              "    async function quickchart(key) {\n",
              "      const quickchartButtonEl =\n",
              "        document.querySelector('#' + key + ' button');\n",
              "      quickchartButtonEl.disabled = true;  // To prevent multiple clicks.\n",
              "      quickchartButtonEl.classList.add('colab-df-spinner');\n",
              "      try {\n",
              "        const charts = await google.colab.kernel.invokeFunction(\n",
              "            'suggestCharts', [key], {});\n",
              "      } catch (error) {\n",
              "        console.error('Error during call to suggestCharts:', error);\n",
              "      }\n",
              "      quickchartButtonEl.classList.remove('colab-df-spinner');\n",
              "      quickchartButtonEl.classList.add('colab-df-quickchart-complete');\n",
              "    }\n",
              "    (() => {\n",
              "      let quickchartButtonEl =\n",
              "        document.querySelector('#df-011fbf92-7f84-47d0-990d-789e2aeac0a5 button');\n",
              "      quickchartButtonEl.style.display =\n",
              "        google.colab.kernel.accessAllowed ? 'block' : 'none';\n",
              "    })();\n",
              "  </script>\n",
              "</div>\n",
              "\n",
              "    </div>\n",
              "  </div>\n"
            ],
            "application/vnd.google.colaboratory.intrinsic+json": {
              "type": "dataframe",
              "variable_name": "data",
              "summary": "{\n  \"name\": \"data\",\n  \"rows\": 200,\n  \"fields\": [\n    {\n      \"column\": \"data\",\n      \"properties\": {\n        \"dtype\": \"number\",\n        \"std\": 1.1038419663083556,\n        \"min\": -3.5074255088885278,\n        \"max\": 4.307193003214911,\n        \"num_unique_values\": 200,\n        \"samples\": [\n          -0.10948105146285327,\n          -1.3234207069620831,\n          -1.0075493768429242\n        ],\n        \"semantic_type\": \"\",\n        \"description\": \"\"\n      }\n    },\n    {\n      \"column\": \"linear\",\n      \"properties\": {\n        \"dtype\": \"number\",\n        \"std\": 1.1038419663083556,\n        \"min\": -3.5074255088885278,\n        \"max\": 4.307193003214911,\n        \"num_unique_values\": 200,\n        \"samples\": [\n          -0.10948105146285327,\n          -1.3234207069620831,\n          -1.0075493768429242\n        ],\n        \"semantic_type\": \"\",\n        \"description\": \"\"\n      }\n    }\n  ]\n}"
            }
          },
          "metadata": {},
          "execution_count": 15
        }
      ]
    },
    {
      "cell_type": "code",
      "source": [
        "px.line(data, x='data', y='linear', width=800, range_y=[-2,2])"
      ],
      "metadata": {
        "colab": {
          "base_uri": "https://localhost:8080/",
          "height": 542
        },
        "id": "0cQn2CnOArT2",
        "outputId": "8be58a86-8824-4e83-b840-81868571bd72"
      },
      "execution_count": 16,
      "outputs": [
        {
          "output_type": "display_data",
          "data": {
            "text/html": [
              "<html>\n",
              "<head><meta charset=\"utf-8\" /></head>\n",
              "<body>\n",
              "    <div>            <script src=\"https://cdnjs.cloudflare.com/ajax/libs/mathjax/2.7.5/MathJax.js?config=TeX-AMS-MML_SVG\"></script><script type=\"text/javascript\">if (window.MathJax && window.MathJax.Hub && window.MathJax.Hub.Config) {window.MathJax.Hub.Config({SVG: {font: \"STIX-Web\"}});}</script>                <script type=\"text/javascript\">window.PlotlyConfig = {MathJaxConfig: 'local'};</script>\n",
              "        <script charset=\"utf-8\" src=\"https://cdn.plot.ly/plotly-2.35.2.min.js\"></script>                <div id=\"aec9aaeb-1a40-4f7a-852b-ca1d692d0ea7\" class=\"plotly-graph-div\" style=\"height:525px; width:800px;\"></div>            <script type=\"text/javascript\">                                    window.PLOTLYENV=window.PLOTLYENV || {};                                    if (document.getElementById(\"aec9aaeb-1a40-4f7a-852b-ca1d692d0ea7\")) {                    Plotly.newPlot(                        \"aec9aaeb-1a40-4f7a-852b-ca1d692d0ea7\",                        [{\"hovertemplate\":\"data=%{x}\\u003cbr\\u003elinear=%{y}\\u003cextra\\u003e\\u003c\\u002fextra\\u003e\",\"legendgroup\":\"\",\"line\":{\"color\":\"#636efa\",\"dash\":\"solid\"},\"marker\":{\"symbol\":\"circle\"},\"mode\":\"lines\",\"name\":\"\",\"orientation\":\"v\",\"showlegend\":false,\"x\":[-3.5074255088885278,-3.225191205015588,-2.1399342403115864,-2.063812888615415,-1.7793439318953006,-1.7294969235760207,-1.7162714604579172,-1.5724324085182049,-1.5423754778370404,-1.5172687161146918,-1.4900716318374223,-1.4873968233254276,-1.4832740492234084,-1.4028126049402103,-1.3800827950026882,-1.3234207069620831,-1.25618158721083,-1.246436371714852,-1.2190668733573133,-1.2106942112129069,-1.184663182244933,-1.160876263711975,-1.1524356786338437,-1.1325823261387262,-1.1162569897540089,-1.1101869810203977,-1.069560810824218,-1.061000692881865,-1.039096326393344,-1.0085285987476438,-1.0075493768429242,-1.0074227165565226,-0.9845636643082579,-0.9811004095590965,-0.9755045286578848,-0.9570640372143526,-0.9458179118948215,-0.9447161166147637,-0.9141505140676225,-0.9131795232309212,-0.9088391720687641,-0.908207706931205,-0.8753804246421873,-0.8633753174190615,-0.8578478161012013,-0.8567740162828876,-0.8389958952671367,-0.8207418329989028,-0.820562803599579,-0.7751813151240169,-0.7309780017002167,-0.7236047490461465,-0.713677587426961,-0.7014611747343968,-0.6909157055869707,-0.6878365752055955,-0.6807518012326906,-0.678351136665018,-0.6642981572723744,-0.656784904145831,-0.635325522872122,-0.6196062647245283,-0.6166350662271824,-0.5983836098117571,-0.5939365899995087,-0.5700338223426226,-0.5570092265195585,-0.5508405262793523,-0.5429786617820511,-0.5415269793249798,-0.5369630544463387,-0.5353437978794989,-0.5099050810283615,-0.5011758168849515,-0.4753939409507489,-0.4511325031107331,-0.40601015898276416,-0.379667187579384,-0.2756823500841692,-0.2604844784739425,-0.2458332800164318,-0.21425491412170003,-0.21273538740735554,-0.20527177889520304,-0.18529700381396352,-0.16962780093622015,-0.16915811132749223,-0.16514936105537997,-0.16413107916906097,-0.1482575995721287,-0.1401731269823302,-0.1366212754419683,-0.13521062351275392,-0.12830787201030744,-0.11056786389618303,-0.10948105146285327,-0.09175880214501095,-0.07934074039939484,-0.06122920117419835,-0.025706238745775087,-0.0032038872102235433,0.003939432210441234,0.03307868433054496,0.035654816452653594,0.04686774580995259,0.06423144395111921,0.07716798072504426,0.1097946716959674,0.11150747166803354,0.11487705612531326,0.13057075359231965,0.16072962900748508,0.17470161205967447,0.17759569382024581,0.2171221220340774,0.27287756609521097,0.27588502864271724,0.2826487087347067,0.29888966382187676,0.30846171118326554,0.32042804705344036,0.3225373184535627,0.3441125975757539,0.35784262224775326,0.36434286713027664,0.3690267156492004,0.37057201409998364,0.3739639982427987,0.41317831095086166,0.4237419325605704,0.4569231422343919,0.4678146378367534,0.4703462738333403,0.4919487998240702,0.49207503115561424,0.5534551080399767,0.582058033791853,0.6032559384573775,0.603559462930989,0.605790281765122,0.6059187456498843,0.6266755310260784,0.6382795215338704,0.6459969595391063,0.6463180664599424,0.6653237685841447,0.680772659065951,0.6876658299792308,0.6902231307083014,0.6919186433159387,0.7056426663914096,0.8120662056603009,0.8120874756272967,0.8214116540034336,0.8824912533602722,0.9026905941865744,0.9171259458776045,0.9308864833195892,0.9478688587579538,0.9578561570026346,0.9608103607704526,1.001623988525304,1.0369352418280733,1.0389344614173726,1.1154122946494676,1.1176410826432654,1.1287086972647258,1.1594029401826902,1.2026253543584393,1.2113166981462449,1.2177497901907304,1.2594699409216765,1.2715383514086072,1.3034970961409413,1.3361932160329522,1.3385658507809184,1.3527471571382312,1.3733796893810915,1.3821053233151874,1.4154275015973834,1.4407676226810673,1.4981114021304953,1.5014131719313464,1.5425762032700503,1.5514277570227686,1.655256074343839,1.7654044860947293,1.7661960387812614,1.8441574500364264,1.9111146004558306,1.979514686627158,1.9921462231256881,2.013063775547493,2.1008531249950217,2.2175763551623797,2.2716412616511943,2.37426200041698,2.4793684404404046,2.5758634972071373,4.307193003214911],\"xaxis\":\"x\",\"y\":[-3.5074255088885278,-3.225191205015588,-2.1399342403115864,-2.063812888615415,-1.7793439318953006,-1.7294969235760207,-1.7162714604579172,-1.5724324085182049,-1.5423754778370404,-1.5172687161146918,-1.4900716318374223,-1.4873968233254276,-1.4832740492234084,-1.4028126049402103,-1.3800827950026882,-1.3234207069620831,-1.25618158721083,-1.246436371714852,-1.2190668733573133,-1.2106942112129069,-1.184663182244933,-1.160876263711975,-1.1524356786338437,-1.1325823261387262,-1.1162569897540089,-1.1101869810203977,-1.069560810824218,-1.061000692881865,-1.039096326393344,-1.0085285987476438,-1.0075493768429242,-1.0074227165565226,-0.9845636643082579,-0.9811004095590965,-0.9755045286578848,-0.9570640372143526,-0.9458179118948215,-0.9447161166147637,-0.9141505140676225,-0.9131795232309212,-0.9088391720687641,-0.908207706931205,-0.8753804246421873,-0.8633753174190615,-0.8578478161012013,-0.8567740162828876,-0.8389958952671367,-0.8207418329989028,-0.820562803599579,-0.7751813151240169,-0.7309780017002167,-0.7236047490461465,-0.713677587426961,-0.7014611747343968,-0.6909157055869707,-0.6878365752055955,-0.6807518012326906,-0.678351136665018,-0.6642981572723744,-0.656784904145831,-0.635325522872122,-0.6196062647245283,-0.6166350662271824,-0.5983836098117571,-0.5939365899995087,-0.5700338223426226,-0.5570092265195585,-0.5508405262793523,-0.5429786617820511,-0.5415269793249798,-0.5369630544463387,-0.5353437978794989,-0.5099050810283615,-0.5011758168849515,-0.4753939409507489,-0.4511325031107331,-0.40601015898276416,-0.379667187579384,-0.2756823500841692,-0.2604844784739425,-0.2458332800164318,-0.21425491412170003,-0.21273538740735554,-0.20527177889520304,-0.18529700381396352,-0.16962780093622015,-0.16915811132749223,-0.16514936105537997,-0.16413107916906097,-0.1482575995721287,-0.1401731269823302,-0.1366212754419683,-0.13521062351275392,-0.12830787201030744,-0.11056786389618303,-0.10948105146285327,-0.09175880214501095,-0.07934074039939484,-0.06122920117419835,-0.025706238745775087,-0.0032038872102235433,0.003939432210441234,0.03307868433054496,0.035654816452653594,0.04686774580995259,0.06423144395111921,0.07716798072504426,0.1097946716959674,0.11150747166803354,0.11487705612531326,0.13057075359231965,0.16072962900748508,0.17470161205967447,0.17759569382024581,0.2171221220340774,0.27287756609521097,0.27588502864271724,0.2826487087347067,0.29888966382187676,0.30846171118326554,0.32042804705344036,0.3225373184535627,0.3441125975757539,0.35784262224775326,0.36434286713027664,0.3690267156492004,0.37057201409998364,0.3739639982427987,0.41317831095086166,0.4237419325605704,0.4569231422343919,0.4678146378367534,0.4703462738333403,0.4919487998240702,0.49207503115561424,0.5534551080399767,0.582058033791853,0.6032559384573775,0.603559462930989,0.605790281765122,0.6059187456498843,0.6266755310260784,0.6382795215338704,0.6459969595391063,0.6463180664599424,0.6653237685841447,0.680772659065951,0.6876658299792308,0.6902231307083014,0.6919186433159387,0.7056426663914096,0.8120662056603009,0.8120874756272967,0.8214116540034336,0.8824912533602722,0.9026905941865744,0.9171259458776045,0.9308864833195892,0.9478688587579538,0.9578561570026346,0.9608103607704526,1.001623988525304,1.0369352418280733,1.0389344614173726,1.1154122946494676,1.1176410826432654,1.1287086972647258,1.1594029401826902,1.2026253543584393,1.2113166981462449,1.2177497901907304,1.2594699409216765,1.2715383514086072,1.3034970961409413,1.3361932160329522,1.3385658507809184,1.3527471571382312,1.3733796893810915,1.3821053233151874,1.4154275015973834,1.4407676226810673,1.4981114021304953,1.5014131719313464,1.5425762032700503,1.5514277570227686,1.655256074343839,1.7654044860947293,1.7661960387812614,1.8441574500364264,1.9111146004558306,1.979514686627158,1.9921462231256881,2.013063775547493,2.1008531249950217,2.2175763551623797,2.2716412616511943,2.37426200041698,2.4793684404404046,2.5758634972071373,4.307193003214911],\"yaxis\":\"y\",\"type\":\"scatter\"}],                        {\"template\":{\"data\":{\"histogram2dcontour\":[{\"type\":\"histogram2dcontour\",\"colorbar\":{\"outlinewidth\":0,\"ticks\":\"\"},\"colorscale\":[[0.0,\"#0d0887\"],[0.1111111111111111,\"#46039f\"],[0.2222222222222222,\"#7201a8\"],[0.3333333333333333,\"#9c179e\"],[0.4444444444444444,\"#bd3786\"],[0.5555555555555556,\"#d8576b\"],[0.6666666666666666,\"#ed7953\"],[0.7777777777777778,\"#fb9f3a\"],[0.8888888888888888,\"#fdca26\"],[1.0,\"#f0f921\"]]}],\"choropleth\":[{\"type\":\"choropleth\",\"colorbar\":{\"outlinewidth\":0,\"ticks\":\"\"}}],\"histogram2d\":[{\"type\":\"histogram2d\",\"colorbar\":{\"outlinewidth\":0,\"ticks\":\"\"},\"colorscale\":[[0.0,\"#0d0887\"],[0.1111111111111111,\"#46039f\"],[0.2222222222222222,\"#7201a8\"],[0.3333333333333333,\"#9c179e\"],[0.4444444444444444,\"#bd3786\"],[0.5555555555555556,\"#d8576b\"],[0.6666666666666666,\"#ed7953\"],[0.7777777777777778,\"#fb9f3a\"],[0.8888888888888888,\"#fdca26\"],[1.0,\"#f0f921\"]]}],\"heatmap\":[{\"type\":\"heatmap\",\"colorbar\":{\"outlinewidth\":0,\"ticks\":\"\"},\"colorscale\":[[0.0,\"#0d0887\"],[0.1111111111111111,\"#46039f\"],[0.2222222222222222,\"#7201a8\"],[0.3333333333333333,\"#9c179e\"],[0.4444444444444444,\"#bd3786\"],[0.5555555555555556,\"#d8576b\"],[0.6666666666666666,\"#ed7953\"],[0.7777777777777778,\"#fb9f3a\"],[0.8888888888888888,\"#fdca26\"],[1.0,\"#f0f921\"]]}],\"heatmapgl\":[{\"type\":\"heatmapgl\",\"colorbar\":{\"outlinewidth\":0,\"ticks\":\"\"},\"colorscale\":[[0.0,\"#0d0887\"],[0.1111111111111111,\"#46039f\"],[0.2222222222222222,\"#7201a8\"],[0.3333333333333333,\"#9c179e\"],[0.4444444444444444,\"#bd3786\"],[0.5555555555555556,\"#d8576b\"],[0.6666666666666666,\"#ed7953\"],[0.7777777777777778,\"#fb9f3a\"],[0.8888888888888888,\"#fdca26\"],[1.0,\"#f0f921\"]]}],\"contourcarpet\":[{\"type\":\"contourcarpet\",\"colorbar\":{\"outlinewidth\":0,\"ticks\":\"\"}}],\"contour\":[{\"type\":\"contour\",\"colorbar\":{\"outlinewidth\":0,\"ticks\":\"\"},\"colorscale\":[[0.0,\"#0d0887\"],[0.1111111111111111,\"#46039f\"],[0.2222222222222222,\"#7201a8\"],[0.3333333333333333,\"#9c179e\"],[0.4444444444444444,\"#bd3786\"],[0.5555555555555556,\"#d8576b\"],[0.6666666666666666,\"#ed7953\"],[0.7777777777777778,\"#fb9f3a\"],[0.8888888888888888,\"#fdca26\"],[1.0,\"#f0f921\"]]}],\"surface\":[{\"type\":\"surface\",\"colorbar\":{\"outlinewidth\":0,\"ticks\":\"\"},\"colorscale\":[[0.0,\"#0d0887\"],[0.1111111111111111,\"#46039f\"],[0.2222222222222222,\"#7201a8\"],[0.3333333333333333,\"#9c179e\"],[0.4444444444444444,\"#bd3786\"],[0.5555555555555556,\"#d8576b\"],[0.6666666666666666,\"#ed7953\"],[0.7777777777777778,\"#fb9f3a\"],[0.8888888888888888,\"#fdca26\"],[1.0,\"#f0f921\"]]}],\"mesh3d\":[{\"type\":\"mesh3d\",\"colorbar\":{\"outlinewidth\":0,\"ticks\":\"\"}}],\"scatter\":[{\"fillpattern\":{\"fillmode\":\"overlay\",\"size\":10,\"solidity\":0.2},\"type\":\"scatter\"}],\"parcoords\":[{\"type\":\"parcoords\",\"line\":{\"colorbar\":{\"outlinewidth\":0,\"ticks\":\"\"}}}],\"scatterpolargl\":[{\"type\":\"scatterpolargl\",\"marker\":{\"colorbar\":{\"outlinewidth\":0,\"ticks\":\"\"}}}],\"bar\":[{\"error_x\":{\"color\":\"#2a3f5f\"},\"error_y\":{\"color\":\"#2a3f5f\"},\"marker\":{\"line\":{\"color\":\"#E5ECF6\",\"width\":0.5},\"pattern\":{\"fillmode\":\"overlay\",\"size\":10,\"solidity\":0.2}},\"type\":\"bar\"}],\"scattergeo\":[{\"type\":\"scattergeo\",\"marker\":{\"colorbar\":{\"outlinewidth\":0,\"ticks\":\"\"}}}],\"scatterpolar\":[{\"type\":\"scatterpolar\",\"marker\":{\"colorbar\":{\"outlinewidth\":0,\"ticks\":\"\"}}}],\"histogram\":[{\"marker\":{\"pattern\":{\"fillmode\":\"overlay\",\"size\":10,\"solidity\":0.2}},\"type\":\"histogram\"}],\"scattergl\":[{\"type\":\"scattergl\",\"marker\":{\"colorbar\":{\"outlinewidth\":0,\"ticks\":\"\"}}}],\"scatter3d\":[{\"type\":\"scatter3d\",\"line\":{\"colorbar\":{\"outlinewidth\":0,\"ticks\":\"\"}},\"marker\":{\"colorbar\":{\"outlinewidth\":0,\"ticks\":\"\"}}}],\"scattermapbox\":[{\"type\":\"scattermapbox\",\"marker\":{\"colorbar\":{\"outlinewidth\":0,\"ticks\":\"\"}}}],\"scatterternary\":[{\"type\":\"scatterternary\",\"marker\":{\"colorbar\":{\"outlinewidth\":0,\"ticks\":\"\"}}}],\"scattercarpet\":[{\"type\":\"scattercarpet\",\"marker\":{\"colorbar\":{\"outlinewidth\":0,\"ticks\":\"\"}}}],\"carpet\":[{\"aaxis\":{\"endlinecolor\":\"#2a3f5f\",\"gridcolor\":\"white\",\"linecolor\":\"white\",\"minorgridcolor\":\"white\",\"startlinecolor\":\"#2a3f5f\"},\"baxis\":{\"endlinecolor\":\"#2a3f5f\",\"gridcolor\":\"white\",\"linecolor\":\"white\",\"minorgridcolor\":\"white\",\"startlinecolor\":\"#2a3f5f\"},\"type\":\"carpet\"}],\"table\":[{\"cells\":{\"fill\":{\"color\":\"#EBF0F8\"},\"line\":{\"color\":\"white\"}},\"header\":{\"fill\":{\"color\":\"#C8D4E3\"},\"line\":{\"color\":\"white\"}},\"type\":\"table\"}],\"barpolar\":[{\"marker\":{\"line\":{\"color\":\"#E5ECF6\",\"width\":0.5},\"pattern\":{\"fillmode\":\"overlay\",\"size\":10,\"solidity\":0.2}},\"type\":\"barpolar\"}],\"pie\":[{\"automargin\":true,\"type\":\"pie\"}]},\"layout\":{\"autotypenumbers\":\"strict\",\"colorway\":[\"#636efa\",\"#EF553B\",\"#00cc96\",\"#ab63fa\",\"#FFA15A\",\"#19d3f3\",\"#FF6692\",\"#B6E880\",\"#FF97FF\",\"#FECB52\"],\"font\":{\"color\":\"#2a3f5f\"},\"hovermode\":\"closest\",\"hoverlabel\":{\"align\":\"left\"},\"paper_bgcolor\":\"white\",\"plot_bgcolor\":\"#E5ECF6\",\"polar\":{\"bgcolor\":\"#E5ECF6\",\"angularaxis\":{\"gridcolor\":\"white\",\"linecolor\":\"white\",\"ticks\":\"\"},\"radialaxis\":{\"gridcolor\":\"white\",\"linecolor\":\"white\",\"ticks\":\"\"}},\"ternary\":{\"bgcolor\":\"#E5ECF6\",\"aaxis\":{\"gridcolor\":\"white\",\"linecolor\":\"white\",\"ticks\":\"\"},\"baxis\":{\"gridcolor\":\"white\",\"linecolor\":\"white\",\"ticks\":\"\"},\"caxis\":{\"gridcolor\":\"white\",\"linecolor\":\"white\",\"ticks\":\"\"}},\"coloraxis\":{\"colorbar\":{\"outlinewidth\":0,\"ticks\":\"\"}},\"colorscale\":{\"sequential\":[[0.0,\"#0d0887\"],[0.1111111111111111,\"#46039f\"],[0.2222222222222222,\"#7201a8\"],[0.3333333333333333,\"#9c179e\"],[0.4444444444444444,\"#bd3786\"],[0.5555555555555556,\"#d8576b\"],[0.6666666666666666,\"#ed7953\"],[0.7777777777777778,\"#fb9f3a\"],[0.8888888888888888,\"#fdca26\"],[1.0,\"#f0f921\"]],\"sequentialminus\":[[0.0,\"#0d0887\"],[0.1111111111111111,\"#46039f\"],[0.2222222222222222,\"#7201a8\"],[0.3333333333333333,\"#9c179e\"],[0.4444444444444444,\"#bd3786\"],[0.5555555555555556,\"#d8576b\"],[0.6666666666666666,\"#ed7953\"],[0.7777777777777778,\"#fb9f3a\"],[0.8888888888888888,\"#fdca26\"],[1.0,\"#f0f921\"]],\"diverging\":[[0,\"#8e0152\"],[0.1,\"#c51b7d\"],[0.2,\"#de77ae\"],[0.3,\"#f1b6da\"],[0.4,\"#fde0ef\"],[0.5,\"#f7f7f7\"],[0.6,\"#e6f5d0\"],[0.7,\"#b8e186\"],[0.8,\"#7fbc41\"],[0.9,\"#4d9221\"],[1,\"#276419\"]]},\"xaxis\":{\"gridcolor\":\"white\",\"linecolor\":\"white\",\"ticks\":\"\",\"title\":{\"standoff\":15},\"zerolinecolor\":\"white\",\"automargin\":true,\"zerolinewidth\":2},\"yaxis\":{\"gridcolor\":\"white\",\"linecolor\":\"white\",\"ticks\":\"\",\"title\":{\"standoff\":15},\"zerolinecolor\":\"white\",\"automargin\":true,\"zerolinewidth\":2},\"scene\":{\"xaxis\":{\"backgroundcolor\":\"#E5ECF6\",\"gridcolor\":\"white\",\"linecolor\":\"white\",\"showbackground\":true,\"ticks\":\"\",\"zerolinecolor\":\"white\",\"gridwidth\":2},\"yaxis\":{\"backgroundcolor\":\"#E5ECF6\",\"gridcolor\":\"white\",\"linecolor\":\"white\",\"showbackground\":true,\"ticks\":\"\",\"zerolinecolor\":\"white\",\"gridwidth\":2},\"zaxis\":{\"backgroundcolor\":\"#E5ECF6\",\"gridcolor\":\"white\",\"linecolor\":\"white\",\"showbackground\":true,\"ticks\":\"\",\"zerolinecolor\":\"white\",\"gridwidth\":2}},\"shapedefaults\":{\"line\":{\"color\":\"#2a3f5f\"}},\"annotationdefaults\":{\"arrowcolor\":\"#2a3f5f\",\"arrowhead\":0,\"arrowwidth\":1},\"geo\":{\"bgcolor\":\"white\",\"landcolor\":\"#E5ECF6\",\"subunitcolor\":\"white\",\"showland\":true,\"showlakes\":true,\"lakecolor\":\"white\"},\"title\":{\"x\":0.05},\"mapbox\":{\"style\":\"light\"}}},\"xaxis\":{\"anchor\":\"y\",\"domain\":[0.0,1.0],\"title\":{\"text\":\"data\"}},\"yaxis\":{\"anchor\":\"x\",\"domain\":[0.0,1.0],\"title\":{\"text\":\"linear\"},\"range\":[-2,2]},\"legend\":{\"tracegroupgap\":0},\"margin\":{\"t\":60},\"width\":800},                        {\"responsive\": true}                    ).then(function(){\n",
              "                            \n",
              "var gd = document.getElementById('aec9aaeb-1a40-4f7a-852b-ca1d692d0ea7');\n",
              "var x = new MutationObserver(function (mutations, observer) {{\n",
              "        var display = window.getComputedStyle(gd).display;\n",
              "        if (!display || display === 'none') {{\n",
              "            console.log([gd, 'removed!']);\n",
              "            Plotly.purge(gd);\n",
              "            observer.disconnect();\n",
              "        }}\n",
              "}});\n",
              "\n",
              "// Listen for the removal of the full notebook cells\n",
              "var notebookContainer = gd.closest('#notebook-container');\n",
              "if (notebookContainer) {{\n",
              "    x.observe(notebookContainer, {childList: true});\n",
              "}}\n",
              "\n",
              "// Listen for the clearing of the current output cell\n",
              "var outputEl = gd.closest('.output');\n",
              "if (outputEl) {{\n",
              "    x.observe(outputEl, {childList: true});\n",
              "}}\n",
              "\n",
              "                        })                };                            </script>        </div>\n",
              "</body>\n",
              "</html>"
            ]
          },
          "metadata": {}
        }
      ]
    },
    {
      "cell_type": "code",
      "source": [
        "from tensorflow.keras.activations import sigmoid\n",
        "\n",
        "random_data = sorted(np.random.randn(200))\n",
        "data = pd.DataFrame({'data': random_data, 'sigmoid': sigmoid(random_data)})\n",
        "\n",
        "data.head()"
      ],
      "metadata": {
        "colab": {
          "base_uri": "https://localhost:8080/",
          "height": 206
        },
        "id": "9JwvUm3VBGT9",
        "outputId": "f103eeb6-ca89-4865-b39e-14f5e6f0b2a0"
      },
      "execution_count": 17,
      "outputs": [
        {
          "output_type": "execute_result",
          "data": {
            "text/plain": [
              "       data   sigmoid\n",
              "0 -2.795465  0.057570\n",
              "1 -2.714103  0.062146\n",
              "2 -2.568495  0.071194\n",
              "3 -2.444218  0.079862\n",
              "4 -2.325687  0.089018"
            ],
            "text/html": [
              "\n",
              "  <div id=\"df-03db7567-6531-41e6-8633-58614955320e\" class=\"colab-df-container\">\n",
              "    <div>\n",
              "<style scoped>\n",
              "    .dataframe tbody tr th:only-of-type {\n",
              "        vertical-align: middle;\n",
              "    }\n",
              "\n",
              "    .dataframe tbody tr th {\n",
              "        vertical-align: top;\n",
              "    }\n",
              "\n",
              "    .dataframe thead th {\n",
              "        text-align: right;\n",
              "    }\n",
              "</style>\n",
              "<table border=\"1\" class=\"dataframe\">\n",
              "  <thead>\n",
              "    <tr style=\"text-align: right;\">\n",
              "      <th></th>\n",
              "      <th>data</th>\n",
              "      <th>sigmoid</th>\n",
              "    </tr>\n",
              "  </thead>\n",
              "  <tbody>\n",
              "    <tr>\n",
              "      <th>0</th>\n",
              "      <td>-2.795465</td>\n",
              "      <td>0.057570</td>\n",
              "    </tr>\n",
              "    <tr>\n",
              "      <th>1</th>\n",
              "      <td>-2.714103</td>\n",
              "      <td>0.062146</td>\n",
              "    </tr>\n",
              "    <tr>\n",
              "      <th>2</th>\n",
              "      <td>-2.568495</td>\n",
              "      <td>0.071194</td>\n",
              "    </tr>\n",
              "    <tr>\n",
              "      <th>3</th>\n",
              "      <td>-2.444218</td>\n",
              "      <td>0.079862</td>\n",
              "    </tr>\n",
              "    <tr>\n",
              "      <th>4</th>\n",
              "      <td>-2.325687</td>\n",
              "      <td>0.089018</td>\n",
              "    </tr>\n",
              "  </tbody>\n",
              "</table>\n",
              "</div>\n",
              "    <div class=\"colab-df-buttons\">\n",
              "\n",
              "  <div class=\"colab-df-container\">\n",
              "    <button class=\"colab-df-convert\" onclick=\"convertToInteractive('df-03db7567-6531-41e6-8633-58614955320e')\"\n",
              "            title=\"Convert this dataframe to an interactive table.\"\n",
              "            style=\"display:none;\">\n",
              "\n",
              "  <svg xmlns=\"http://www.w3.org/2000/svg\" height=\"24px\" viewBox=\"0 -960 960 960\">\n",
              "    <path d=\"M120-120v-720h720v720H120Zm60-500h600v-160H180v160Zm220 220h160v-160H400v160Zm0 220h160v-160H400v160ZM180-400h160v-160H180v160Zm440 0h160v-160H620v160ZM180-180h160v-160H180v160Zm440 0h160v-160H620v160Z\"/>\n",
              "  </svg>\n",
              "    </button>\n",
              "\n",
              "  <style>\n",
              "    .colab-df-container {\n",
              "      display:flex;\n",
              "      gap: 12px;\n",
              "    }\n",
              "\n",
              "    .colab-df-convert {\n",
              "      background-color: #E8F0FE;\n",
              "      border: none;\n",
              "      border-radius: 50%;\n",
              "      cursor: pointer;\n",
              "      display: none;\n",
              "      fill: #1967D2;\n",
              "      height: 32px;\n",
              "      padding: 0 0 0 0;\n",
              "      width: 32px;\n",
              "    }\n",
              "\n",
              "    .colab-df-convert:hover {\n",
              "      background-color: #E2EBFA;\n",
              "      box-shadow: 0px 1px 2px rgba(60, 64, 67, 0.3), 0px 1px 3px 1px rgba(60, 64, 67, 0.15);\n",
              "      fill: #174EA6;\n",
              "    }\n",
              "\n",
              "    .colab-df-buttons div {\n",
              "      margin-bottom: 4px;\n",
              "    }\n",
              "\n",
              "    [theme=dark] .colab-df-convert {\n",
              "      background-color: #3B4455;\n",
              "      fill: #D2E3FC;\n",
              "    }\n",
              "\n",
              "    [theme=dark] .colab-df-convert:hover {\n",
              "      background-color: #434B5C;\n",
              "      box-shadow: 0px 1px 3px 1px rgba(0, 0, 0, 0.15);\n",
              "      filter: drop-shadow(0px 1px 2px rgba(0, 0, 0, 0.3));\n",
              "      fill: #FFFFFF;\n",
              "    }\n",
              "  </style>\n",
              "\n",
              "    <script>\n",
              "      const buttonEl =\n",
              "        document.querySelector('#df-03db7567-6531-41e6-8633-58614955320e button.colab-df-convert');\n",
              "      buttonEl.style.display =\n",
              "        google.colab.kernel.accessAllowed ? 'block' : 'none';\n",
              "\n",
              "      async function convertToInteractive(key) {\n",
              "        const element = document.querySelector('#df-03db7567-6531-41e6-8633-58614955320e');\n",
              "        const dataTable =\n",
              "          await google.colab.kernel.invokeFunction('convertToInteractive',\n",
              "                                                    [key], {});\n",
              "        if (!dataTable) return;\n",
              "\n",
              "        const docLinkHtml = 'Like what you see? Visit the ' +\n",
              "          '<a target=\"_blank\" href=https://colab.research.google.com/notebooks/data_table.ipynb>data table notebook</a>'\n",
              "          + ' to learn more about interactive tables.';\n",
              "        element.innerHTML = '';\n",
              "        dataTable['output_type'] = 'display_data';\n",
              "        await google.colab.output.renderOutput(dataTable, element);\n",
              "        const docLink = document.createElement('div');\n",
              "        docLink.innerHTML = docLinkHtml;\n",
              "        element.appendChild(docLink);\n",
              "      }\n",
              "    </script>\n",
              "  </div>\n",
              "\n",
              "\n",
              "<div id=\"df-cf81480c-7c6b-4f6f-940f-c07f949e165e\">\n",
              "  <button class=\"colab-df-quickchart\" onclick=\"quickchart('df-cf81480c-7c6b-4f6f-940f-c07f949e165e')\"\n",
              "            title=\"Suggest charts\"\n",
              "            style=\"display:none;\">\n",
              "\n",
              "<svg xmlns=\"http://www.w3.org/2000/svg\" height=\"24px\"viewBox=\"0 0 24 24\"\n",
              "     width=\"24px\">\n",
              "    <g>\n",
              "        <path d=\"M19 3H5c-1.1 0-2 .9-2 2v14c0 1.1.9 2 2 2h14c1.1 0 2-.9 2-2V5c0-1.1-.9-2-2-2zM9 17H7v-7h2v7zm4 0h-2V7h2v10zm4 0h-2v-4h2v4z\"/>\n",
              "    </g>\n",
              "</svg>\n",
              "  </button>\n",
              "\n",
              "<style>\n",
              "  .colab-df-quickchart {\n",
              "      --bg-color: #E8F0FE;\n",
              "      --fill-color: #1967D2;\n",
              "      --hover-bg-color: #E2EBFA;\n",
              "      --hover-fill-color: #174EA6;\n",
              "      --disabled-fill-color: #AAA;\n",
              "      --disabled-bg-color: #DDD;\n",
              "  }\n",
              "\n",
              "  [theme=dark] .colab-df-quickchart {\n",
              "      --bg-color: #3B4455;\n",
              "      --fill-color: #D2E3FC;\n",
              "      --hover-bg-color: #434B5C;\n",
              "      --hover-fill-color: #FFFFFF;\n",
              "      --disabled-bg-color: #3B4455;\n",
              "      --disabled-fill-color: #666;\n",
              "  }\n",
              "\n",
              "  .colab-df-quickchart {\n",
              "    background-color: var(--bg-color);\n",
              "    border: none;\n",
              "    border-radius: 50%;\n",
              "    cursor: pointer;\n",
              "    display: none;\n",
              "    fill: var(--fill-color);\n",
              "    height: 32px;\n",
              "    padding: 0;\n",
              "    width: 32px;\n",
              "  }\n",
              "\n",
              "  .colab-df-quickchart:hover {\n",
              "    background-color: var(--hover-bg-color);\n",
              "    box-shadow: 0 1px 2px rgba(60, 64, 67, 0.3), 0 1px 3px 1px rgba(60, 64, 67, 0.15);\n",
              "    fill: var(--button-hover-fill-color);\n",
              "  }\n",
              "\n",
              "  .colab-df-quickchart-complete:disabled,\n",
              "  .colab-df-quickchart-complete:disabled:hover {\n",
              "    background-color: var(--disabled-bg-color);\n",
              "    fill: var(--disabled-fill-color);\n",
              "    box-shadow: none;\n",
              "  }\n",
              "\n",
              "  .colab-df-spinner {\n",
              "    border: 2px solid var(--fill-color);\n",
              "    border-color: transparent;\n",
              "    border-bottom-color: var(--fill-color);\n",
              "    animation:\n",
              "      spin 1s steps(1) infinite;\n",
              "  }\n",
              "\n",
              "  @keyframes spin {\n",
              "    0% {\n",
              "      border-color: transparent;\n",
              "      border-bottom-color: var(--fill-color);\n",
              "      border-left-color: var(--fill-color);\n",
              "    }\n",
              "    20% {\n",
              "      border-color: transparent;\n",
              "      border-left-color: var(--fill-color);\n",
              "      border-top-color: var(--fill-color);\n",
              "    }\n",
              "    30% {\n",
              "      border-color: transparent;\n",
              "      border-left-color: var(--fill-color);\n",
              "      border-top-color: var(--fill-color);\n",
              "      border-right-color: var(--fill-color);\n",
              "    }\n",
              "    40% {\n",
              "      border-color: transparent;\n",
              "      border-right-color: var(--fill-color);\n",
              "      border-top-color: var(--fill-color);\n",
              "    }\n",
              "    60% {\n",
              "      border-color: transparent;\n",
              "      border-right-color: var(--fill-color);\n",
              "    }\n",
              "    80% {\n",
              "      border-color: transparent;\n",
              "      border-right-color: var(--fill-color);\n",
              "      border-bottom-color: var(--fill-color);\n",
              "    }\n",
              "    90% {\n",
              "      border-color: transparent;\n",
              "      border-bottom-color: var(--fill-color);\n",
              "    }\n",
              "  }\n",
              "</style>\n",
              "\n",
              "  <script>\n",
              "    async function quickchart(key) {\n",
              "      const quickchartButtonEl =\n",
              "        document.querySelector('#' + key + ' button');\n",
              "      quickchartButtonEl.disabled = true;  // To prevent multiple clicks.\n",
              "      quickchartButtonEl.classList.add('colab-df-spinner');\n",
              "      try {\n",
              "        const charts = await google.colab.kernel.invokeFunction(\n",
              "            'suggestCharts', [key], {});\n",
              "      } catch (error) {\n",
              "        console.error('Error during call to suggestCharts:', error);\n",
              "      }\n",
              "      quickchartButtonEl.classList.remove('colab-df-spinner');\n",
              "      quickchartButtonEl.classList.add('colab-df-quickchart-complete');\n",
              "    }\n",
              "    (() => {\n",
              "      let quickchartButtonEl =\n",
              "        document.querySelector('#df-cf81480c-7c6b-4f6f-940f-c07f949e165e button');\n",
              "      quickchartButtonEl.style.display =\n",
              "        google.colab.kernel.accessAllowed ? 'block' : 'none';\n",
              "    })();\n",
              "  </script>\n",
              "</div>\n",
              "\n",
              "    </div>\n",
              "  </div>\n"
            ],
            "application/vnd.google.colaboratory.intrinsic+json": {
              "type": "dataframe",
              "variable_name": "data",
              "summary": "{\n  \"name\": \"data\",\n  \"rows\": 200,\n  \"fields\": [\n    {\n      \"column\": \"data\",\n      \"properties\": {\n        \"dtype\": \"number\",\n        \"std\": 1.0369160265231308,\n        \"min\": -2.795465273996662,\n        \"max\": 3.2277918891075044,\n        \"num_unique_values\": 200,\n        \"samples\": [\n          -0.018108887811600072,\n          -1.5625599925121663,\n          -1.1500842649824825\n        ],\n        \"semantic_type\": \"\",\n        \"description\": \"\"\n      }\n    },\n    {\n      \"column\": \"sigmoid\",\n      \"properties\": {\n        \"dtype\": \"number\",\n        \"std\": 0.2131623028134873,\n        \"min\": 0.05756971642363829,\n        \"max\": 0.9618668441371682,\n        \"num_unique_values\": 200,\n        \"samples\": [\n          0.4954729017613867,\n          0.17327961160626582,\n          0.2404736920442764\n        ],\n        \"semantic_type\": \"\",\n        \"description\": \"\"\n      }\n    }\n  ]\n}"
            }
          },
          "metadata": {},
          "execution_count": 17
        }
      ]
    },
    {
      "cell_type": "code",
      "source": [
        "px.line(data, x='data', y='sigmoid', width=800, range_y=[0,1])"
      ],
      "metadata": {
        "colab": {
          "base_uri": "https://localhost:8080/",
          "height": 542
        },
        "id": "J5OW3zruBUYM",
        "outputId": "cfb6055e-a503-4d0f-8b17-9d1b05b0d90a"
      },
      "execution_count": 18,
      "outputs": [
        {
          "output_type": "display_data",
          "data": {
            "text/html": [
              "<html>\n",
              "<head><meta charset=\"utf-8\" /></head>\n",
              "<body>\n",
              "    <div>            <script src=\"https://cdnjs.cloudflare.com/ajax/libs/mathjax/2.7.5/MathJax.js?config=TeX-AMS-MML_SVG\"></script><script type=\"text/javascript\">if (window.MathJax && window.MathJax.Hub && window.MathJax.Hub.Config) {window.MathJax.Hub.Config({SVG: {font: \"STIX-Web\"}});}</script>                <script type=\"text/javascript\">window.PlotlyConfig = {MathJaxConfig: 'local'};</script>\n",
              "        <script charset=\"utf-8\" src=\"https://cdn.plot.ly/plotly-2.35.2.min.js\"></script>                <div id=\"fc2b9fc6-370f-4530-86fa-7974adc3c028\" class=\"plotly-graph-div\" style=\"height:525px; width:800px;\"></div>            <script type=\"text/javascript\">                                    window.PLOTLYENV=window.PLOTLYENV || {};                                    if (document.getElementById(\"fc2b9fc6-370f-4530-86fa-7974adc3c028\")) {                    Plotly.newPlot(                        \"fc2b9fc6-370f-4530-86fa-7974adc3c028\",                        [{\"hovertemplate\":\"data=%{x}\\u003cbr\\u003esigmoid=%{y}\\u003cextra\\u003e\\u003c\\u002fextra\\u003e\",\"legendgroup\":\"\",\"line\":{\"color\":\"#636efa\",\"dash\":\"solid\"},\"marker\":{\"symbol\":\"circle\"},\"mode\":\"lines\",\"name\":\"\",\"orientation\":\"v\",\"showlegend\":false,\"x\":[-2.795465273996662,-2.7141026117285416,-2.5684945489754645,-2.4442183606740175,-2.325687442019603,-1.8746279227250509,-1.8429382934784042,-1.8325143781047941,-1.7595108008693847,-1.7056147693601778,-1.6901700455022253,-1.6899641922104383,-1.6804950434822676,-1.6800482161969112,-1.606656937151524,-1.5625599925121663,-1.4708155115777601,-1.4311496605050298,-1.3977791485120006,-1.3722905656723638,-1.3535349770715308,-1.3494143625275858,-1.3450455223134623,-1.2905227263245538,-1.272558954872513,-1.2488231665554066,-1.241911887962601,-1.2295665138906646,-1.220486070467485,-1.1672663917515875,-1.1500842649824825,-1.1225719669396759,-1.0995688410974005,-1.05434682163466,-1.0480486992784008,-0.9975914111947753,-0.9767475831970253,-0.8848926619750108,-0.8710112204017287,-0.8639006006591267,-0.8561701143378818,-0.8375436654627411,-0.8084903366956371,-0.7628387064575239,-0.7127519022747801,-0.6945006259413669,-0.6917636626130377,-0.6754094518851086,-0.6679641826313827,-0.6577292011436564,-0.6544563805888265,-0.6081100147019575,-0.5934253691634427,-0.590673674835697,-0.5543611661766634,-0.5253441153563334,-0.5194104315881869,-0.5171101246087179,-0.502047264141738,-0.4767282463781553,-0.4496592795274686,-0.43823649350900434,-0.4322698644491674,-0.411918773401227,-0.40921821431396477,-0.3281587370757511,-0.3161141541607559,-0.3143047764324385,-0.2958540198940764,-0.29096606581023293,-0.29076296651742994,-0.28772793817731246,-0.2733451489306154,-0.263397254674829,-0.2586239026459709,-0.25116564457906393,-0.23168834599597263,-0.2242724468277346,-0.2159310260037309,-0.19485032224371973,-0.1840087006330627,-0.17315675692058805,-0.15393284213073186,-0.152444650249726,-0.14194797798641046,-0.13768521403801512,-0.13366094163442155,-0.12994289621322755,-0.12017164064954805,-0.11614976679832578,-0.09905590018080311,-0.0690483468621715,-0.040525850976954464,-0.029625729037930097,-0.023405089254327265,-0.018108887811600072,0.009553824017184756,0.009987658015572849,0.012358207005903296,0.014609367591990224,0.023769237452128403,0.025961063470378635,0.053099477561871916,0.05762910399762849,0.09072870211862072,0.12841171990110173,0.1466108261110928,0.1695668261250228,0.1846385659129708,0.20288459186100408,0.20913312586126223,0.24448510082759978,0.24581717628734379,0.2472941484000885,0.2505174145753551,0.254175989967211,0.25508190000031583,0.2717300974504087,0.2754254850811444,0.2803672643300027,0.30120607745461475,0.3304503691210793,0.3516008671675302,0.3638877927262566,0.3889213245920457,0.3916068695893074,0.3922514033769775,0.41377137736154496,0.42984239007446634,0.4301863529615085,0.4341095060153845,0.4564004036746871,0.48475794764482505,0.51231962409044,0.5323764339762374,0.5392773720481484,0.5468493159017329,0.5570901609614787,0.5608144402073019,0.5649829335753631,0.5843594749858143,0.5944097426876184,0.6028032618819759,0.603416356697642,0.6066830823511808,0.6093494458279423,0.6284014875876134,0.6639948629352311,0.6692216295180384,0.7294630347863432,0.7512294845194074,0.7692046131463123,0.797669330492782,0.7986606258217129,0.8061916821112985,0.8151214550780814,0.8244999564122978,0.8333740956907171,0.8371742137161582,0.8435039511565203,0.848089137666287,0.9264772539168148,0.9596413181667974,1.0049842017323058,1.0361443535298829,1.0398416497987224,1.041738760534069,1.0543285717700448,1.0943960603306562,1.1209576241650536,1.1224607191768115,1.123616356715721,1.1380256643394009,1.1540885412631763,1.169754987396451,1.1934156789987063,1.199341368735356,1.2045359346549773,1.2295177811453384,1.256944024744246,1.261850382016022,1.2855774991270088,1.287558445650866,1.3175946831710097,1.3244378186804937,1.40772484295412,1.4150669231165063,1.4443287904784,1.4657452534017426,1.4810693566378248,1.5748473890005639,1.618623901548986,1.6989056848243436,1.712244179170667,1.8429046083562466,1.870734166241366,1.9145006591073703,2.0851670301737153,2.8402687120084034,3.2277918891075044],\"xaxis\":\"x\",\"y\":[0.05756971642363829,0.06214630420614776,0.0711937881431623,0.07986237866212928,0.08901776483346877,0.13300714089210128,0.13670415624279986,0.1379390115663515,0.1468516191239845,0.1537333658161933,0.15575347879499013,0.1557805492544481,0.15702992809588734,0.15708908437181615,0.16705327136389922,0.17327961160626582,0.1868186918706286,0.19291961701115398,0.19816876355398505,0.20225002316064533,0.20529304718100552,0.20596613285297097,0.20668154870414818,0.21576434711049666,0.2188195159241952,0.22290392080588772,0.22410336929775485,0.22625730494363241,0.2278509225117529,0.23734945219427095,0.2404736920442764,0.24553452180061933,0.2498206893131986,0.2583912657620842,0.2595999801239813,0.26941524213546114,0.2735376107153571,0.2921649260756977,0.2950439316441939,0.29652504312675426,0.29814013910218673,0.30205236850204786,0.30821228906294224,0.31803026984979316,0.3289910557752096,0.33303263556858614,0.3336408526266706,0.33728663426244193,0.33895284413649596,0.3412498993381322,0.3419860059754185,0.35249044956884756,0.35584930209840915,0.3564802969494236,0.36485317826306163,0.3716034522892038,0.37299010483105477,0.3735282311255274,0.3770596748813269,0.3830249992593686,0.3894417784490924,0.3921612576795319,0.3935844393565437,0.3984521246489953,0.3990995934996427,0.4186886981178392,0.42162304906543413,0.42206434104781376,0.4265713139389759,0.4277673746302885,0.4278170905015144,0.42856019618565006,0.432086050886253,0.43452877189274797,0.43570201344430276,0.4375366150795406,0.44233563250389757,0.44416572232152873,0.4462260210386198,0.45144095764921677,0.45412718659555246,0.4568186500376403,0.46159259917085116,0.4619624729397636,0.4645724719825097,0.4656329712829216,0.46663442349681705,0.46755990943932524,0.46999319239963727,0.47099515910336903,0.4752562539304089,0.4827447683499994,0.4898699236408281,0.4925941094017906,0.49414899478149166,0.4954729017613867,0.5023884378371584,0.5024968937478091,0.5030895124310216,0.5036522769383376,0.5059420296066685,0.5064899013681005,0.5132717511681684,0.5144032899731518,0.5226666289266009,0.5320588889701673,0.5365871939925082,0.5422904239996947,0.5460289497729437,0.5505478784876275,0.552093553202627,0.5608186340694948,0.5611466990854861,0.5615103869233807,0.5623038501479004,0.5632040860416838,0.5634269318852009,0.5675175919647891,0.5684243657099234,0.5696362613819601,0.5747373259652657,0.5818689545499037,0.5870057311298948,0.5899812321844212,0.5960230032059163,0.5966694605169726,0.5968245611363899,0.6019918386938798,0.6058360320089095,0.6059181669201694,0.6068545523706906,0.6121599052370003,0.6188707636166924,0.6253500908814384,0.6300372067032218,0.6316443000511031,0.6334042997660847,0.6357789927154494,0.63664096507978,0.6376047091787328,0.6420699033686521,0.6443763045367141,0.6462973861853144,0.6464375252926973,0.647183797549555,0.6477923876004146,0.6521269160607435,0.6601572072259252,0.6613288471263927,0.6746874282037267,0.6794465386589882,0.683348810477313,0.6894757077056373,0.6896879031275617,0.691297381665566,0.693199780250483,0.6951907201631827,0.6970678915870171,0.6978697391913875,0.6992026750222122,0.7001661419270724,0.7163600504829704,0.7230499852987635,0.7320374028862289,0.7381053716697181,0.7388194511505072,0.7391853617435652,0.7416052370881824,0.7492086242037924,0.7541663026914857,0.7544448692660178,0.754658897186019,0.7573169642084449,0.7602569131514799,0.7631007256917064,0.7673513990302571,0.7684075959371839,0.7693307180384233,0.7737341635475713,0.7784995901075032,0.7793444762733714,0.7833976943973738,0.7837336440771079,0.7887812461263756,0.7899190963747299,0.8034068436172399,0.8045639005344658,0.8091240945298717,0.8124098239491879,0.8147340463779641,0.8284735443056978,0.8346052615711792,0.8453917570164388,0.8471271380666188,0.863291868320798,0.8665432037646656,0.8715239297123947,0.8894531114067094,0.944813474797337,0.9618668441371682],\"yaxis\":\"y\",\"type\":\"scatter\"}],                        {\"template\":{\"data\":{\"histogram2dcontour\":[{\"type\":\"histogram2dcontour\",\"colorbar\":{\"outlinewidth\":0,\"ticks\":\"\"},\"colorscale\":[[0.0,\"#0d0887\"],[0.1111111111111111,\"#46039f\"],[0.2222222222222222,\"#7201a8\"],[0.3333333333333333,\"#9c179e\"],[0.4444444444444444,\"#bd3786\"],[0.5555555555555556,\"#d8576b\"],[0.6666666666666666,\"#ed7953\"],[0.7777777777777778,\"#fb9f3a\"],[0.8888888888888888,\"#fdca26\"],[1.0,\"#f0f921\"]]}],\"choropleth\":[{\"type\":\"choropleth\",\"colorbar\":{\"outlinewidth\":0,\"ticks\":\"\"}}],\"histogram2d\":[{\"type\":\"histogram2d\",\"colorbar\":{\"outlinewidth\":0,\"ticks\":\"\"},\"colorscale\":[[0.0,\"#0d0887\"],[0.1111111111111111,\"#46039f\"],[0.2222222222222222,\"#7201a8\"],[0.3333333333333333,\"#9c179e\"],[0.4444444444444444,\"#bd3786\"],[0.5555555555555556,\"#d8576b\"],[0.6666666666666666,\"#ed7953\"],[0.7777777777777778,\"#fb9f3a\"],[0.8888888888888888,\"#fdca26\"],[1.0,\"#f0f921\"]]}],\"heatmap\":[{\"type\":\"heatmap\",\"colorbar\":{\"outlinewidth\":0,\"ticks\":\"\"},\"colorscale\":[[0.0,\"#0d0887\"],[0.1111111111111111,\"#46039f\"],[0.2222222222222222,\"#7201a8\"],[0.3333333333333333,\"#9c179e\"],[0.4444444444444444,\"#bd3786\"],[0.5555555555555556,\"#d8576b\"],[0.6666666666666666,\"#ed7953\"],[0.7777777777777778,\"#fb9f3a\"],[0.8888888888888888,\"#fdca26\"],[1.0,\"#f0f921\"]]}],\"heatmapgl\":[{\"type\":\"heatmapgl\",\"colorbar\":{\"outlinewidth\":0,\"ticks\":\"\"},\"colorscale\":[[0.0,\"#0d0887\"],[0.1111111111111111,\"#46039f\"],[0.2222222222222222,\"#7201a8\"],[0.3333333333333333,\"#9c179e\"],[0.4444444444444444,\"#bd3786\"],[0.5555555555555556,\"#d8576b\"],[0.6666666666666666,\"#ed7953\"],[0.7777777777777778,\"#fb9f3a\"],[0.8888888888888888,\"#fdca26\"],[1.0,\"#f0f921\"]]}],\"contourcarpet\":[{\"type\":\"contourcarpet\",\"colorbar\":{\"outlinewidth\":0,\"ticks\":\"\"}}],\"contour\":[{\"type\":\"contour\",\"colorbar\":{\"outlinewidth\":0,\"ticks\":\"\"},\"colorscale\":[[0.0,\"#0d0887\"],[0.1111111111111111,\"#46039f\"],[0.2222222222222222,\"#7201a8\"],[0.3333333333333333,\"#9c179e\"],[0.4444444444444444,\"#bd3786\"],[0.5555555555555556,\"#d8576b\"],[0.6666666666666666,\"#ed7953\"],[0.7777777777777778,\"#fb9f3a\"],[0.8888888888888888,\"#fdca26\"],[1.0,\"#f0f921\"]]}],\"surface\":[{\"type\":\"surface\",\"colorbar\":{\"outlinewidth\":0,\"ticks\":\"\"},\"colorscale\":[[0.0,\"#0d0887\"],[0.1111111111111111,\"#46039f\"],[0.2222222222222222,\"#7201a8\"],[0.3333333333333333,\"#9c179e\"],[0.4444444444444444,\"#bd3786\"],[0.5555555555555556,\"#d8576b\"],[0.6666666666666666,\"#ed7953\"],[0.7777777777777778,\"#fb9f3a\"],[0.8888888888888888,\"#fdca26\"],[1.0,\"#f0f921\"]]}],\"mesh3d\":[{\"type\":\"mesh3d\",\"colorbar\":{\"outlinewidth\":0,\"ticks\":\"\"}}],\"scatter\":[{\"fillpattern\":{\"fillmode\":\"overlay\",\"size\":10,\"solidity\":0.2},\"type\":\"scatter\"}],\"parcoords\":[{\"type\":\"parcoords\",\"line\":{\"colorbar\":{\"outlinewidth\":0,\"ticks\":\"\"}}}],\"scatterpolargl\":[{\"type\":\"scatterpolargl\",\"marker\":{\"colorbar\":{\"outlinewidth\":0,\"ticks\":\"\"}}}],\"bar\":[{\"error_x\":{\"color\":\"#2a3f5f\"},\"error_y\":{\"color\":\"#2a3f5f\"},\"marker\":{\"line\":{\"color\":\"#E5ECF6\",\"width\":0.5},\"pattern\":{\"fillmode\":\"overlay\",\"size\":10,\"solidity\":0.2}},\"type\":\"bar\"}],\"scattergeo\":[{\"type\":\"scattergeo\",\"marker\":{\"colorbar\":{\"outlinewidth\":0,\"ticks\":\"\"}}}],\"scatterpolar\":[{\"type\":\"scatterpolar\",\"marker\":{\"colorbar\":{\"outlinewidth\":0,\"ticks\":\"\"}}}],\"histogram\":[{\"marker\":{\"pattern\":{\"fillmode\":\"overlay\",\"size\":10,\"solidity\":0.2}},\"type\":\"histogram\"}],\"scattergl\":[{\"type\":\"scattergl\",\"marker\":{\"colorbar\":{\"outlinewidth\":0,\"ticks\":\"\"}}}],\"scatter3d\":[{\"type\":\"scatter3d\",\"line\":{\"colorbar\":{\"outlinewidth\":0,\"ticks\":\"\"}},\"marker\":{\"colorbar\":{\"outlinewidth\":0,\"ticks\":\"\"}}}],\"scattermapbox\":[{\"type\":\"scattermapbox\",\"marker\":{\"colorbar\":{\"outlinewidth\":0,\"ticks\":\"\"}}}],\"scatterternary\":[{\"type\":\"scatterternary\",\"marker\":{\"colorbar\":{\"outlinewidth\":0,\"ticks\":\"\"}}}],\"scattercarpet\":[{\"type\":\"scattercarpet\",\"marker\":{\"colorbar\":{\"outlinewidth\":0,\"ticks\":\"\"}}}],\"carpet\":[{\"aaxis\":{\"endlinecolor\":\"#2a3f5f\",\"gridcolor\":\"white\",\"linecolor\":\"white\",\"minorgridcolor\":\"white\",\"startlinecolor\":\"#2a3f5f\"},\"baxis\":{\"endlinecolor\":\"#2a3f5f\",\"gridcolor\":\"white\",\"linecolor\":\"white\",\"minorgridcolor\":\"white\",\"startlinecolor\":\"#2a3f5f\"},\"type\":\"carpet\"}],\"table\":[{\"cells\":{\"fill\":{\"color\":\"#EBF0F8\"},\"line\":{\"color\":\"white\"}},\"header\":{\"fill\":{\"color\":\"#C8D4E3\"},\"line\":{\"color\":\"white\"}},\"type\":\"table\"}],\"barpolar\":[{\"marker\":{\"line\":{\"color\":\"#E5ECF6\",\"width\":0.5},\"pattern\":{\"fillmode\":\"overlay\",\"size\":10,\"solidity\":0.2}},\"type\":\"barpolar\"}],\"pie\":[{\"automargin\":true,\"type\":\"pie\"}]},\"layout\":{\"autotypenumbers\":\"strict\",\"colorway\":[\"#636efa\",\"#EF553B\",\"#00cc96\",\"#ab63fa\",\"#FFA15A\",\"#19d3f3\",\"#FF6692\",\"#B6E880\",\"#FF97FF\",\"#FECB52\"],\"font\":{\"color\":\"#2a3f5f\"},\"hovermode\":\"closest\",\"hoverlabel\":{\"align\":\"left\"},\"paper_bgcolor\":\"white\",\"plot_bgcolor\":\"#E5ECF6\",\"polar\":{\"bgcolor\":\"#E5ECF6\",\"angularaxis\":{\"gridcolor\":\"white\",\"linecolor\":\"white\",\"ticks\":\"\"},\"radialaxis\":{\"gridcolor\":\"white\",\"linecolor\":\"white\",\"ticks\":\"\"}},\"ternary\":{\"bgcolor\":\"#E5ECF6\",\"aaxis\":{\"gridcolor\":\"white\",\"linecolor\":\"white\",\"ticks\":\"\"},\"baxis\":{\"gridcolor\":\"white\",\"linecolor\":\"white\",\"ticks\":\"\"},\"caxis\":{\"gridcolor\":\"white\",\"linecolor\":\"white\",\"ticks\":\"\"}},\"coloraxis\":{\"colorbar\":{\"outlinewidth\":0,\"ticks\":\"\"}},\"colorscale\":{\"sequential\":[[0.0,\"#0d0887\"],[0.1111111111111111,\"#46039f\"],[0.2222222222222222,\"#7201a8\"],[0.3333333333333333,\"#9c179e\"],[0.4444444444444444,\"#bd3786\"],[0.5555555555555556,\"#d8576b\"],[0.6666666666666666,\"#ed7953\"],[0.7777777777777778,\"#fb9f3a\"],[0.8888888888888888,\"#fdca26\"],[1.0,\"#f0f921\"]],\"sequentialminus\":[[0.0,\"#0d0887\"],[0.1111111111111111,\"#46039f\"],[0.2222222222222222,\"#7201a8\"],[0.3333333333333333,\"#9c179e\"],[0.4444444444444444,\"#bd3786\"],[0.5555555555555556,\"#d8576b\"],[0.6666666666666666,\"#ed7953\"],[0.7777777777777778,\"#fb9f3a\"],[0.8888888888888888,\"#fdca26\"],[1.0,\"#f0f921\"]],\"diverging\":[[0,\"#8e0152\"],[0.1,\"#c51b7d\"],[0.2,\"#de77ae\"],[0.3,\"#f1b6da\"],[0.4,\"#fde0ef\"],[0.5,\"#f7f7f7\"],[0.6,\"#e6f5d0\"],[0.7,\"#b8e186\"],[0.8,\"#7fbc41\"],[0.9,\"#4d9221\"],[1,\"#276419\"]]},\"xaxis\":{\"gridcolor\":\"white\",\"linecolor\":\"white\",\"ticks\":\"\",\"title\":{\"standoff\":15},\"zerolinecolor\":\"white\",\"automargin\":true,\"zerolinewidth\":2},\"yaxis\":{\"gridcolor\":\"white\",\"linecolor\":\"white\",\"ticks\":\"\",\"title\":{\"standoff\":15},\"zerolinecolor\":\"white\",\"automargin\":true,\"zerolinewidth\":2},\"scene\":{\"xaxis\":{\"backgroundcolor\":\"#E5ECF6\",\"gridcolor\":\"white\",\"linecolor\":\"white\",\"showbackground\":true,\"ticks\":\"\",\"zerolinecolor\":\"white\",\"gridwidth\":2},\"yaxis\":{\"backgroundcolor\":\"#E5ECF6\",\"gridcolor\":\"white\",\"linecolor\":\"white\",\"showbackground\":true,\"ticks\":\"\",\"zerolinecolor\":\"white\",\"gridwidth\":2},\"zaxis\":{\"backgroundcolor\":\"#E5ECF6\",\"gridcolor\":\"white\",\"linecolor\":\"white\",\"showbackground\":true,\"ticks\":\"\",\"zerolinecolor\":\"white\",\"gridwidth\":2}},\"shapedefaults\":{\"line\":{\"color\":\"#2a3f5f\"}},\"annotationdefaults\":{\"arrowcolor\":\"#2a3f5f\",\"arrowhead\":0,\"arrowwidth\":1},\"geo\":{\"bgcolor\":\"white\",\"landcolor\":\"#E5ECF6\",\"subunitcolor\":\"white\",\"showland\":true,\"showlakes\":true,\"lakecolor\":\"white\"},\"title\":{\"x\":0.05},\"mapbox\":{\"style\":\"light\"}}},\"xaxis\":{\"anchor\":\"y\",\"domain\":[0.0,1.0],\"title\":{\"text\":\"data\"}},\"yaxis\":{\"anchor\":\"x\",\"domain\":[0.0,1.0],\"title\":{\"text\":\"sigmoid\"},\"range\":[0,1]},\"legend\":{\"tracegroupgap\":0},\"margin\":{\"t\":60},\"width\":800},                        {\"responsive\": true}                    ).then(function(){\n",
              "                            \n",
              "var gd = document.getElementById('fc2b9fc6-370f-4530-86fa-7974adc3c028');\n",
              "var x = new MutationObserver(function (mutations, observer) {{\n",
              "        var display = window.getComputedStyle(gd).display;\n",
              "        if (!display || display === 'none') {{\n",
              "            console.log([gd, 'removed!']);\n",
              "            Plotly.purge(gd);\n",
              "            observer.disconnect();\n",
              "        }}\n",
              "}});\n",
              "\n",
              "// Listen for the removal of the full notebook cells\n",
              "var notebookContainer = gd.closest('#notebook-container');\n",
              "if (notebookContainer) {{\n",
              "    x.observe(notebookContainer, {childList: true});\n",
              "}}\n",
              "\n",
              "// Listen for the clearing of the current output cell\n",
              "var outputEl = gd.closest('.output');\n",
              "if (outputEl) {{\n",
              "    x.observe(outputEl, {childList: true});\n",
              "}}\n",
              "\n",
              "                        })                };                            </script>        </div>\n",
              "</body>\n",
              "</html>"
            ]
          },
          "metadata": {}
        }
      ]
    },
    {
      "cell_type": "code",
      "source": [
        "from tensorflow.keras.activations import relu\n",
        "\n",
        "random_data = sorted(np.random.randn(200))\n",
        "data = pd.DataFrame({'data': random_data, 'relu': relu(random_data)})\n",
        "\n",
        "data.head()"
      ],
      "metadata": {
        "colab": {
          "base_uri": "https://localhost:8080/",
          "height": 206
        },
        "id": "oYDgOtpGCDRp",
        "outputId": "25cf1503-bfdc-4cc8-fc1b-dbcef74d9668"
      },
      "execution_count": 19,
      "outputs": [
        {
          "output_type": "execute_result",
          "data": {
            "text/plain": [
              "       data  relu\n",
              "0 -2.941899   0.0\n",
              "1 -2.852129   0.0\n",
              "2 -2.422920   0.0\n",
              "3 -2.357491   0.0\n",
              "4 -2.100131   0.0"
            ],
            "text/html": [
              "\n",
              "  <div id=\"df-b8400748-70e0-41c8-ab77-4acb4788d341\" class=\"colab-df-container\">\n",
              "    <div>\n",
              "<style scoped>\n",
              "    .dataframe tbody tr th:only-of-type {\n",
              "        vertical-align: middle;\n",
              "    }\n",
              "\n",
              "    .dataframe tbody tr th {\n",
              "        vertical-align: top;\n",
              "    }\n",
              "\n",
              "    .dataframe thead th {\n",
              "        text-align: right;\n",
              "    }\n",
              "</style>\n",
              "<table border=\"1\" class=\"dataframe\">\n",
              "  <thead>\n",
              "    <tr style=\"text-align: right;\">\n",
              "      <th></th>\n",
              "      <th>data</th>\n",
              "      <th>relu</th>\n",
              "    </tr>\n",
              "  </thead>\n",
              "  <tbody>\n",
              "    <tr>\n",
              "      <th>0</th>\n",
              "      <td>-2.941899</td>\n",
              "      <td>0.0</td>\n",
              "    </tr>\n",
              "    <tr>\n",
              "      <th>1</th>\n",
              "      <td>-2.852129</td>\n",
              "      <td>0.0</td>\n",
              "    </tr>\n",
              "    <tr>\n",
              "      <th>2</th>\n",
              "      <td>-2.422920</td>\n",
              "      <td>0.0</td>\n",
              "    </tr>\n",
              "    <tr>\n",
              "      <th>3</th>\n",
              "      <td>-2.357491</td>\n",
              "      <td>0.0</td>\n",
              "    </tr>\n",
              "    <tr>\n",
              "      <th>4</th>\n",
              "      <td>-2.100131</td>\n",
              "      <td>0.0</td>\n",
              "    </tr>\n",
              "  </tbody>\n",
              "</table>\n",
              "</div>\n",
              "    <div class=\"colab-df-buttons\">\n",
              "\n",
              "  <div class=\"colab-df-container\">\n",
              "    <button class=\"colab-df-convert\" onclick=\"convertToInteractive('df-b8400748-70e0-41c8-ab77-4acb4788d341')\"\n",
              "            title=\"Convert this dataframe to an interactive table.\"\n",
              "            style=\"display:none;\">\n",
              "\n",
              "  <svg xmlns=\"http://www.w3.org/2000/svg\" height=\"24px\" viewBox=\"0 -960 960 960\">\n",
              "    <path d=\"M120-120v-720h720v720H120Zm60-500h600v-160H180v160Zm220 220h160v-160H400v160Zm0 220h160v-160H400v160ZM180-400h160v-160H180v160Zm440 0h160v-160H620v160ZM180-180h160v-160H180v160Zm440 0h160v-160H620v160Z\"/>\n",
              "  </svg>\n",
              "    </button>\n",
              "\n",
              "  <style>\n",
              "    .colab-df-container {\n",
              "      display:flex;\n",
              "      gap: 12px;\n",
              "    }\n",
              "\n",
              "    .colab-df-convert {\n",
              "      background-color: #E8F0FE;\n",
              "      border: none;\n",
              "      border-radius: 50%;\n",
              "      cursor: pointer;\n",
              "      display: none;\n",
              "      fill: #1967D2;\n",
              "      height: 32px;\n",
              "      padding: 0 0 0 0;\n",
              "      width: 32px;\n",
              "    }\n",
              "\n",
              "    .colab-df-convert:hover {\n",
              "      background-color: #E2EBFA;\n",
              "      box-shadow: 0px 1px 2px rgba(60, 64, 67, 0.3), 0px 1px 3px 1px rgba(60, 64, 67, 0.15);\n",
              "      fill: #174EA6;\n",
              "    }\n",
              "\n",
              "    .colab-df-buttons div {\n",
              "      margin-bottom: 4px;\n",
              "    }\n",
              "\n",
              "    [theme=dark] .colab-df-convert {\n",
              "      background-color: #3B4455;\n",
              "      fill: #D2E3FC;\n",
              "    }\n",
              "\n",
              "    [theme=dark] .colab-df-convert:hover {\n",
              "      background-color: #434B5C;\n",
              "      box-shadow: 0px 1px 3px 1px rgba(0, 0, 0, 0.15);\n",
              "      filter: drop-shadow(0px 1px 2px rgba(0, 0, 0, 0.3));\n",
              "      fill: #FFFFFF;\n",
              "    }\n",
              "  </style>\n",
              "\n",
              "    <script>\n",
              "      const buttonEl =\n",
              "        document.querySelector('#df-b8400748-70e0-41c8-ab77-4acb4788d341 button.colab-df-convert');\n",
              "      buttonEl.style.display =\n",
              "        google.colab.kernel.accessAllowed ? 'block' : 'none';\n",
              "\n",
              "      async function convertToInteractive(key) {\n",
              "        const element = document.querySelector('#df-b8400748-70e0-41c8-ab77-4acb4788d341');\n",
              "        const dataTable =\n",
              "          await google.colab.kernel.invokeFunction('convertToInteractive',\n",
              "                                                    [key], {});\n",
              "        if (!dataTable) return;\n",
              "\n",
              "        const docLinkHtml = 'Like what you see? Visit the ' +\n",
              "          '<a target=\"_blank\" href=https://colab.research.google.com/notebooks/data_table.ipynb>data table notebook</a>'\n",
              "          + ' to learn more about interactive tables.';\n",
              "        element.innerHTML = '';\n",
              "        dataTable['output_type'] = 'display_data';\n",
              "        await google.colab.output.renderOutput(dataTable, element);\n",
              "        const docLink = document.createElement('div');\n",
              "        docLink.innerHTML = docLinkHtml;\n",
              "        element.appendChild(docLink);\n",
              "      }\n",
              "    </script>\n",
              "  </div>\n",
              "\n",
              "\n",
              "<div id=\"df-a6e2b3f8-7abd-423e-826a-5bb6d9d2e12b\">\n",
              "  <button class=\"colab-df-quickchart\" onclick=\"quickchart('df-a6e2b3f8-7abd-423e-826a-5bb6d9d2e12b')\"\n",
              "            title=\"Suggest charts\"\n",
              "            style=\"display:none;\">\n",
              "\n",
              "<svg xmlns=\"http://www.w3.org/2000/svg\" height=\"24px\"viewBox=\"0 0 24 24\"\n",
              "     width=\"24px\">\n",
              "    <g>\n",
              "        <path d=\"M19 3H5c-1.1 0-2 .9-2 2v14c0 1.1.9 2 2 2h14c1.1 0 2-.9 2-2V5c0-1.1-.9-2-2-2zM9 17H7v-7h2v7zm4 0h-2V7h2v10zm4 0h-2v-4h2v4z\"/>\n",
              "    </g>\n",
              "</svg>\n",
              "  </button>\n",
              "\n",
              "<style>\n",
              "  .colab-df-quickchart {\n",
              "      --bg-color: #E8F0FE;\n",
              "      --fill-color: #1967D2;\n",
              "      --hover-bg-color: #E2EBFA;\n",
              "      --hover-fill-color: #174EA6;\n",
              "      --disabled-fill-color: #AAA;\n",
              "      --disabled-bg-color: #DDD;\n",
              "  }\n",
              "\n",
              "  [theme=dark] .colab-df-quickchart {\n",
              "      --bg-color: #3B4455;\n",
              "      --fill-color: #D2E3FC;\n",
              "      --hover-bg-color: #434B5C;\n",
              "      --hover-fill-color: #FFFFFF;\n",
              "      --disabled-bg-color: #3B4455;\n",
              "      --disabled-fill-color: #666;\n",
              "  }\n",
              "\n",
              "  .colab-df-quickchart {\n",
              "    background-color: var(--bg-color);\n",
              "    border: none;\n",
              "    border-radius: 50%;\n",
              "    cursor: pointer;\n",
              "    display: none;\n",
              "    fill: var(--fill-color);\n",
              "    height: 32px;\n",
              "    padding: 0;\n",
              "    width: 32px;\n",
              "  }\n",
              "\n",
              "  .colab-df-quickchart:hover {\n",
              "    background-color: var(--hover-bg-color);\n",
              "    box-shadow: 0 1px 2px rgba(60, 64, 67, 0.3), 0 1px 3px 1px rgba(60, 64, 67, 0.15);\n",
              "    fill: var(--button-hover-fill-color);\n",
              "  }\n",
              "\n",
              "  .colab-df-quickchart-complete:disabled,\n",
              "  .colab-df-quickchart-complete:disabled:hover {\n",
              "    background-color: var(--disabled-bg-color);\n",
              "    fill: var(--disabled-fill-color);\n",
              "    box-shadow: none;\n",
              "  }\n",
              "\n",
              "  .colab-df-spinner {\n",
              "    border: 2px solid var(--fill-color);\n",
              "    border-color: transparent;\n",
              "    border-bottom-color: var(--fill-color);\n",
              "    animation:\n",
              "      spin 1s steps(1) infinite;\n",
              "  }\n",
              "\n",
              "  @keyframes spin {\n",
              "    0% {\n",
              "      border-color: transparent;\n",
              "      border-bottom-color: var(--fill-color);\n",
              "      border-left-color: var(--fill-color);\n",
              "    }\n",
              "    20% {\n",
              "      border-color: transparent;\n",
              "      border-left-color: var(--fill-color);\n",
              "      border-top-color: var(--fill-color);\n",
              "    }\n",
              "    30% {\n",
              "      border-color: transparent;\n",
              "      border-left-color: var(--fill-color);\n",
              "      border-top-color: var(--fill-color);\n",
              "      border-right-color: var(--fill-color);\n",
              "    }\n",
              "    40% {\n",
              "      border-color: transparent;\n",
              "      border-right-color: var(--fill-color);\n",
              "      border-top-color: var(--fill-color);\n",
              "    }\n",
              "    60% {\n",
              "      border-color: transparent;\n",
              "      border-right-color: var(--fill-color);\n",
              "    }\n",
              "    80% {\n",
              "      border-color: transparent;\n",
              "      border-right-color: var(--fill-color);\n",
              "      border-bottom-color: var(--fill-color);\n",
              "    }\n",
              "    90% {\n",
              "      border-color: transparent;\n",
              "      border-bottom-color: var(--fill-color);\n",
              "    }\n",
              "  }\n",
              "</style>\n",
              "\n",
              "  <script>\n",
              "    async function quickchart(key) {\n",
              "      const quickchartButtonEl =\n",
              "        document.querySelector('#' + key + ' button');\n",
              "      quickchartButtonEl.disabled = true;  // To prevent multiple clicks.\n",
              "      quickchartButtonEl.classList.add('colab-df-spinner');\n",
              "      try {\n",
              "        const charts = await google.colab.kernel.invokeFunction(\n",
              "            'suggestCharts', [key], {});\n",
              "      } catch (error) {\n",
              "        console.error('Error during call to suggestCharts:', error);\n",
              "      }\n",
              "      quickchartButtonEl.classList.remove('colab-df-spinner');\n",
              "      quickchartButtonEl.classList.add('colab-df-quickchart-complete');\n",
              "    }\n",
              "    (() => {\n",
              "      let quickchartButtonEl =\n",
              "        document.querySelector('#df-a6e2b3f8-7abd-423e-826a-5bb6d9d2e12b button');\n",
              "      quickchartButtonEl.style.display =\n",
              "        google.colab.kernel.accessAllowed ? 'block' : 'none';\n",
              "    })();\n",
              "  </script>\n",
              "</div>\n",
              "\n",
              "    </div>\n",
              "  </div>\n"
            ],
            "application/vnd.google.colaboratory.intrinsic+json": {
              "type": "dataframe",
              "variable_name": "data",
              "summary": "{\n  \"name\": \"data\",\n  \"rows\": 200,\n  \"fields\": [\n    {\n      \"column\": \"data\",\n      \"properties\": {\n        \"dtype\": \"number\",\n        \"std\": 1.0534223147287893,\n        \"min\": -2.9418990565141834,\n        \"max\": 2.462650252699349,\n        \"num_unique_values\": 200,\n        \"samples\": [\n          -0.19577211779171447,\n          -1.5615252780930604,\n          -1.2489672172547566\n        ],\n        \"semantic_type\": \"\",\n        \"description\": \"\"\n      }\n    },\n    {\n      \"column\": \"relu\",\n      \"properties\": {\n        \"dtype\": \"number\",\n        \"std\": 0.5674400788112942,\n        \"min\": 0.0,\n        \"max\": 2.462650252699349,\n        \"num_unique_values\": 91,\n        \"samples\": [\n          0.5306270913790208,\n          0.3439046092295993,\n          0.9111266714200639\n        ],\n        \"semantic_type\": \"\",\n        \"description\": \"\"\n      }\n    }\n  ]\n}"
            }
          },
          "metadata": {},
          "execution_count": 19
        }
      ]
    },
    {
      "cell_type": "code",
      "source": [
        "px.line(data, x='data', y='relu', width=800, range_y=[0,1])"
      ],
      "metadata": {
        "colab": {
          "base_uri": "https://localhost:8080/",
          "height": 542
        },
        "id": "UlN6cvgKCISn",
        "outputId": "19637040-f45a-4944-cfbb-7ccbf43e5f5f"
      },
      "execution_count": 20,
      "outputs": [
        {
          "output_type": "display_data",
          "data": {
            "text/html": [
              "<html>\n",
              "<head><meta charset=\"utf-8\" /></head>\n",
              "<body>\n",
              "    <div>            <script src=\"https://cdnjs.cloudflare.com/ajax/libs/mathjax/2.7.5/MathJax.js?config=TeX-AMS-MML_SVG\"></script><script type=\"text/javascript\">if (window.MathJax && window.MathJax.Hub && window.MathJax.Hub.Config) {window.MathJax.Hub.Config({SVG: {font: \"STIX-Web\"}});}</script>                <script type=\"text/javascript\">window.PlotlyConfig = {MathJaxConfig: 'local'};</script>\n",
              "        <script charset=\"utf-8\" src=\"https://cdn.plot.ly/plotly-2.35.2.min.js\"></script>                <div id=\"1a86a997-0d5e-48da-8a06-268a423ed850\" class=\"plotly-graph-div\" style=\"height:525px; width:800px;\"></div>            <script type=\"text/javascript\">                                    window.PLOTLYENV=window.PLOTLYENV || {};                                    if (document.getElementById(\"1a86a997-0d5e-48da-8a06-268a423ed850\")) {                    Plotly.newPlot(                        \"1a86a997-0d5e-48da-8a06-268a423ed850\",                        [{\"hovertemplate\":\"data=%{x}\\u003cbr\\u003erelu=%{y}\\u003cextra\\u003e\\u003c\\u002fextra\\u003e\",\"legendgroup\":\"\",\"line\":{\"color\":\"#636efa\",\"dash\":\"solid\"},\"marker\":{\"symbol\":\"circle\"},\"mode\":\"lines\",\"name\":\"\",\"orientation\":\"v\",\"showlegend\":false,\"x\":[-2.9418990565141834,-2.852128828623743,-2.422920386031785,-2.357490886202984,-2.100131141692257,-2.0662425858745106,-2.0168206751902376,-1.9874743454858674,-1.8096830705249134,-1.7758557248805698,-1.7384013874997797,-1.6662651233518966,-1.5963500295398911,-1.5869403113234861,-1.5693463237539922,-1.5615252780930604,-1.5544602028557668,-1.5532791026746315,-1.5421462983576395,-1.5199802409761662,-1.4412620367612035,-1.4072070312017346,-1.4030730493011159,-1.3926794811775727,-1.363388312603267,-1.3400131342804864,-1.317718108327017,-1.2938226065012974,-1.2813645820081125,-1.262059980192662,-1.2489672172547566,-1.2267478217407077,-1.2216975754853916,-1.1769199483742077,-1.1664365841799345,-1.161936294681364,-1.1428622018704921,-1.126792922831195,-1.1064350036623294,-1.0881743254195633,-1.0811065090972467,-1.0743895243269457,-1.0011939562672099,-0.9907157333761055,-0.9591001978569892,-0.9504448164916762,-0.9435918013857557,-0.940206865783513,-0.9309636071895626,-0.9289692690896979,-0.9173961510389889,-0.9157174247915207,-0.9130297072153314,-0.8966564914126076,-0.8497743700021125,-0.8391556942987485,-0.8329019887143383,-0.7947680749321835,-0.7659722436018841,-0.7503965747323295,-0.7391182644355745,-0.7146770865826716,-0.6918590843754082,-0.6611134310289342,-0.6305173146633599,-0.6276891903410113,-0.6069164908770492,-0.5721466554926676,-0.5247078544793791,-0.5070618074939726,-0.4643442871400171,-0.4625138915260446,-0.4542788430373997,-0.4115079152278699,-0.3972193309236129,-0.3889969292805916,-0.37444017204194574,-0.36333640407702344,-0.3526303253711346,-0.3473093027818915,-0.34607439963275244,-0.34402830970716075,-0.3409216336456493,-0.332052046434243,-0.3291420250228515,-0.3254652640100213,-0.3192809137856242,-0.30671769689528017,-0.2917915590497156,-0.2542987335691659,-0.24762193196539375,-0.2409070261480421,-0.22615570086250725,-0.21068109538564136,-0.2065358476586801,-0.19577211779171447,-0.17224881599981204,-0.14951601764794947,-0.13413923268750697,-0.13032399788770666,-0.10642589381490224,-0.09612946535244794,-0.09393674917954992,-0.09373788367851929,-0.08345241844421349,-0.07888720919686186,-0.0653040079644208,-0.041857066339071776,-0.029380072782010692,-0.019514398144233207,0.028995181418543455,0.029734552537761826,0.06358077549608526,0.07264240606088782,0.09367178649636267,0.10499426478361479,0.11140634296512207,0.14685294166947255,0.1496478181732543,0.16564205354296416,0.18807717223799975,0.18980068449571627,0.20662867287439754,0.21491430637220132,0.23727708539315012,0.24039081954280103,0.24096372287817394,0.25156063380066723,0.30590978655647605,0.31571191441958424,0.3342616537952768,0.3439046092295993,0.34647603615239625,0.3754064343874335,0.3820990327888035,0.3918515211952376,0.42368672595312123,0.42667323698638276,0.42895502174461503,0.42943356672212885,0.4363765468708341,0.44003928205683684,0.4473554713710304,0.48216391341355874,0.4929164239758686,0.4983800300185621,0.4995899043207524,0.49964956367046554,0.5061063293919892,0.5306270913790208,0.5817384091241896,0.5944907918998501,0.6968169453039207,0.700624603965836,0.7255340969765312,0.7361724187562659,0.7521369783085453,0.7866274191385301,0.7931183226277899,0.8011883939682397,0.8043186120178125,0.8289148987693193,0.8499071353883719,0.9086519336068482,0.9111266714200639,0.9175231815989028,0.9240388873723652,0.9473369504124471,0.9560004464134256,1.0036749216050467,1.0053933302539897,1.0523383522394698,1.0849902247134242,1.0887778751693795,1.090998728485257,1.1219858170151116,1.1225604383369228,1.1919062459594234,1.2119282562269225,1.229377312403579,1.2469723749931125,1.2825444294495967,1.3137194737099578,1.3486452055648037,1.3629689930330666,1.416375560347665,1.511145717629573,1.5743564081787735,1.6791039349573174,1.7252406085412537,1.7269919168821084,1.7556127514204236,1.8141748514528444,1.8442242666067994,1.9356555661757973,1.9845171475839958,2.0100608920160514,2.040166902812947,2.1894662118718253,2.462650252699349],\"xaxis\":\"x\",\"y\":[0.0,0.0,0.0,0.0,0.0,0.0,0.0,0.0,0.0,0.0,0.0,0.0,0.0,0.0,0.0,0.0,0.0,0.0,0.0,0.0,0.0,0.0,0.0,0.0,0.0,0.0,0.0,0.0,0.0,0.0,0.0,0.0,0.0,0.0,0.0,0.0,0.0,0.0,0.0,0.0,0.0,0.0,0.0,0.0,0.0,0.0,0.0,0.0,0.0,0.0,0.0,0.0,0.0,0.0,0.0,0.0,0.0,0.0,0.0,0.0,0.0,0.0,0.0,0.0,0.0,0.0,0.0,0.0,0.0,0.0,0.0,0.0,0.0,0.0,0.0,0.0,0.0,0.0,0.0,0.0,0.0,0.0,0.0,0.0,0.0,0.0,0.0,0.0,0.0,0.0,0.0,0.0,0.0,0.0,0.0,0.0,0.0,0.0,0.0,0.0,0.0,0.0,0.0,0.0,0.0,0.0,0.0,0.0,0.0,0.0,0.028995181418543455,0.029734552537761826,0.06358077549608526,0.07264240606088782,0.09367178649636267,0.10499426478361479,0.11140634296512207,0.14685294166947255,0.1496478181732543,0.16564205354296416,0.18807717223799975,0.18980068449571627,0.20662867287439754,0.21491430637220132,0.23727708539315012,0.24039081954280103,0.24096372287817394,0.25156063380066723,0.30590978655647605,0.31571191441958424,0.3342616537952768,0.3439046092295993,0.34647603615239625,0.3754064343874335,0.3820990327888035,0.3918515211952376,0.42368672595312123,0.42667323698638276,0.42895502174461503,0.42943356672212885,0.4363765468708341,0.44003928205683684,0.4473554713710304,0.48216391341355874,0.4929164239758686,0.4983800300185621,0.4995899043207524,0.49964956367046554,0.5061063293919892,0.5306270913790208,0.5817384091241896,0.5944907918998501,0.6968169453039207,0.700624603965836,0.7255340969765312,0.7361724187562659,0.7521369783085453,0.7866274191385301,0.7931183226277899,0.8011883939682397,0.8043186120178125,0.8289148987693193,0.8499071353883719,0.9086519336068482,0.9111266714200639,0.9175231815989028,0.9240388873723652,0.9473369504124471,0.9560004464134256,1.0036749216050467,1.0053933302539897,1.0523383522394698,1.0849902247134242,1.0887778751693795,1.090998728485257,1.1219858170151116,1.1225604383369228,1.1919062459594234,1.2119282562269225,1.229377312403579,1.2469723749931125,1.2825444294495967,1.3137194737099578,1.3486452055648037,1.3629689930330666,1.416375560347665,1.511145717629573,1.5743564081787735,1.6791039349573174,1.7252406085412537,1.7269919168821084,1.7556127514204236,1.8141748514528444,1.8442242666067994,1.9356555661757973,1.9845171475839958,2.0100608920160514,2.040166902812947,2.1894662118718253,2.462650252699349],\"yaxis\":\"y\",\"type\":\"scatter\"}],                        {\"template\":{\"data\":{\"histogram2dcontour\":[{\"type\":\"histogram2dcontour\",\"colorbar\":{\"outlinewidth\":0,\"ticks\":\"\"},\"colorscale\":[[0.0,\"#0d0887\"],[0.1111111111111111,\"#46039f\"],[0.2222222222222222,\"#7201a8\"],[0.3333333333333333,\"#9c179e\"],[0.4444444444444444,\"#bd3786\"],[0.5555555555555556,\"#d8576b\"],[0.6666666666666666,\"#ed7953\"],[0.7777777777777778,\"#fb9f3a\"],[0.8888888888888888,\"#fdca26\"],[1.0,\"#f0f921\"]]}],\"choropleth\":[{\"type\":\"choropleth\",\"colorbar\":{\"outlinewidth\":0,\"ticks\":\"\"}}],\"histogram2d\":[{\"type\":\"histogram2d\",\"colorbar\":{\"outlinewidth\":0,\"ticks\":\"\"},\"colorscale\":[[0.0,\"#0d0887\"],[0.1111111111111111,\"#46039f\"],[0.2222222222222222,\"#7201a8\"],[0.3333333333333333,\"#9c179e\"],[0.4444444444444444,\"#bd3786\"],[0.5555555555555556,\"#d8576b\"],[0.6666666666666666,\"#ed7953\"],[0.7777777777777778,\"#fb9f3a\"],[0.8888888888888888,\"#fdca26\"],[1.0,\"#f0f921\"]]}],\"heatmap\":[{\"type\":\"heatmap\",\"colorbar\":{\"outlinewidth\":0,\"ticks\":\"\"},\"colorscale\":[[0.0,\"#0d0887\"],[0.1111111111111111,\"#46039f\"],[0.2222222222222222,\"#7201a8\"],[0.3333333333333333,\"#9c179e\"],[0.4444444444444444,\"#bd3786\"],[0.5555555555555556,\"#d8576b\"],[0.6666666666666666,\"#ed7953\"],[0.7777777777777778,\"#fb9f3a\"],[0.8888888888888888,\"#fdca26\"],[1.0,\"#f0f921\"]]}],\"heatmapgl\":[{\"type\":\"heatmapgl\",\"colorbar\":{\"outlinewidth\":0,\"ticks\":\"\"},\"colorscale\":[[0.0,\"#0d0887\"],[0.1111111111111111,\"#46039f\"],[0.2222222222222222,\"#7201a8\"],[0.3333333333333333,\"#9c179e\"],[0.4444444444444444,\"#bd3786\"],[0.5555555555555556,\"#d8576b\"],[0.6666666666666666,\"#ed7953\"],[0.7777777777777778,\"#fb9f3a\"],[0.8888888888888888,\"#fdca26\"],[1.0,\"#f0f921\"]]}],\"contourcarpet\":[{\"type\":\"contourcarpet\",\"colorbar\":{\"outlinewidth\":0,\"ticks\":\"\"}}],\"contour\":[{\"type\":\"contour\",\"colorbar\":{\"outlinewidth\":0,\"ticks\":\"\"},\"colorscale\":[[0.0,\"#0d0887\"],[0.1111111111111111,\"#46039f\"],[0.2222222222222222,\"#7201a8\"],[0.3333333333333333,\"#9c179e\"],[0.4444444444444444,\"#bd3786\"],[0.5555555555555556,\"#d8576b\"],[0.6666666666666666,\"#ed7953\"],[0.7777777777777778,\"#fb9f3a\"],[0.8888888888888888,\"#fdca26\"],[1.0,\"#f0f921\"]]}],\"surface\":[{\"type\":\"surface\",\"colorbar\":{\"outlinewidth\":0,\"ticks\":\"\"},\"colorscale\":[[0.0,\"#0d0887\"],[0.1111111111111111,\"#46039f\"],[0.2222222222222222,\"#7201a8\"],[0.3333333333333333,\"#9c179e\"],[0.4444444444444444,\"#bd3786\"],[0.5555555555555556,\"#d8576b\"],[0.6666666666666666,\"#ed7953\"],[0.7777777777777778,\"#fb9f3a\"],[0.8888888888888888,\"#fdca26\"],[1.0,\"#f0f921\"]]}],\"mesh3d\":[{\"type\":\"mesh3d\",\"colorbar\":{\"outlinewidth\":0,\"ticks\":\"\"}}],\"scatter\":[{\"fillpattern\":{\"fillmode\":\"overlay\",\"size\":10,\"solidity\":0.2},\"type\":\"scatter\"}],\"parcoords\":[{\"type\":\"parcoords\",\"line\":{\"colorbar\":{\"outlinewidth\":0,\"ticks\":\"\"}}}],\"scatterpolargl\":[{\"type\":\"scatterpolargl\",\"marker\":{\"colorbar\":{\"outlinewidth\":0,\"ticks\":\"\"}}}],\"bar\":[{\"error_x\":{\"color\":\"#2a3f5f\"},\"error_y\":{\"color\":\"#2a3f5f\"},\"marker\":{\"line\":{\"color\":\"#E5ECF6\",\"width\":0.5},\"pattern\":{\"fillmode\":\"overlay\",\"size\":10,\"solidity\":0.2}},\"type\":\"bar\"}],\"scattergeo\":[{\"type\":\"scattergeo\",\"marker\":{\"colorbar\":{\"outlinewidth\":0,\"ticks\":\"\"}}}],\"scatterpolar\":[{\"type\":\"scatterpolar\",\"marker\":{\"colorbar\":{\"outlinewidth\":0,\"ticks\":\"\"}}}],\"histogram\":[{\"marker\":{\"pattern\":{\"fillmode\":\"overlay\",\"size\":10,\"solidity\":0.2}},\"type\":\"histogram\"}],\"scattergl\":[{\"type\":\"scattergl\",\"marker\":{\"colorbar\":{\"outlinewidth\":0,\"ticks\":\"\"}}}],\"scatter3d\":[{\"type\":\"scatter3d\",\"line\":{\"colorbar\":{\"outlinewidth\":0,\"ticks\":\"\"}},\"marker\":{\"colorbar\":{\"outlinewidth\":0,\"ticks\":\"\"}}}],\"scattermapbox\":[{\"type\":\"scattermapbox\",\"marker\":{\"colorbar\":{\"outlinewidth\":0,\"ticks\":\"\"}}}],\"scatterternary\":[{\"type\":\"scatterternary\",\"marker\":{\"colorbar\":{\"outlinewidth\":0,\"ticks\":\"\"}}}],\"scattercarpet\":[{\"type\":\"scattercarpet\",\"marker\":{\"colorbar\":{\"outlinewidth\":0,\"ticks\":\"\"}}}],\"carpet\":[{\"aaxis\":{\"endlinecolor\":\"#2a3f5f\",\"gridcolor\":\"white\",\"linecolor\":\"white\",\"minorgridcolor\":\"white\",\"startlinecolor\":\"#2a3f5f\"},\"baxis\":{\"endlinecolor\":\"#2a3f5f\",\"gridcolor\":\"white\",\"linecolor\":\"white\",\"minorgridcolor\":\"white\",\"startlinecolor\":\"#2a3f5f\"},\"type\":\"carpet\"}],\"table\":[{\"cells\":{\"fill\":{\"color\":\"#EBF0F8\"},\"line\":{\"color\":\"white\"}},\"header\":{\"fill\":{\"color\":\"#C8D4E3\"},\"line\":{\"color\":\"white\"}},\"type\":\"table\"}],\"barpolar\":[{\"marker\":{\"line\":{\"color\":\"#E5ECF6\",\"width\":0.5},\"pattern\":{\"fillmode\":\"overlay\",\"size\":10,\"solidity\":0.2}},\"type\":\"barpolar\"}],\"pie\":[{\"automargin\":true,\"type\":\"pie\"}]},\"layout\":{\"autotypenumbers\":\"strict\",\"colorway\":[\"#636efa\",\"#EF553B\",\"#00cc96\",\"#ab63fa\",\"#FFA15A\",\"#19d3f3\",\"#FF6692\",\"#B6E880\",\"#FF97FF\",\"#FECB52\"],\"font\":{\"color\":\"#2a3f5f\"},\"hovermode\":\"closest\",\"hoverlabel\":{\"align\":\"left\"},\"paper_bgcolor\":\"white\",\"plot_bgcolor\":\"#E5ECF6\",\"polar\":{\"bgcolor\":\"#E5ECF6\",\"angularaxis\":{\"gridcolor\":\"white\",\"linecolor\":\"white\",\"ticks\":\"\"},\"radialaxis\":{\"gridcolor\":\"white\",\"linecolor\":\"white\",\"ticks\":\"\"}},\"ternary\":{\"bgcolor\":\"#E5ECF6\",\"aaxis\":{\"gridcolor\":\"white\",\"linecolor\":\"white\",\"ticks\":\"\"},\"baxis\":{\"gridcolor\":\"white\",\"linecolor\":\"white\",\"ticks\":\"\"},\"caxis\":{\"gridcolor\":\"white\",\"linecolor\":\"white\",\"ticks\":\"\"}},\"coloraxis\":{\"colorbar\":{\"outlinewidth\":0,\"ticks\":\"\"}},\"colorscale\":{\"sequential\":[[0.0,\"#0d0887\"],[0.1111111111111111,\"#46039f\"],[0.2222222222222222,\"#7201a8\"],[0.3333333333333333,\"#9c179e\"],[0.4444444444444444,\"#bd3786\"],[0.5555555555555556,\"#d8576b\"],[0.6666666666666666,\"#ed7953\"],[0.7777777777777778,\"#fb9f3a\"],[0.8888888888888888,\"#fdca26\"],[1.0,\"#f0f921\"]],\"sequentialminus\":[[0.0,\"#0d0887\"],[0.1111111111111111,\"#46039f\"],[0.2222222222222222,\"#7201a8\"],[0.3333333333333333,\"#9c179e\"],[0.4444444444444444,\"#bd3786\"],[0.5555555555555556,\"#d8576b\"],[0.6666666666666666,\"#ed7953\"],[0.7777777777777778,\"#fb9f3a\"],[0.8888888888888888,\"#fdca26\"],[1.0,\"#f0f921\"]],\"diverging\":[[0,\"#8e0152\"],[0.1,\"#c51b7d\"],[0.2,\"#de77ae\"],[0.3,\"#f1b6da\"],[0.4,\"#fde0ef\"],[0.5,\"#f7f7f7\"],[0.6,\"#e6f5d0\"],[0.7,\"#b8e186\"],[0.8,\"#7fbc41\"],[0.9,\"#4d9221\"],[1,\"#276419\"]]},\"xaxis\":{\"gridcolor\":\"white\",\"linecolor\":\"white\",\"ticks\":\"\",\"title\":{\"standoff\":15},\"zerolinecolor\":\"white\",\"automargin\":true,\"zerolinewidth\":2},\"yaxis\":{\"gridcolor\":\"white\",\"linecolor\":\"white\",\"ticks\":\"\",\"title\":{\"standoff\":15},\"zerolinecolor\":\"white\",\"automargin\":true,\"zerolinewidth\":2},\"scene\":{\"xaxis\":{\"backgroundcolor\":\"#E5ECF6\",\"gridcolor\":\"white\",\"linecolor\":\"white\",\"showbackground\":true,\"ticks\":\"\",\"zerolinecolor\":\"white\",\"gridwidth\":2},\"yaxis\":{\"backgroundcolor\":\"#E5ECF6\",\"gridcolor\":\"white\",\"linecolor\":\"white\",\"showbackground\":true,\"ticks\":\"\",\"zerolinecolor\":\"white\",\"gridwidth\":2},\"zaxis\":{\"backgroundcolor\":\"#E5ECF6\",\"gridcolor\":\"white\",\"linecolor\":\"white\",\"showbackground\":true,\"ticks\":\"\",\"zerolinecolor\":\"white\",\"gridwidth\":2}},\"shapedefaults\":{\"line\":{\"color\":\"#2a3f5f\"}},\"annotationdefaults\":{\"arrowcolor\":\"#2a3f5f\",\"arrowhead\":0,\"arrowwidth\":1},\"geo\":{\"bgcolor\":\"white\",\"landcolor\":\"#E5ECF6\",\"subunitcolor\":\"white\",\"showland\":true,\"showlakes\":true,\"lakecolor\":\"white\"},\"title\":{\"x\":0.05},\"mapbox\":{\"style\":\"light\"}}},\"xaxis\":{\"anchor\":\"y\",\"domain\":[0.0,1.0],\"title\":{\"text\":\"data\"}},\"yaxis\":{\"anchor\":\"x\",\"domain\":[0.0,1.0],\"title\":{\"text\":\"relu\"},\"range\":[0,1]},\"legend\":{\"tracegroupgap\":0},\"margin\":{\"t\":60},\"width\":800},                        {\"responsive\": true}                    ).then(function(){\n",
              "                            \n",
              "var gd = document.getElementById('1a86a997-0d5e-48da-8a06-268a423ed850');\n",
              "var x = new MutationObserver(function (mutations, observer) {{\n",
              "        var display = window.getComputedStyle(gd).display;\n",
              "        if (!display || display === 'none') {{\n",
              "            console.log([gd, 'removed!']);\n",
              "            Plotly.purge(gd);\n",
              "            observer.disconnect();\n",
              "        }}\n",
              "}});\n",
              "\n",
              "// Listen for the removal of the full notebook cells\n",
              "var notebookContainer = gd.closest('#notebook-container');\n",
              "if (notebookContainer) {{\n",
              "    x.observe(notebookContainer, {childList: true});\n",
              "}}\n",
              "\n",
              "// Listen for the clearing of the current output cell\n",
              "var outputEl = gd.closest('.output');\n",
              "if (outputEl) {{\n",
              "    x.observe(outputEl, {childList: true});\n",
              "}}\n",
              "\n",
              "                        })                };                            </script>        </div>\n",
              "</body>\n",
              "</html>"
            ]
          },
          "metadata": {}
        }
      ]
    },
    {
      "cell_type": "code",
      "source": [
        "from tensorflow.keras.activations import tanh\n",
        "\n",
        "random_data = sorted(np.random.randn(200))\n",
        "data = pd.DataFrame({'data': random_data, 'tanh': tanh(random_data)})\n",
        "\n",
        "data.head()"
      ],
      "metadata": {
        "colab": {
          "base_uri": "https://localhost:8080/",
          "height": 206
        },
        "id": "zFPOhgCACeQo",
        "outputId": "25887c89-2bf3-4156-a493-73293df5681e"
      },
      "execution_count": 21,
      "outputs": [
        {
          "output_type": "execute_result",
          "data": {
            "text/plain": [
              "       data      tanh\n",
              "0 -2.227050 -0.977006\n",
              "1 -2.198727 -0.975682\n",
              "2 -2.095275 -0.970176\n",
              "3 -2.004319 -0.964331\n",
              "4 -1.935526 -0.959178"
            ],
            "text/html": [
              "\n",
              "  <div id=\"df-62c60444-a10d-46ed-9d9d-5806df3dd0de\" class=\"colab-df-container\">\n",
              "    <div>\n",
              "<style scoped>\n",
              "    .dataframe tbody tr th:only-of-type {\n",
              "        vertical-align: middle;\n",
              "    }\n",
              "\n",
              "    .dataframe tbody tr th {\n",
              "        vertical-align: top;\n",
              "    }\n",
              "\n",
              "    .dataframe thead th {\n",
              "        text-align: right;\n",
              "    }\n",
              "</style>\n",
              "<table border=\"1\" class=\"dataframe\">\n",
              "  <thead>\n",
              "    <tr style=\"text-align: right;\">\n",
              "      <th></th>\n",
              "      <th>data</th>\n",
              "      <th>tanh</th>\n",
              "    </tr>\n",
              "  </thead>\n",
              "  <tbody>\n",
              "    <tr>\n",
              "      <th>0</th>\n",
              "      <td>-2.227050</td>\n",
              "      <td>-0.977006</td>\n",
              "    </tr>\n",
              "    <tr>\n",
              "      <th>1</th>\n",
              "      <td>-2.198727</td>\n",
              "      <td>-0.975682</td>\n",
              "    </tr>\n",
              "    <tr>\n",
              "      <th>2</th>\n",
              "      <td>-2.095275</td>\n",
              "      <td>-0.970176</td>\n",
              "    </tr>\n",
              "    <tr>\n",
              "      <th>3</th>\n",
              "      <td>-2.004319</td>\n",
              "      <td>-0.964331</td>\n",
              "    </tr>\n",
              "    <tr>\n",
              "      <th>4</th>\n",
              "      <td>-1.935526</td>\n",
              "      <td>-0.959178</td>\n",
              "    </tr>\n",
              "  </tbody>\n",
              "</table>\n",
              "</div>\n",
              "    <div class=\"colab-df-buttons\">\n",
              "\n",
              "  <div class=\"colab-df-container\">\n",
              "    <button class=\"colab-df-convert\" onclick=\"convertToInteractive('df-62c60444-a10d-46ed-9d9d-5806df3dd0de')\"\n",
              "            title=\"Convert this dataframe to an interactive table.\"\n",
              "            style=\"display:none;\">\n",
              "\n",
              "  <svg xmlns=\"http://www.w3.org/2000/svg\" height=\"24px\" viewBox=\"0 -960 960 960\">\n",
              "    <path d=\"M120-120v-720h720v720H120Zm60-500h600v-160H180v160Zm220 220h160v-160H400v160Zm0 220h160v-160H400v160ZM180-400h160v-160H180v160Zm440 0h160v-160H620v160ZM180-180h160v-160H180v160Zm440 0h160v-160H620v160Z\"/>\n",
              "  </svg>\n",
              "    </button>\n",
              "\n",
              "  <style>\n",
              "    .colab-df-container {\n",
              "      display:flex;\n",
              "      gap: 12px;\n",
              "    }\n",
              "\n",
              "    .colab-df-convert {\n",
              "      background-color: #E8F0FE;\n",
              "      border: none;\n",
              "      border-radius: 50%;\n",
              "      cursor: pointer;\n",
              "      display: none;\n",
              "      fill: #1967D2;\n",
              "      height: 32px;\n",
              "      padding: 0 0 0 0;\n",
              "      width: 32px;\n",
              "    }\n",
              "\n",
              "    .colab-df-convert:hover {\n",
              "      background-color: #E2EBFA;\n",
              "      box-shadow: 0px 1px 2px rgba(60, 64, 67, 0.3), 0px 1px 3px 1px rgba(60, 64, 67, 0.15);\n",
              "      fill: #174EA6;\n",
              "    }\n",
              "\n",
              "    .colab-df-buttons div {\n",
              "      margin-bottom: 4px;\n",
              "    }\n",
              "\n",
              "    [theme=dark] .colab-df-convert {\n",
              "      background-color: #3B4455;\n",
              "      fill: #D2E3FC;\n",
              "    }\n",
              "\n",
              "    [theme=dark] .colab-df-convert:hover {\n",
              "      background-color: #434B5C;\n",
              "      box-shadow: 0px 1px 3px 1px rgba(0, 0, 0, 0.15);\n",
              "      filter: drop-shadow(0px 1px 2px rgba(0, 0, 0, 0.3));\n",
              "      fill: #FFFFFF;\n",
              "    }\n",
              "  </style>\n",
              "\n",
              "    <script>\n",
              "      const buttonEl =\n",
              "        document.querySelector('#df-62c60444-a10d-46ed-9d9d-5806df3dd0de button.colab-df-convert');\n",
              "      buttonEl.style.display =\n",
              "        google.colab.kernel.accessAllowed ? 'block' : 'none';\n",
              "\n",
              "      async function convertToInteractive(key) {\n",
              "        const element = document.querySelector('#df-62c60444-a10d-46ed-9d9d-5806df3dd0de');\n",
              "        const dataTable =\n",
              "          await google.colab.kernel.invokeFunction('convertToInteractive',\n",
              "                                                    [key], {});\n",
              "        if (!dataTable) return;\n",
              "\n",
              "        const docLinkHtml = 'Like what you see? Visit the ' +\n",
              "          '<a target=\"_blank\" href=https://colab.research.google.com/notebooks/data_table.ipynb>data table notebook</a>'\n",
              "          + ' to learn more about interactive tables.';\n",
              "        element.innerHTML = '';\n",
              "        dataTable['output_type'] = 'display_data';\n",
              "        await google.colab.output.renderOutput(dataTable, element);\n",
              "        const docLink = document.createElement('div');\n",
              "        docLink.innerHTML = docLinkHtml;\n",
              "        element.appendChild(docLink);\n",
              "      }\n",
              "    </script>\n",
              "  </div>\n",
              "\n",
              "\n",
              "<div id=\"df-d159bee0-9aea-4309-bfb8-2c58ba11962e\">\n",
              "  <button class=\"colab-df-quickchart\" onclick=\"quickchart('df-d159bee0-9aea-4309-bfb8-2c58ba11962e')\"\n",
              "            title=\"Suggest charts\"\n",
              "            style=\"display:none;\">\n",
              "\n",
              "<svg xmlns=\"http://www.w3.org/2000/svg\" height=\"24px\"viewBox=\"0 0 24 24\"\n",
              "     width=\"24px\">\n",
              "    <g>\n",
              "        <path d=\"M19 3H5c-1.1 0-2 .9-2 2v14c0 1.1.9 2 2 2h14c1.1 0 2-.9 2-2V5c0-1.1-.9-2-2-2zM9 17H7v-7h2v7zm4 0h-2V7h2v10zm4 0h-2v-4h2v4z\"/>\n",
              "    </g>\n",
              "</svg>\n",
              "  </button>\n",
              "\n",
              "<style>\n",
              "  .colab-df-quickchart {\n",
              "      --bg-color: #E8F0FE;\n",
              "      --fill-color: #1967D2;\n",
              "      --hover-bg-color: #E2EBFA;\n",
              "      --hover-fill-color: #174EA6;\n",
              "      --disabled-fill-color: #AAA;\n",
              "      --disabled-bg-color: #DDD;\n",
              "  }\n",
              "\n",
              "  [theme=dark] .colab-df-quickchart {\n",
              "      --bg-color: #3B4455;\n",
              "      --fill-color: #D2E3FC;\n",
              "      --hover-bg-color: #434B5C;\n",
              "      --hover-fill-color: #FFFFFF;\n",
              "      --disabled-bg-color: #3B4455;\n",
              "      --disabled-fill-color: #666;\n",
              "  }\n",
              "\n",
              "  .colab-df-quickchart {\n",
              "    background-color: var(--bg-color);\n",
              "    border: none;\n",
              "    border-radius: 50%;\n",
              "    cursor: pointer;\n",
              "    display: none;\n",
              "    fill: var(--fill-color);\n",
              "    height: 32px;\n",
              "    padding: 0;\n",
              "    width: 32px;\n",
              "  }\n",
              "\n",
              "  .colab-df-quickchart:hover {\n",
              "    background-color: var(--hover-bg-color);\n",
              "    box-shadow: 0 1px 2px rgba(60, 64, 67, 0.3), 0 1px 3px 1px rgba(60, 64, 67, 0.15);\n",
              "    fill: var(--button-hover-fill-color);\n",
              "  }\n",
              "\n",
              "  .colab-df-quickchart-complete:disabled,\n",
              "  .colab-df-quickchart-complete:disabled:hover {\n",
              "    background-color: var(--disabled-bg-color);\n",
              "    fill: var(--disabled-fill-color);\n",
              "    box-shadow: none;\n",
              "  }\n",
              "\n",
              "  .colab-df-spinner {\n",
              "    border: 2px solid var(--fill-color);\n",
              "    border-color: transparent;\n",
              "    border-bottom-color: var(--fill-color);\n",
              "    animation:\n",
              "      spin 1s steps(1) infinite;\n",
              "  }\n",
              "\n",
              "  @keyframes spin {\n",
              "    0% {\n",
              "      border-color: transparent;\n",
              "      border-bottom-color: var(--fill-color);\n",
              "      border-left-color: var(--fill-color);\n",
              "    }\n",
              "    20% {\n",
              "      border-color: transparent;\n",
              "      border-left-color: var(--fill-color);\n",
              "      border-top-color: var(--fill-color);\n",
              "    }\n",
              "    30% {\n",
              "      border-color: transparent;\n",
              "      border-left-color: var(--fill-color);\n",
              "      border-top-color: var(--fill-color);\n",
              "      border-right-color: var(--fill-color);\n",
              "    }\n",
              "    40% {\n",
              "      border-color: transparent;\n",
              "      border-right-color: var(--fill-color);\n",
              "      border-top-color: var(--fill-color);\n",
              "    }\n",
              "    60% {\n",
              "      border-color: transparent;\n",
              "      border-right-color: var(--fill-color);\n",
              "    }\n",
              "    80% {\n",
              "      border-color: transparent;\n",
              "      border-right-color: var(--fill-color);\n",
              "      border-bottom-color: var(--fill-color);\n",
              "    }\n",
              "    90% {\n",
              "      border-color: transparent;\n",
              "      border-bottom-color: var(--fill-color);\n",
              "    }\n",
              "  }\n",
              "</style>\n",
              "\n",
              "  <script>\n",
              "    async function quickchart(key) {\n",
              "      const quickchartButtonEl =\n",
              "        document.querySelector('#' + key + ' button');\n",
              "      quickchartButtonEl.disabled = true;  // To prevent multiple clicks.\n",
              "      quickchartButtonEl.classList.add('colab-df-spinner');\n",
              "      try {\n",
              "        const charts = await google.colab.kernel.invokeFunction(\n",
              "            'suggestCharts', [key], {});\n",
              "      } catch (error) {\n",
              "        console.error('Error during call to suggestCharts:', error);\n",
              "      }\n",
              "      quickchartButtonEl.classList.remove('colab-df-spinner');\n",
              "      quickchartButtonEl.classList.add('colab-df-quickchart-complete');\n",
              "    }\n",
              "    (() => {\n",
              "      let quickchartButtonEl =\n",
              "        document.querySelector('#df-d159bee0-9aea-4309-bfb8-2c58ba11962e button');\n",
              "      quickchartButtonEl.style.display =\n",
              "        google.colab.kernel.accessAllowed ? 'block' : 'none';\n",
              "    })();\n",
              "  </script>\n",
              "</div>\n",
              "\n",
              "    </div>\n",
              "  </div>\n"
            ],
            "application/vnd.google.colaboratory.intrinsic+json": {
              "type": "dataframe",
              "variable_name": "data",
              "summary": "{\n  \"name\": \"data\",\n  \"rows\": 200,\n  \"fields\": [\n    {\n      \"column\": \"data\",\n      \"properties\": {\n        \"dtype\": \"number\",\n        \"std\": 0.9730680291501456,\n        \"min\": -2.227050133582612,\n        \"max\": 2.5141326333626752,\n        \"num_unique_values\": 200,\n        \"samples\": [\n          -0.013829375856154158,\n          -1.4629959372662265,\n          -1.0345242741749938\n        ],\n        \"semantic_type\": \"\",\n        \"description\": \"\"\n      }\n    },\n    {\n      \"column\": \"tanh\",\n      \"properties\": {\n        \"dtype\": \"number\",\n        \"std\": 0.6318012328830841,\n        \"min\": -0.9770058800196917,\n        \"max\": 0.9869849238624908,\n        \"num_unique_values\": 200,\n        \"samples\": [\n          -0.013828494293339148,\n          -0.8982329061765886,\n          -0.7757165283852745\n        ],\n        \"semantic_type\": \"\",\n        \"description\": \"\"\n      }\n    }\n  ]\n}"
            }
          },
          "metadata": {},
          "execution_count": 21
        }
      ]
    },
    {
      "cell_type": "code",
      "source": [
        "px.line(data, x='data', y='tanh', width=800, range_y=[-1.5,1.5])"
      ],
      "metadata": {
        "colab": {
          "base_uri": "https://localhost:8080/",
          "height": 542
        },
        "id": "6OjrXImPCiV5",
        "outputId": "f14d3a79-5769-426e-cfc5-0d811f819718"
      },
      "execution_count": 22,
      "outputs": [
        {
          "output_type": "display_data",
          "data": {
            "text/html": [
              "<html>\n",
              "<head><meta charset=\"utf-8\" /></head>\n",
              "<body>\n",
              "    <div>            <script src=\"https://cdnjs.cloudflare.com/ajax/libs/mathjax/2.7.5/MathJax.js?config=TeX-AMS-MML_SVG\"></script><script type=\"text/javascript\">if (window.MathJax && window.MathJax.Hub && window.MathJax.Hub.Config) {window.MathJax.Hub.Config({SVG: {font: \"STIX-Web\"}});}</script>                <script type=\"text/javascript\">window.PlotlyConfig = {MathJaxConfig: 'local'};</script>\n",
              "        <script charset=\"utf-8\" src=\"https://cdn.plot.ly/plotly-2.35.2.min.js\"></script>                <div id=\"385ee484-053d-4400-8c02-4640c75c7f13\" class=\"plotly-graph-div\" style=\"height:525px; width:800px;\"></div>            <script type=\"text/javascript\">                                    window.PLOTLYENV=window.PLOTLYENV || {};                                    if (document.getElementById(\"385ee484-053d-4400-8c02-4640c75c7f13\")) {                    Plotly.newPlot(                        \"385ee484-053d-4400-8c02-4640c75c7f13\",                        [{\"hovertemplate\":\"data=%{x}\\u003cbr\\u003etanh=%{y}\\u003cextra\\u003e\\u003c\\u002fextra\\u003e\",\"legendgroup\":\"\",\"line\":{\"color\":\"#636efa\",\"dash\":\"solid\"},\"marker\":{\"symbol\":\"circle\"},\"mode\":\"lines\",\"name\":\"\",\"orientation\":\"v\",\"showlegend\":false,\"x\":[-2.227050133582612,-2.19872687989812,-2.0952751187216676,-2.004318930808279,-1.9355256940228325,-1.8040748111264713,-1.7939210484964387,-1.7319533993470697,-1.699206073826562,-1.6895514270101253,-1.6309595607465723,-1.5309233333790184,-1.5268826538002063,-1.5113831187723938,-1.497208742457807,-1.4629959372662265,-1.4375729522573442,-1.360670966289166,-1.3111257492257042,-1.307152517659068,-1.1572186568050444,-1.1517660123511324,-1.1499763985498974,-1.1327950498760848,-1.1302735759829383,-1.1184970447241622,-1.1029846749787695,-1.091928464986195,-1.068418327268448,-1.0603327831891007,-1.0345242741749938,-1.034189688126183,-0.9889452608574816,-0.9763391907404159,-0.9736403316026806,-0.9635343595476626,-0.9534602210858486,-0.9234420585316018,-0.9198328512718325,-0.9133422252488383,-0.9001188495083879,-0.8734316601721623,-0.8698795851801693,-0.8610960281361216,-0.8501219449053248,-0.8264761036558328,-0.822907548813743,-0.8110604039017992,-0.8033231704151007,-0.7994271048888355,-0.7592450666914705,-0.7319609204757667,-0.7212378170337425,-0.6396669337029124,-0.6383062452719698,-0.6193763531049308,-0.5993106762393898,-0.5887121650097736,-0.5683217795865233,-0.5583710452423994,-0.5149586206462445,-0.5132242758978202,-0.5031046332652576,-0.47719820974861193,-0.4758410171212325,-0.46295336996563635,-0.44077577380661537,-0.43892627243932836,-0.43004802953793747,-0.4001862255549809,-0.39482799187431533,-0.37900645895982943,-0.36635876955044466,-0.35878092459137745,-0.3501771141882486,-0.33527253795654827,-0.3213133762127775,-0.3062777224254895,-0.2834523031775418,-0.2820110023735993,-0.2609999794572707,-0.23030105018212768,-0.19140271411283477,-0.1695569632544388,-0.1673261551531918,-0.14993342828710224,-0.13716530391479148,-0.12638042884660516,-0.08412550457987228,-0.079588647484396,-0.06503554868572602,-0.057221050414122385,-0.020961535259332843,-0.01973373444503896,-0.01522071500858971,-0.013829375856154158,-0.005617394489314801,-0.004761497318067901,0.00026088064116566755,0.028152932478857653,0.060131696716718384,0.060839890851830204,0.06813425403792223,0.07315759029177833,0.10082461190152185,0.10829263048007827,0.11922304191138731,0.15707102922154606,0.16442915249720955,0.1740581622097646,0.1769384463192067,0.17910552075674727,0.18890054336658668,0.20648614416891722,0.21695963440476712,0.2280540764786429,0.25138408712739296,0.25140894199568026,0.26307382302717147,0.26630014213245357,0.2747210804414785,0.287109776167196,0.31570605635768917,0.31991514439699076,0.3229800134983752,0.33831103551811204,0.34169750375829816,0.3539388682092374,0.3641002451520779,0.3645955112331025,0.37625315300871126,0.3810019962813494,0.4154229714799971,0.4172893639681691,0.4231108944332916,0.4329274422603667,0.43389949011092394,0.44338119219280614,0.45808592674614534,0.46959440247572937,0.4761278133253065,0.506457681130617,0.5314714926908792,0.5445858984100924,0.551879256658938,0.5588994031334223,0.571347541371419,0.6703905247675417,0.6746797738428986,0.6845060594636562,0.7074841432472507,0.7145145508254861,0.7239640743263769,0.7271952318605003,0.7350348607218316,0.757189242055573,0.7722328832328259,0.7881425100989572,0.7992926912168921,0.8319552493591318,0.8848669211038639,0.885747002210252,0.8993219656357632,0.9122930566199353,0.93189196376479,0.9332545124568272,0.9437821513886598,0.952626192836699,0.9774424453812659,0.9867938064421867,0.9888354223419454,1.034338671967618,1.0396407806830834,1.0401239302601284,1.0747252489068895,1.0971674548313928,1.116535319405984,1.1921874194966595,1.2100943393924832,1.2625246076406629,1.3212825191088662,1.325912397739616,1.4228732508699247,1.495890180417364,1.5295060217308216,1.5492790404447756,1.5698561557007524,1.5975670486452604,1.6090144734953664,1.6481608064414526,1.6511742645578744,1.6522714369381468,1.664057326855238,1.7537309459722081,1.8365471013201435,1.8573753420332102,1.8776014218963557,2.0768019075377677,2.1029077430423673,2.5141326333626752],\"xaxis\":\"x\",\"y\":[-0.9770058800196917,-0.9756820394563258,-0.9701755745295446,-0.9643314490313497,-0.9591776906182687,-0.947226369574832,-0.9461728500880398,-0.9392863514343787,-0.9353097482544137,-0.9340900521680171,-0.926198111038314,-0.9105824684676506,-0.909889615018684,-0.9071841937180741,-0.9046425786003482,-0.8982329061765886,-0.8932080907982839,-0.8765485966882309,-0.864559981939383,-0.8635531444968364,-0.8201313873390026,-0.8183382751993494,-0.8177462591718736,-0.8119736956162528,-0.8111128720939857,-0.8070455050789823,-0.8015685623874811,-0.7975809245582776,-0.7888645796922843,-0.7857911926057219,-0.7757165283852745,-0.7755832402622842,-0.7569122216259576,-0.7514767969661238,-0.7502996459225544,-0.7458492325913544,-0.7413455601858789,-0.7275216947986556,-0.7258183317136643,-0.7227325531765917,-0.7163557351616103,-0.7031134761569121,-0.7013129460924697,-0.6968219432296999,-0.691133171286135,-0.6785793011865273,-0.6766492929075029,-0.6701748149735042,-0.665890508380259,-0.6637163684420787,-0.6406320748916925,-0.6242635547864843,-0.6176754496717025,-0.5646727291681398,-0.5637451913475383,-0.5506936602229308,-0.5365588779628971,-0.5289687509020583,-0.5141257191255392,-0.5067678155178109,-0.4737997020343679,-0.4724535888799467,-0.46455528322986334,-0.4439969468214892,-0.44290664570582056,-0.4324882287844754,-0.41428727334761994,-0.4127540361397519,-0.40536144689589515,-0.3801082927875602,-0.37551491770024464,-0.3618443227624719,-0.3508026686244335,-0.344139787714859,-0.3365326089595797,-0.32325040014463763,-0.31069399993388086,-0.29704702596959986,-0.2760972457414781,-0.2747652857329665,-0.2552306091016039,-0.22631400271746285,-0.18909911903662482,-0.16795053809402907,-0.16578184631552467,-0.14881993694404097,-0.13631150479879378,-0.1257118499997114,-0.08392760988516562,-0.07942102466019524,-0.06494401160750515,-0.05715868011758847,-0.02095846573071417,-0.019731173271888232,-0.015219539722313385,-0.013828494293339148,-0.005617335404206587,-0.004761461334399254,0.0002608806352472679,0.028145496947710052,0.0600593262368123,0.06076493569868769,0.06802901676602542,0.07302735514755519,0.10048434779269207,0.10787128038968927,0.11866135118733899,0.1557919345905467,0.1629631179148736,0.17232143617987794,0.1751147970154645,0.17721461755776483,0.1866852850170007,0.20360072646926292,0.21361832851047763,0.22418103350441143,0.24621928312915137,0.24624263105462138,0.25716832854798155,0.260178765041468,0.2680123167807563,0.2794724872715165,0.30561917095517627,0.3094301922976227,0.3121989747622077,0.3259687243092856,0.32899201239079034,0.33986409533081885,0.3488205168312227,0.34925544586546886,0.35944913057591377,0.36357732810230625,0.3930675405947758,0.39464441288667507,0.3995479527179181,0.4077649085891165,0.4085750105321295,0.41644318155056165,0.42852290554689704,0.43787154135525574,0.44313715287435235,0.4671806051930049,0.4865051036450363,0.49645146693725206,0.5019273503455974,0.5071603787595833,0.5163482314833202,0.5852367108161581,0.5880498047187978,0.5944409992601727,0.6090967807283483,0.6134999869621584,0.6193587384778684,0.621346422267317,0.626135966233143,0.6394183833700757,0.6482259575063135,0.6573554852248206,0.663641159893542,0.6815244856202426,0.7088491372425489,0.7092867334431365,0.715967563124493,0.7222310296425635,0.7314747725546649,0.7321076511263511,0.7369551288017336,0.7409696759008255,0.7519566265336113,0.7559918727745598,0.7568653074654413,0.7756425990892324,0.7777461747620635,0.7779370006992355,0.7912348336278117,0.7994792582729251,0.8063604117338574,0.8312560406889982,0.8367077855885835,0.8517586247359069,0.8671025185701096,0.868246743515874,0.8901967942583071,0.9044028131227103,0.9103400228248324,0.9136664562195914,0.9170028779641605,0.9213015070198545,0.9230142596913743,0.9286048092359486,0.9290185825314866,0.9291686592493393,0.9307616307645704,0.9417986771566954,0.9504626139274015,0.9524357099775387,0.9542782828721943,0.969070419399619,0.9706207573907482,0.9869849238624908],\"yaxis\":\"y\",\"type\":\"scatter\"}],                        {\"template\":{\"data\":{\"histogram2dcontour\":[{\"type\":\"histogram2dcontour\",\"colorbar\":{\"outlinewidth\":0,\"ticks\":\"\"},\"colorscale\":[[0.0,\"#0d0887\"],[0.1111111111111111,\"#46039f\"],[0.2222222222222222,\"#7201a8\"],[0.3333333333333333,\"#9c179e\"],[0.4444444444444444,\"#bd3786\"],[0.5555555555555556,\"#d8576b\"],[0.6666666666666666,\"#ed7953\"],[0.7777777777777778,\"#fb9f3a\"],[0.8888888888888888,\"#fdca26\"],[1.0,\"#f0f921\"]]}],\"choropleth\":[{\"type\":\"choropleth\",\"colorbar\":{\"outlinewidth\":0,\"ticks\":\"\"}}],\"histogram2d\":[{\"type\":\"histogram2d\",\"colorbar\":{\"outlinewidth\":0,\"ticks\":\"\"},\"colorscale\":[[0.0,\"#0d0887\"],[0.1111111111111111,\"#46039f\"],[0.2222222222222222,\"#7201a8\"],[0.3333333333333333,\"#9c179e\"],[0.4444444444444444,\"#bd3786\"],[0.5555555555555556,\"#d8576b\"],[0.6666666666666666,\"#ed7953\"],[0.7777777777777778,\"#fb9f3a\"],[0.8888888888888888,\"#fdca26\"],[1.0,\"#f0f921\"]]}],\"heatmap\":[{\"type\":\"heatmap\",\"colorbar\":{\"outlinewidth\":0,\"ticks\":\"\"},\"colorscale\":[[0.0,\"#0d0887\"],[0.1111111111111111,\"#46039f\"],[0.2222222222222222,\"#7201a8\"],[0.3333333333333333,\"#9c179e\"],[0.4444444444444444,\"#bd3786\"],[0.5555555555555556,\"#d8576b\"],[0.6666666666666666,\"#ed7953\"],[0.7777777777777778,\"#fb9f3a\"],[0.8888888888888888,\"#fdca26\"],[1.0,\"#f0f921\"]]}],\"heatmapgl\":[{\"type\":\"heatmapgl\",\"colorbar\":{\"outlinewidth\":0,\"ticks\":\"\"},\"colorscale\":[[0.0,\"#0d0887\"],[0.1111111111111111,\"#46039f\"],[0.2222222222222222,\"#7201a8\"],[0.3333333333333333,\"#9c179e\"],[0.4444444444444444,\"#bd3786\"],[0.5555555555555556,\"#d8576b\"],[0.6666666666666666,\"#ed7953\"],[0.7777777777777778,\"#fb9f3a\"],[0.8888888888888888,\"#fdca26\"],[1.0,\"#f0f921\"]]}],\"contourcarpet\":[{\"type\":\"contourcarpet\",\"colorbar\":{\"outlinewidth\":0,\"ticks\":\"\"}}],\"contour\":[{\"type\":\"contour\",\"colorbar\":{\"outlinewidth\":0,\"ticks\":\"\"},\"colorscale\":[[0.0,\"#0d0887\"],[0.1111111111111111,\"#46039f\"],[0.2222222222222222,\"#7201a8\"],[0.3333333333333333,\"#9c179e\"],[0.4444444444444444,\"#bd3786\"],[0.5555555555555556,\"#d8576b\"],[0.6666666666666666,\"#ed7953\"],[0.7777777777777778,\"#fb9f3a\"],[0.8888888888888888,\"#fdca26\"],[1.0,\"#f0f921\"]]}],\"surface\":[{\"type\":\"surface\",\"colorbar\":{\"outlinewidth\":0,\"ticks\":\"\"},\"colorscale\":[[0.0,\"#0d0887\"],[0.1111111111111111,\"#46039f\"],[0.2222222222222222,\"#7201a8\"],[0.3333333333333333,\"#9c179e\"],[0.4444444444444444,\"#bd3786\"],[0.5555555555555556,\"#d8576b\"],[0.6666666666666666,\"#ed7953\"],[0.7777777777777778,\"#fb9f3a\"],[0.8888888888888888,\"#fdca26\"],[1.0,\"#f0f921\"]]}],\"mesh3d\":[{\"type\":\"mesh3d\",\"colorbar\":{\"outlinewidth\":0,\"ticks\":\"\"}}],\"scatter\":[{\"fillpattern\":{\"fillmode\":\"overlay\",\"size\":10,\"solidity\":0.2},\"type\":\"scatter\"}],\"parcoords\":[{\"type\":\"parcoords\",\"line\":{\"colorbar\":{\"outlinewidth\":0,\"ticks\":\"\"}}}],\"scatterpolargl\":[{\"type\":\"scatterpolargl\",\"marker\":{\"colorbar\":{\"outlinewidth\":0,\"ticks\":\"\"}}}],\"bar\":[{\"error_x\":{\"color\":\"#2a3f5f\"},\"error_y\":{\"color\":\"#2a3f5f\"},\"marker\":{\"line\":{\"color\":\"#E5ECF6\",\"width\":0.5},\"pattern\":{\"fillmode\":\"overlay\",\"size\":10,\"solidity\":0.2}},\"type\":\"bar\"}],\"scattergeo\":[{\"type\":\"scattergeo\",\"marker\":{\"colorbar\":{\"outlinewidth\":0,\"ticks\":\"\"}}}],\"scatterpolar\":[{\"type\":\"scatterpolar\",\"marker\":{\"colorbar\":{\"outlinewidth\":0,\"ticks\":\"\"}}}],\"histogram\":[{\"marker\":{\"pattern\":{\"fillmode\":\"overlay\",\"size\":10,\"solidity\":0.2}},\"type\":\"histogram\"}],\"scattergl\":[{\"type\":\"scattergl\",\"marker\":{\"colorbar\":{\"outlinewidth\":0,\"ticks\":\"\"}}}],\"scatter3d\":[{\"type\":\"scatter3d\",\"line\":{\"colorbar\":{\"outlinewidth\":0,\"ticks\":\"\"}},\"marker\":{\"colorbar\":{\"outlinewidth\":0,\"ticks\":\"\"}}}],\"scattermapbox\":[{\"type\":\"scattermapbox\",\"marker\":{\"colorbar\":{\"outlinewidth\":0,\"ticks\":\"\"}}}],\"scatterternary\":[{\"type\":\"scatterternary\",\"marker\":{\"colorbar\":{\"outlinewidth\":0,\"ticks\":\"\"}}}],\"scattercarpet\":[{\"type\":\"scattercarpet\",\"marker\":{\"colorbar\":{\"outlinewidth\":0,\"ticks\":\"\"}}}],\"carpet\":[{\"aaxis\":{\"endlinecolor\":\"#2a3f5f\",\"gridcolor\":\"white\",\"linecolor\":\"white\",\"minorgridcolor\":\"white\",\"startlinecolor\":\"#2a3f5f\"},\"baxis\":{\"endlinecolor\":\"#2a3f5f\",\"gridcolor\":\"white\",\"linecolor\":\"white\",\"minorgridcolor\":\"white\",\"startlinecolor\":\"#2a3f5f\"},\"type\":\"carpet\"}],\"table\":[{\"cells\":{\"fill\":{\"color\":\"#EBF0F8\"},\"line\":{\"color\":\"white\"}},\"header\":{\"fill\":{\"color\":\"#C8D4E3\"},\"line\":{\"color\":\"white\"}},\"type\":\"table\"}],\"barpolar\":[{\"marker\":{\"line\":{\"color\":\"#E5ECF6\",\"width\":0.5},\"pattern\":{\"fillmode\":\"overlay\",\"size\":10,\"solidity\":0.2}},\"type\":\"barpolar\"}],\"pie\":[{\"automargin\":true,\"type\":\"pie\"}]},\"layout\":{\"autotypenumbers\":\"strict\",\"colorway\":[\"#636efa\",\"#EF553B\",\"#00cc96\",\"#ab63fa\",\"#FFA15A\",\"#19d3f3\",\"#FF6692\",\"#B6E880\",\"#FF97FF\",\"#FECB52\"],\"font\":{\"color\":\"#2a3f5f\"},\"hovermode\":\"closest\",\"hoverlabel\":{\"align\":\"left\"},\"paper_bgcolor\":\"white\",\"plot_bgcolor\":\"#E5ECF6\",\"polar\":{\"bgcolor\":\"#E5ECF6\",\"angularaxis\":{\"gridcolor\":\"white\",\"linecolor\":\"white\",\"ticks\":\"\"},\"radialaxis\":{\"gridcolor\":\"white\",\"linecolor\":\"white\",\"ticks\":\"\"}},\"ternary\":{\"bgcolor\":\"#E5ECF6\",\"aaxis\":{\"gridcolor\":\"white\",\"linecolor\":\"white\",\"ticks\":\"\"},\"baxis\":{\"gridcolor\":\"white\",\"linecolor\":\"white\",\"ticks\":\"\"},\"caxis\":{\"gridcolor\":\"white\",\"linecolor\":\"white\",\"ticks\":\"\"}},\"coloraxis\":{\"colorbar\":{\"outlinewidth\":0,\"ticks\":\"\"}},\"colorscale\":{\"sequential\":[[0.0,\"#0d0887\"],[0.1111111111111111,\"#46039f\"],[0.2222222222222222,\"#7201a8\"],[0.3333333333333333,\"#9c179e\"],[0.4444444444444444,\"#bd3786\"],[0.5555555555555556,\"#d8576b\"],[0.6666666666666666,\"#ed7953\"],[0.7777777777777778,\"#fb9f3a\"],[0.8888888888888888,\"#fdca26\"],[1.0,\"#f0f921\"]],\"sequentialminus\":[[0.0,\"#0d0887\"],[0.1111111111111111,\"#46039f\"],[0.2222222222222222,\"#7201a8\"],[0.3333333333333333,\"#9c179e\"],[0.4444444444444444,\"#bd3786\"],[0.5555555555555556,\"#d8576b\"],[0.6666666666666666,\"#ed7953\"],[0.7777777777777778,\"#fb9f3a\"],[0.8888888888888888,\"#fdca26\"],[1.0,\"#f0f921\"]],\"diverging\":[[0,\"#8e0152\"],[0.1,\"#c51b7d\"],[0.2,\"#de77ae\"],[0.3,\"#f1b6da\"],[0.4,\"#fde0ef\"],[0.5,\"#f7f7f7\"],[0.6,\"#e6f5d0\"],[0.7,\"#b8e186\"],[0.8,\"#7fbc41\"],[0.9,\"#4d9221\"],[1,\"#276419\"]]},\"xaxis\":{\"gridcolor\":\"white\",\"linecolor\":\"white\",\"ticks\":\"\",\"title\":{\"standoff\":15},\"zerolinecolor\":\"white\",\"automargin\":true,\"zerolinewidth\":2},\"yaxis\":{\"gridcolor\":\"white\",\"linecolor\":\"white\",\"ticks\":\"\",\"title\":{\"standoff\":15},\"zerolinecolor\":\"white\",\"automargin\":true,\"zerolinewidth\":2},\"scene\":{\"xaxis\":{\"backgroundcolor\":\"#E5ECF6\",\"gridcolor\":\"white\",\"linecolor\":\"white\",\"showbackground\":true,\"ticks\":\"\",\"zerolinecolor\":\"white\",\"gridwidth\":2},\"yaxis\":{\"backgroundcolor\":\"#E5ECF6\",\"gridcolor\":\"white\",\"linecolor\":\"white\",\"showbackground\":true,\"ticks\":\"\",\"zerolinecolor\":\"white\",\"gridwidth\":2},\"zaxis\":{\"backgroundcolor\":\"#E5ECF6\",\"gridcolor\":\"white\",\"linecolor\":\"white\",\"showbackground\":true,\"ticks\":\"\",\"zerolinecolor\":\"white\",\"gridwidth\":2}},\"shapedefaults\":{\"line\":{\"color\":\"#2a3f5f\"}},\"annotationdefaults\":{\"arrowcolor\":\"#2a3f5f\",\"arrowhead\":0,\"arrowwidth\":1},\"geo\":{\"bgcolor\":\"white\",\"landcolor\":\"#E5ECF6\",\"subunitcolor\":\"white\",\"showland\":true,\"showlakes\":true,\"lakecolor\":\"white\"},\"title\":{\"x\":0.05},\"mapbox\":{\"style\":\"light\"}}},\"xaxis\":{\"anchor\":\"y\",\"domain\":[0.0,1.0],\"title\":{\"text\":\"data\"}},\"yaxis\":{\"anchor\":\"x\",\"domain\":[0.0,1.0],\"title\":{\"text\":\"tanh\"},\"range\":[-1.5,1.5]},\"legend\":{\"tracegroupgap\":0},\"margin\":{\"t\":60},\"width\":800},                        {\"responsive\": true}                    ).then(function(){\n",
              "                            \n",
              "var gd = document.getElementById('385ee484-053d-4400-8c02-4640c75c7f13');\n",
              "var x = new MutationObserver(function (mutations, observer) {{\n",
              "        var display = window.getComputedStyle(gd).display;\n",
              "        if (!display || display === 'none') {{\n",
              "            console.log([gd, 'removed!']);\n",
              "            Plotly.purge(gd);\n",
              "            observer.disconnect();\n",
              "        }}\n",
              "}});\n",
              "\n",
              "// Listen for the removal of the full notebook cells\n",
              "var notebookContainer = gd.closest('#notebook-container');\n",
              "if (notebookContainer) {{\n",
              "    x.observe(notebookContainer, {childList: true});\n",
              "}}\n",
              "\n",
              "// Listen for the clearing of the current output cell\n",
              "var outputEl = gd.closest('.output');\n",
              "if (outputEl) {{\n",
              "    x.observe(outputEl, {childList: true});\n",
              "}}\n",
              "\n",
              "                        })                };                            </script>        </div>\n",
              "</body>\n",
              "</html>"
            ]
          },
          "metadata": {}
        }
      ]
    },
    {
      "cell_type": "code",
      "source": [
        "model = Sequential()\n",
        "\n",
        "model.add(Dense(units=8, activation='relu', input_shape=(10,)))\n",
        "model.add(Dense(units=1, activation='sigmoid'))\n",
        "model.summary()"
      ],
      "metadata": {
        "colab": {
          "base_uri": "https://localhost:8080/",
          "height": 293
        },
        "id": "Qmhsc-b1Cxev",
        "outputId": "586fc678-f977-4f4b-8e23-a653ca6f18ac"
      },
      "execution_count": 23,
      "outputs": [
        {
          "output_type": "stream",
          "name": "stderr",
          "text": [
            "/usr/local/lib/python3.10/dist-packages/keras/src/layers/core/dense.py:87: UserWarning:\n",
            "\n",
            "Do not pass an `input_shape`/`input_dim` argument to a layer. When using Sequential models, prefer using an `Input(shape)` object as the first layer in the model instead.\n",
            "\n"
          ]
        },
        {
          "output_type": "display_data",
          "data": {
            "text/plain": [
              "\u001b[1mModel: \"sequential_2\"\u001b[0m\n"
            ],
            "text/html": [
              "<pre style=\"white-space:pre;overflow-x:auto;line-height:normal;font-family:Menlo,'DejaVu Sans Mono',consolas,'Courier New',monospace\"><span style=\"font-weight: bold\">Model: \"sequential_2\"</span>\n",
              "</pre>\n"
            ]
          },
          "metadata": {}
        },
        {
          "output_type": "display_data",
          "data": {
            "text/plain": [
              "┏━━━━━━━━━━━━━━━━━━━━━━━━━━━━━━━━━━━━━━┳━━━━━━━━━━━━━━━━━━━━━━━━━━━━━┳━━━━━━━━━━━━━━━━━┓\n",
              "┃\u001b[1m \u001b[0m\u001b[1mLayer (type)                        \u001b[0m\u001b[1m \u001b[0m┃\u001b[1m \u001b[0m\u001b[1mOutput Shape               \u001b[0m\u001b[1m \u001b[0m┃\u001b[1m \u001b[0m\u001b[1m        Param #\u001b[0m\u001b[1m \u001b[0m┃\n",
              "┡━━━━━━━━━━━━━━━━━━━━━━━━━━━━━━━━━━━━━━╇━━━━━━━━━━━━━━━━━━━━━━━━━━━━━╇━━━━━━━━━━━━━━━━━┩\n",
              "│ dense_5 (\u001b[38;5;33mDense\u001b[0m)                      │ (\u001b[38;5;45mNone\u001b[0m, \u001b[38;5;34m8\u001b[0m)                   │              \u001b[38;5;34m88\u001b[0m │\n",
              "├──────────────────────────────────────┼─────────────────────────────┼─────────────────┤\n",
              "│ dense_6 (\u001b[38;5;33mDense\u001b[0m)                      │ (\u001b[38;5;45mNone\u001b[0m, \u001b[38;5;34m1\u001b[0m)                   │               \u001b[38;5;34m9\u001b[0m │\n",
              "└──────────────────────────────────────┴─────────────────────────────┴─────────────────┘\n"
            ],
            "text/html": [
              "<pre style=\"white-space:pre;overflow-x:auto;line-height:normal;font-family:Menlo,'DejaVu Sans Mono',consolas,'Courier New',monospace\">┏━━━━━━━━━━━━━━━━━━━━━━━━━━━━━━━━━━━━━━┳━━━━━━━━━━━━━━━━━━━━━━━━━━━━━┳━━━━━━━━━━━━━━━━━┓\n",
              "┃<span style=\"font-weight: bold\"> Layer (type)                         </span>┃<span style=\"font-weight: bold\"> Output Shape                </span>┃<span style=\"font-weight: bold\">         Param # </span>┃\n",
              "┡━━━━━━━━━━━━━━━━━━━━━━━━━━━━━━━━━━━━━━╇━━━━━━━━━━━━━━━━━━━━━━━━━━━━━╇━━━━━━━━━━━━━━━━━┩\n",
              "│ dense_5 (<span style=\"color: #0087ff; text-decoration-color: #0087ff\">Dense</span>)                      │ (<span style=\"color: #00d7ff; text-decoration-color: #00d7ff\">None</span>, <span style=\"color: #00af00; text-decoration-color: #00af00\">8</span>)                   │              <span style=\"color: #00af00; text-decoration-color: #00af00\">88</span> │\n",
              "├──────────────────────────────────────┼─────────────────────────────┼─────────────────┤\n",
              "│ dense_6 (<span style=\"color: #0087ff; text-decoration-color: #0087ff\">Dense</span>)                      │ (<span style=\"color: #00d7ff; text-decoration-color: #00d7ff\">None</span>, <span style=\"color: #00af00; text-decoration-color: #00af00\">1</span>)                   │               <span style=\"color: #00af00; text-decoration-color: #00af00\">9</span> │\n",
              "└──────────────────────────────────────┴─────────────────────────────┴─────────────────┘\n",
              "</pre>\n"
            ]
          },
          "metadata": {}
        },
        {
          "output_type": "display_data",
          "data": {
            "text/plain": [
              "\u001b[1m Total params: \u001b[0m\u001b[38;5;34m97\u001b[0m (388.00 B)\n"
            ],
            "text/html": [
              "<pre style=\"white-space:pre;overflow-x:auto;line-height:normal;font-family:Menlo,'DejaVu Sans Mono',consolas,'Courier New',monospace\"><span style=\"font-weight: bold\"> Total params: </span><span style=\"color: #00af00; text-decoration-color: #00af00\">97</span> (388.00 B)\n",
              "</pre>\n"
            ]
          },
          "metadata": {}
        },
        {
          "output_type": "display_data",
          "data": {
            "text/plain": [
              "\u001b[1m Trainable params: \u001b[0m\u001b[38;5;34m97\u001b[0m (388.00 B)\n"
            ],
            "text/html": [
              "<pre style=\"white-space:pre;overflow-x:auto;line-height:normal;font-family:Menlo,'DejaVu Sans Mono',consolas,'Courier New',monospace\"><span style=\"font-weight: bold\"> Trainable params: </span><span style=\"color: #00af00; text-decoration-color: #00af00\">97</span> (388.00 B)\n",
              "</pre>\n"
            ]
          },
          "metadata": {}
        },
        {
          "output_type": "display_data",
          "data": {
            "text/plain": [
              "\u001b[1m Non-trainable params: \u001b[0m\u001b[38;5;34m0\u001b[0m (0.00 B)\n"
            ],
            "text/html": [
              "<pre style=\"white-space:pre;overflow-x:auto;line-height:normal;font-family:Menlo,'DejaVu Sans Mono',consolas,'Courier New',monospace\"><span style=\"font-weight: bold\"> Non-trainable params: </span><span style=\"color: #00af00; text-decoration-color: #00af00\">0</span> (0.00 B)\n",
              "</pre>\n"
            ]
          },
          "metadata": {}
        }
      ]
    },
    {
      "cell_type": "markdown",
      "source": [
        "###Model compilation"
      ],
      "metadata": {
        "id": "FGK8K_CyEN4L"
      }
    },
    {
      "cell_type": "code",
      "source": [
        "\n",
        "model.compile(optimizer='rmsprop', #\n",
        "              loss='binary_crossentropy',\n",
        "              metrics=['accuracy']) #\n",
        "\n",
        "\n",
        "model.compile(optimizer='rmsprop', #\n",
        "              loss='categorical_crossentropy',\n",
        "              metrics=['accuracy']) #\n",
        "\n",
        "\n",
        "model.compile(optimizer='rmsprop', #\n",
        "              loss='mse') #"
      ],
      "metadata": {
        "id": "o0ZxSfERG1rB"
      },
      "execution_count": 24,
      "outputs": []
    },
    {
      "cell_type": "markdown",
      "source": [
        "###Model training"
      ],
      "metadata": {
        "id": "qVZoBEwbuQwz"
      }
    },
    {
      "cell_type": "code",
      "source": [
        "# model.fit(data, labels, epochs=10, batch_size=32)\n",
        "# model.fit(data, labels, epochs=10, batch_size=32, validation_split=0.2)\n",
        "# model.fit(data, labels, epochs=10, batch_size=32, validation_data=(x_val, y_val))"
      ],
      "metadata": {
        "id": "td_LAuucvGuf"
      },
      "execution_count": 25,
      "outputs": []
    },
    {
      "cell_type": "markdown",
      "source": [
        "###Example - binary classification"
      ],
      "metadata": {
        "id": "jkU1CzqNvHW6"
      }
    },
    {
      "cell_type": "code",
      "source": [
        "data = np.random.randn(1000,150)\n",
        "\n",
        "labels = np.random.randint(2, size=(1000,1))\n",
        "\n",
        "print(data.shape)\n",
        "print(labels.shape)"
      ],
      "metadata": {
        "colab": {
          "base_uri": "https://localhost:8080/"
        },
        "id": "me1YQcHfvQAw",
        "outputId": "a13089c7-852d-428a-f53d-35a6181bff19"
      },
      "execution_count": 27,
      "outputs": [
        {
          "output_type": "stream",
          "name": "stdout",
          "text": [
            "(1000, 150)\n",
            "(1000, 1)\n"
          ]
        }
      ]
    },
    {
      "cell_type": "code",
      "source": [
        "data[:3]"
      ],
      "metadata": {
        "colab": {
          "base_uri": "https://localhost:8080/"
        },
        "id": "4Yc06w33viU1",
        "outputId": "c6794a02-3db7-4911-dbd0-69dd79ec83ab"
      },
      "execution_count": 28,
      "outputs": [
        {
          "output_type": "execute_result",
          "data": {
            "text/plain": [
              "array([[ 8.83859684e-01, -4.82896311e-01,  2.17975027e+00,\n",
              "        -9.62281945e-01,  6.26504812e-01,  6.31558101e-03,\n",
              "        -1.29364609e+00,  8.00915170e-01,  6.87785648e-01,\n",
              "        -2.68509273e-01,  1.98631195e+00,  1.68052535e+00,\n",
              "         2.22691299e-01,  1.99991266e+00,  9.77992779e-02,\n",
              "         1.16798627e+00, -6.35738663e-01,  1.29042951e+00,\n",
              "        -9.37003038e-03, -2.81711334e-01,  1.68672676e+00,\n",
              "         1.31685188e+00, -5.80128567e-01, -6.22044512e-01,\n",
              "        -6.90141565e-01,  3.15381735e+00,  5.10179572e-02,\n",
              "        -1.55731946e+00, -1.69637135e+00, -5.36050271e-01,\n",
              "        -7.21482629e-01, -1.03082060e+00,  6.18179781e-02,\n",
              "         2.12222206e-01, -8.19221417e-01,  2.19948520e-01,\n",
              "        -2.98707164e-01, -7.51954219e-01, -3.56759523e-01,\n",
              "        -5.35428234e-01, -9.71794363e-01,  3.31386564e-01,\n",
              "        -1.14730483e+00,  1.07941344e+00,  4.35419561e-01,\n",
              "         2.37644430e-01,  3.97510461e-01,  5.00101590e-01,\n",
              "        -5.39156852e-01,  1.39147454e+00, -1.89585065e+00,\n",
              "        -3.97498896e-01,  2.97507540e+00, -1.63196198e+00,\n",
              "         1.66692892e-02, -3.32637369e-02,  9.26006380e-01,\n",
              "         5.22823957e-01,  1.16163375e+00,  2.71963703e-01,\n",
              "         9.46424468e-01,  1.33618855e+00,  5.55166624e-01,\n",
              "         4.36520754e-01,  9.26339171e-01,  7.47665669e-01,\n",
              "        -1.00003214e-01,  1.31363617e+00,  2.49380553e-01,\n",
              "        -2.69777275e-02,  8.22082686e-01,  1.05683561e-02,\n",
              "        -1.58252474e+00,  1.19174144e+00,  2.41916774e-01,\n",
              "         4.29132669e-01,  6.77109826e-01, -6.91199409e-01,\n",
              "        -8.75001703e-01,  2.70868761e-01,  8.39716902e-01,\n",
              "         1.44203935e+00,  8.62322550e-01,  3.66072960e-02,\n",
              "         1.01436675e+00,  7.09930879e-01, -1.46741020e+00,\n",
              "         2.58324079e-01,  5.03795967e-01,  2.82319915e-01,\n",
              "        -7.84425781e-01, -5.61386192e-01,  1.40873270e+00,\n",
              "        -3.70382281e-01, -1.06383086e+00,  5.11006188e-01,\n",
              "         1.18984182e+00, -5.41554030e-01, -5.81460612e-01,\n",
              "         2.12357414e-03, -3.24410642e-01, -5.08999347e-01,\n",
              "        -1.94000284e+00,  7.38907629e-01, -6.58885116e-01,\n",
              "         6.18496548e-02, -7.29453582e-01,  2.05794940e-01,\n",
              "        -8.47452542e-01,  2.82841684e-01,  1.33245563e+00,\n",
              "        -4.51139956e-01, -3.77289822e-01, -4.37860397e-01,\n",
              "         1.04940727e+00,  1.75472414e+00,  1.11177002e+00,\n",
              "        -4.56210215e-01, -1.31106401e+00, -9.28064148e-01,\n",
              "        -6.41505627e-01, -8.13866387e-01, -6.18011292e-01,\n",
              "         5.90287034e-01,  3.47421190e-01,  7.49078120e-01,\n",
              "         2.20932328e+00, -2.44637786e-01, -1.68941433e+00,\n",
              "         1.76353873e+00, -1.61270092e+00,  2.81974804e-01,\n",
              "         9.55732978e-01, -1.70746244e+00, -2.02260348e-01,\n",
              "         6.94399918e-01,  8.92927209e-02,  2.04940062e+00,\n",
              "        -8.98196349e-01,  3.68928141e-01,  3.11084535e-01,\n",
              "        -1.15562982e+00, -1.35457265e+00,  5.74329362e-01,\n",
              "        -1.47784445e-01,  2.73464724e-03, -1.40249582e-01,\n",
              "        -3.39484020e-01,  3.83796759e-01,  1.31390484e+00],\n",
              "       [-6.53738910e-01, -8.28193579e-02,  5.35147205e-01,\n",
              "        -1.12854253e+00,  6.69660031e-01,  1.93729424e-02,\n",
              "        -7.06426626e-01,  1.46252116e-01, -1.23457806e+00,\n",
              "        -6.11974374e-01,  2.21594558e-01, -6.01353163e-01,\n",
              "         2.14924679e-01, -8.60345299e-01,  7.98207215e-01,\n",
              "        -7.26168899e-01, -1.61614983e+00, -7.30758041e-01,\n",
              "        -5.49876897e-01, -1.10810951e+00,  1.02708778e-01,\n",
              "        -6.85981190e-01, -1.58404979e+00, -3.88739866e-01,\n",
              "         1.07664964e+00, -1.36895263e+00, -1.71443196e+00,\n",
              "         6.22792157e-01, -9.78959830e-01,  9.20141503e-01,\n",
              "         5.33233783e-01,  8.52382638e-01,  4.10178359e-01,\n",
              "        -9.51435478e-01,  1.51896298e+00,  1.09669874e+00,\n",
              "         2.33937762e+00,  3.48657317e-01, -3.10501497e-01,\n",
              "         2.84643357e-01,  6.18960725e-01, -8.02818877e-02,\n",
              "         8.60150974e-01, -8.77199693e-01, -5.63393579e-01,\n",
              "         6.52094446e-01,  1.09076256e+00, -5.54389495e-01,\n",
              "        -8.90694685e-01,  8.89218154e-01,  2.36859426e-01,\n",
              "        -1.77041917e-01,  6.10670886e-01,  7.07367960e-01,\n",
              "         9.17602367e-03,  3.10607520e-01, -1.52563979e+00,\n",
              "        -3.84638699e-01, -4.00601694e-01, -4.00640973e-01,\n",
              "         2.61897542e-01,  6.10852111e-01,  2.66866126e-01,\n",
              "         2.24954853e-01, -1.40378108e+00,  7.13677511e-01,\n",
              "         1.58246044e+00, -7.19459624e-01, -1.10724590e+00,\n",
              "         1.84201012e+00, -6.56273630e-02, -1.10907494e+00,\n",
              "        -1.01415682e+00,  1.08795260e+00,  4.07596904e-01,\n",
              "         8.55729708e-01,  5.99549311e-01,  1.37444063e+00,\n",
              "         1.48333943e-01,  1.03189756e+00, -9.85273412e-01,\n",
              "         1.60379586e+00, -1.32405090e-01,  8.41693926e-01,\n",
              "         4.91179720e-01,  7.38425044e-01,  2.55496337e+00,\n",
              "         7.87833825e-01, -3.28761912e-01, -6.03375944e-02,\n",
              "         1.17685817e+00, -7.54390897e-01,  4.22714672e-01,\n",
              "        -4.90544523e-01, -1.10369888e+00,  1.67450245e-01,\n",
              "        -1.05298697e+00,  2.76344063e-02,  1.55392392e+00,\n",
              "        -3.15630328e-01, -1.32271517e+00,  3.56004020e-01,\n",
              "        -1.38530728e+00, -1.49569642e-01,  1.17829425e-01,\n",
              "        -1.27975523e+00,  2.05497062e-01,  8.85479381e-01,\n",
              "         5.87154073e-01,  1.21325686e+00,  3.29408773e-01,\n",
              "        -1.13236458e+00,  9.40001763e-01,  1.25995172e-01,\n",
              "        -9.82367778e-01,  3.21432951e-01,  3.63390323e-01,\n",
              "        -1.19993721e+00,  9.60682647e-01,  6.60729411e-01,\n",
              "         1.16002265e+00, -9.52268023e-01,  1.36553305e+00,\n",
              "        -1.53977456e+00,  5.37468987e-01, -2.47949369e-01,\n",
              "         1.82369835e+00, -7.25606177e-01, -1.29561103e+00,\n",
              "        -1.76004211e-01, -6.04895043e-03,  1.25364808e+00,\n",
              "        -1.61545225e+00, -4.80249056e-01, -1.30103470e+00,\n",
              "        -3.44659724e-01,  1.01704102e-01,  1.59993742e+00,\n",
              "        -1.47703674e+00,  1.51754198e+00, -4.84297727e-01,\n",
              "         2.92299323e-01, -2.30101858e+00, -2.87585526e-01,\n",
              "        -1.01826296e+00, -2.52486178e-01, -1.28571300e-01,\n",
              "         4.06837464e-02,  6.54369892e-01,  1.03468080e+00],\n",
              "       [-1.16951421e+00,  2.28533302e-01, -2.43432166e+00,\n",
              "         2.86848148e-01, -1.00267956e+00, -5.83516789e-01,\n",
              "         2.20161657e+00,  1.60465405e+00,  1.00096470e+00,\n",
              "         8.05941700e-01,  1.13187350e+00,  1.45590888e-01,\n",
              "         1.12242516e+00,  9.63678560e-02, -1.03027103e-01,\n",
              "         5.91150996e-01, -4.74357366e-02,  3.20416946e-01,\n",
              "         3.60157713e-01,  2.53724461e-01,  3.55245964e-02,\n",
              "         7.72186424e-01, -1.02424856e+00,  6.90768434e-01,\n",
              "        -4.02523049e-01,  4.23985608e-02,  1.10594189e-01,\n",
              "        -1.38859114e-01,  2.08493359e-01, -3.43105276e-03,\n",
              "        -2.00206945e+00,  1.81347612e+00, -4.18143199e-01,\n",
              "         2.74756560e-01, -5.33115279e-02, -9.26378719e-03,\n",
              "         3.53567695e-01,  4.02119298e-01, -1.62621481e-01,\n",
              "         3.94967570e-01,  6.62728194e-01,  4.95918293e-01,\n",
              "         2.33910678e+00,  3.34793229e-01,  5.30033456e-01,\n",
              "        -3.97116993e-01,  8.72480827e-01, -1.11608296e+00,\n",
              "        -1.96115434e-01, -2.46917224e-01,  1.25388680e+00,\n",
              "        -1.00347549e+00, -1.30044690e+00, -1.54446024e+00,\n",
              "        -1.85356890e+00, -1.03722166e+00, -2.17423234e-01,\n",
              "        -1.09981782e+00,  3.60183163e-01,  9.41282052e-01,\n",
              "        -1.81945848e+00, -1.00665753e+00, -1.67939552e+00,\n",
              "         1.50510730e+00,  8.32634750e-01, -1.83758326e-02,\n",
              "         1.69795324e+00, -5.56958129e-01,  5.39954551e-01,\n",
              "         2.68657731e-01, -2.07791576e-01, -7.95773801e-01,\n",
              "         5.43780285e-02, -2.29252748e-01,  9.88542547e-01,\n",
              "        -4.03338035e-01, -3.20739377e-01,  5.67979962e-01,\n",
              "        -3.30204736e+00, -7.06835561e-01, -9.04213413e-01,\n",
              "        -8.73626253e-02,  1.27270734e+00, -4.33629088e-01,\n",
              "        -6.50351035e-01,  9.65555298e-01, -7.04313503e-01,\n",
              "         8.26986454e-01,  1.01052792e+00, -5.35751821e-01,\n",
              "         2.94514158e-01, -1.44594560e+00, -6.21521189e-01,\n",
              "         5.09309664e-03, -1.03410808e+00, -8.02488792e-01,\n",
              "         6.62997717e-03, -8.63379221e-02, -1.34479698e-01,\n",
              "        -1.19412472e+00,  4.48516141e-01,  9.64946458e-01,\n",
              "         8.98554738e-01, -2.40060970e-02,  9.48493494e-01,\n",
              "        -9.21021371e-01, -6.50729392e-01,  1.58161301e+00,\n",
              "         1.21108911e+00,  6.89880764e-01, -1.30099719e+00,\n",
              "        -3.54801415e-01, -2.64807375e-02, -3.56629556e-01,\n",
              "         4.18338734e-01,  1.32267665e-01,  5.80389271e-01,\n",
              "        -1.40068035e+00,  2.99920461e-01,  8.65099667e-01,\n",
              "         7.72849870e-01,  1.35456549e+00, -1.20140217e+00,\n",
              "        -4.84852817e-02, -1.12870031e+00, -6.47437766e-01,\n",
              "         9.16905647e-01,  1.57610135e-01, -1.06518989e+00,\n",
              "         9.48797142e-01, -8.63178343e-01,  9.43058431e-01,\n",
              "        -1.47040698e+00, -3.73562582e-01, -1.22512509e+00,\n",
              "         5.74684054e-01, -3.66192914e-02, -1.71263181e-01,\n",
              "        -2.47613570e-01, -1.78508902e-01, -3.97537431e-03,\n",
              "         3.71535358e-01,  1.98852145e-02,  1.16984770e+00,\n",
              "         5.25259064e-01,  6.78528216e-01,  1.35808353e+00,\n",
              "        -4.19909952e-01, -5.33812906e-02,  5.72058041e-01]])"
            ]
          },
          "metadata": {},
          "execution_count": 28
        }
      ]
    },
    {
      "cell_type": "code",
      "source": [
        "labels[:10]"
      ],
      "metadata": {
        "colab": {
          "base_uri": "https://localhost:8080/"
        },
        "id": "k13OE68Zvj6q",
        "outputId": "b6836661-d068-43a5-c1b5-b1850c6db61f"
      },
      "execution_count": 29,
      "outputs": [
        {
          "output_type": "execute_result",
          "data": {
            "text/plain": [
              "array([[0],\n",
              "       [1],\n",
              "       [1],\n",
              "       [1],\n",
              "       [0],\n",
              "       [0],\n",
              "       [1],\n",
              "       [1],\n",
              "       [1],\n",
              "       [0]])"
            ]
          },
          "metadata": {},
          "execution_count": 29
        }
      ]
    },
    {
      "cell_type": "code",
      "source": [
        "model = Sequential()\n",
        "\n",
        "model.add(Dense(units=32, activation='relu', input_shape=(150,)))\n",
        "model.add(Dense(1, activation='sigmoid'))\n",
        "\n",
        "model.compile(optimizer='rmsprop',\n",
        "              loss='binary_crossentropy',\n",
        "              metrics=['accuracy'])\n",
        "\n",
        "model.fit(data, labels, epochs=20, batch_size=30)"
      ],
      "metadata": {
        "colab": {
          "base_uri": "https://localhost:8080/"
        },
        "id": "E__tI7zMvmyi",
        "outputId": "23e4ad61-1173-4422-c926-09da06be491d"
      },
      "execution_count": 32,
      "outputs": [
        {
          "output_type": "stream",
          "name": "stdout",
          "text": [
            "Epoch 1/20\n",
            "\u001b[1m34/34\u001b[0m \u001b[32m━━━━━━━━━━━━━━━━━━━━\u001b[0m\u001b[37m\u001b[0m \u001b[1m1s\u001b[0m 1ms/step - accuracy: 0.4543 - loss: 0.8562   \n",
            "Epoch 2/20\n",
            "\u001b[1m34/34\u001b[0m \u001b[32m━━━━━━━━━━━━━━━━━━━━\u001b[0m\u001b[37m\u001b[0m \u001b[1m0s\u001b[0m 1ms/step - accuracy: 0.5470 - loss: 0.7282 \n",
            "Epoch 3/20\n",
            "\u001b[1m34/34\u001b[0m \u001b[32m━━━━━━━━━━━━━━━━━━━━\u001b[0m\u001b[37m\u001b[0m \u001b[1m0s\u001b[0m 1ms/step - accuracy: 0.5715 - loss: 0.6930 \n",
            "Epoch 4/20\n",
            "\u001b[1m34/34\u001b[0m \u001b[32m━━━━━━━━━━━━━━━━━━━━\u001b[0m\u001b[37m\u001b[0m \u001b[1m0s\u001b[0m 1ms/step - accuracy: 0.6646 - loss: 0.6178 \n",
            "Epoch 5/20\n",
            "\u001b[1m34/34\u001b[0m \u001b[32m━━━━━━━━━━━━━━━━━━━━\u001b[0m\u001b[37m\u001b[0m \u001b[1m0s\u001b[0m 1ms/step - accuracy: 0.6799 - loss: 0.6028 \n",
            "Epoch 6/20\n",
            "\u001b[1m34/34\u001b[0m \u001b[32m━━━━━━━━━━━━━━━━━━━━\u001b[0m\u001b[37m\u001b[0m \u001b[1m0s\u001b[0m 2ms/step - accuracy: 0.7037 - loss: 0.5701\n",
            "Epoch 7/20\n",
            "\u001b[1m34/34\u001b[0m \u001b[32m━━━━━━━━━━━━━━━━━━━━\u001b[0m\u001b[37m\u001b[0m \u001b[1m0s\u001b[0m 3ms/step - accuracy: 0.7624 - loss: 0.5346\n",
            "Epoch 8/20\n",
            "\u001b[1m34/34\u001b[0m \u001b[32m━━━━━━━━━━━━━━━━━━━━\u001b[0m\u001b[37m\u001b[0m \u001b[1m0s\u001b[0m 3ms/step - accuracy: 0.7958 - loss: 0.5003\n",
            "Epoch 9/20\n",
            "\u001b[1m34/34\u001b[0m \u001b[32m━━━━━━━━━━━━━━━━━━━━\u001b[0m\u001b[37m\u001b[0m \u001b[1m0s\u001b[0m 2ms/step - accuracy: 0.8348 - loss: 0.4773\n",
            "Epoch 10/20\n",
            "\u001b[1m34/34\u001b[0m \u001b[32m━━━━━━━━━━━━━━━━━━━━\u001b[0m\u001b[37m\u001b[0m \u001b[1m0s\u001b[0m 2ms/step - accuracy: 0.8192 - loss: 0.4572\n",
            "Epoch 11/20\n",
            "\u001b[1m34/34\u001b[0m \u001b[32m━━━━━━━━━━━━━━━━━━━━\u001b[0m\u001b[37m\u001b[0m \u001b[1m0s\u001b[0m 2ms/step - accuracy: 0.8397 - loss: 0.4485\n",
            "Epoch 12/20\n",
            "\u001b[1m34/34\u001b[0m \u001b[32m━━━━━━━━━━━━━━━━━━━━\u001b[0m\u001b[37m\u001b[0m \u001b[1m0s\u001b[0m 2ms/step - accuracy: 0.8657 - loss: 0.4145\n",
            "Epoch 13/20\n",
            "\u001b[1m34/34\u001b[0m \u001b[32m━━━━━━━━━━━━━━━━━━━━\u001b[0m\u001b[37m\u001b[0m \u001b[1m0s\u001b[0m 2ms/step - accuracy: 0.8780 - loss: 0.4015\n",
            "Epoch 14/20\n",
            "\u001b[1m34/34\u001b[0m \u001b[32m━━━━━━━━━━━━━━━━━━━━\u001b[0m\u001b[37m\u001b[0m \u001b[1m0s\u001b[0m 2ms/step - accuracy: 0.9102 - loss: 0.3550\n",
            "Epoch 15/20\n",
            "\u001b[1m34/34\u001b[0m \u001b[32m━━━━━━━━━━━━━━━━━━━━\u001b[0m\u001b[37m\u001b[0m \u001b[1m0s\u001b[0m 3ms/step - accuracy: 0.9165 - loss: 0.3467\n",
            "Epoch 16/20\n",
            "\u001b[1m34/34\u001b[0m \u001b[32m━━━━━━━━━━━━━━━━━━━━\u001b[0m\u001b[37m\u001b[0m \u001b[1m0s\u001b[0m 3ms/step - accuracy: 0.9272 - loss: 0.3207\n",
            "Epoch 17/20\n",
            "\u001b[1m34/34\u001b[0m \u001b[32m━━━━━━━━━━━━━━━━━━━━\u001b[0m\u001b[37m\u001b[0m \u001b[1m0s\u001b[0m 2ms/step - accuracy: 0.9345 - loss: 0.3164\n",
            "Epoch 18/20\n",
            "\u001b[1m34/34\u001b[0m \u001b[32m━━━━━━━━━━━━━━━━━━━━\u001b[0m\u001b[37m\u001b[0m \u001b[1m0s\u001b[0m 9ms/step - accuracy: 0.9651 - loss: 0.2862\n",
            "Epoch 19/20\n",
            "\u001b[1m34/34\u001b[0m \u001b[32m━━━━━━━━━━━━━━━━━━━━\u001b[0m\u001b[37m\u001b[0m \u001b[1m1s\u001b[0m 10ms/step - accuracy: 0.9670 - loss: 0.2621\n",
            "Epoch 20/20\n",
            "\u001b[1m34/34\u001b[0m \u001b[32m━━━━━━━━━━━━━━━━━━━━\u001b[0m\u001b[37m\u001b[0m \u001b[1m0s\u001b[0m 3ms/step - accuracy: 0.9733 - loss: 0.2505\n"
          ]
        },
        {
          "output_type": "execute_result",
          "data": {
            "text/plain": [
              "<keras.src.callbacks.history.History at 0x7dbd74a78e20>"
            ]
          },
          "metadata": {},
          "execution_count": 32
        }
      ]
    },
    {
      "cell_type": "code",
      "source": [
        "model = Sequential()\n",
        "\n",
        "model.add(Dense(units=32, activation='relu', input_shape=(150,)))\n",
        "model.add(Dense(units=1, activation='sigmoid'))\n",
        "\n",
        "model.compile(optimizer='rmsprop',\n",
        "              loss='binary_crossentropy',\n",
        "              metrics=['accuracy'])\n",
        "\n",
        "model.fit(data, labels, epochs=20, batch_size=30)\n",
        "\n"
      ],
      "metadata": {
        "colab": {
          "base_uri": "https://localhost:8080/"
        },
        "id": "_jccSukSwwhl",
        "outputId": "c808015e-5f4b-4db7-e386-0c7b5bfac280"
      },
      "execution_count": 34,
      "outputs": [
        {
          "output_type": "stream",
          "name": "stdout",
          "text": [
            "Epoch 1/20\n"
          ]
        },
        {
          "output_type": "stream",
          "name": "stderr",
          "text": [
            "/usr/local/lib/python3.10/dist-packages/keras/src/layers/core/dense.py:87: UserWarning:\n",
            "\n",
            "Do not pass an `input_shape`/`input_dim` argument to a layer. When using Sequential models, prefer using an `Input(shape)` object as the first layer in the model instead.\n",
            "\n"
          ]
        },
        {
          "output_type": "stream",
          "name": "stdout",
          "text": [
            "\u001b[1m34/34\u001b[0m \u001b[32m━━━━━━━━━━━━━━━━━━━━\u001b[0m\u001b[37m\u001b[0m \u001b[1m1s\u001b[0m 1ms/step - accuracy: 0.5060 - loss: 0.8170   \n",
            "Epoch 2/20\n",
            "\u001b[1m34/34\u001b[0m \u001b[32m━━━━━━━━━━━━━━━━━━━━\u001b[0m\u001b[37m\u001b[0m \u001b[1m0s\u001b[0m 2ms/step - accuracy: 0.5657 - loss: 0.7105\n",
            "Epoch 3/20\n",
            "\u001b[1m34/34\u001b[0m \u001b[32m━━━━━━━━━━━━━━━━━━━━\u001b[0m\u001b[37m\u001b[0m \u001b[1m0s\u001b[0m 2ms/step - accuracy: 0.6152 - loss: 0.6486\n",
            "Epoch 4/20\n",
            "\u001b[1m34/34\u001b[0m \u001b[32m━━━━━━━━━━━━━━━━━━━━\u001b[0m\u001b[37m\u001b[0m \u001b[1m0s\u001b[0m 3ms/step - accuracy: 0.6892 - loss: 0.5842\n",
            "Epoch 5/20\n",
            "\u001b[1m34/34\u001b[0m \u001b[32m━━━━━━━━━━━━━━━━━━━━\u001b[0m\u001b[37m\u001b[0m \u001b[1m0s\u001b[0m 2ms/step - accuracy: 0.7121 - loss: 0.5735\n",
            "Epoch 6/20\n",
            "\u001b[1m34/34\u001b[0m \u001b[32m━━━━━━━━━━━━━━━━━━━━\u001b[0m\u001b[37m\u001b[0m \u001b[1m0s\u001b[0m 2ms/step - accuracy: 0.7450 - loss: 0.5347\n",
            "Epoch 7/20\n",
            "\u001b[1m34/34\u001b[0m \u001b[32m━━━━━━━━━━━━━━━━━━━━\u001b[0m\u001b[37m\u001b[0m \u001b[1m0s\u001b[0m 2ms/step - accuracy: 0.7745 - loss: 0.5026\n",
            "Epoch 8/20\n",
            "\u001b[1m34/34\u001b[0m \u001b[32m━━━━━━━━━━━━━━━━━━━━\u001b[0m\u001b[37m\u001b[0m \u001b[1m0s\u001b[0m 2ms/step - accuracy: 0.8119 - loss: 0.4802\n",
            "Epoch 9/20\n",
            "\u001b[1m34/34\u001b[0m \u001b[32m━━━━━━━━━━━━━━━━━━━━\u001b[0m\u001b[37m\u001b[0m \u001b[1m0s\u001b[0m 3ms/step - accuracy: 0.8043 - loss: 0.4552\n",
            "Epoch 10/20\n",
            "\u001b[1m34/34\u001b[0m \u001b[32m━━━━━━━━━━━━━━━━━━━━\u001b[0m\u001b[37m\u001b[0m \u001b[1m0s\u001b[0m 2ms/step - accuracy: 0.8513 - loss: 0.4163\n",
            "Epoch 11/20\n",
            "\u001b[1m34/34\u001b[0m \u001b[32m━━━━━━━━━━━━━━━━━━━━\u001b[0m\u001b[37m\u001b[0m \u001b[1m0s\u001b[0m 2ms/step - accuracy: 0.8464 - loss: 0.4205\n",
            "Epoch 12/20\n",
            "\u001b[1m34/34\u001b[0m \u001b[32m━━━━━━━━━━━━━━━━━━━━\u001b[0m\u001b[37m\u001b[0m \u001b[1m0s\u001b[0m 2ms/step - accuracy: 0.8800 - loss: 0.3875\n",
            "Epoch 13/20\n",
            "\u001b[1m34/34\u001b[0m \u001b[32m━━━━━━━━━━━━━━━━━━━━\u001b[0m\u001b[37m\u001b[0m \u001b[1m0s\u001b[0m 2ms/step - accuracy: 0.8961 - loss: 0.3691\n",
            "Epoch 14/20\n",
            "\u001b[1m34/34\u001b[0m \u001b[32m━━━━━━━━━━━━━━━━━━━━\u001b[0m\u001b[37m\u001b[0m \u001b[1m0s\u001b[0m 3ms/step - accuracy: 0.9248 - loss: 0.3327\n",
            "Epoch 15/20\n",
            "\u001b[1m34/34\u001b[0m \u001b[32m━━━━━━━━━━━━━━━━━━━━\u001b[0m\u001b[37m\u001b[0m \u001b[1m0s\u001b[0m 2ms/step - accuracy: 0.9291 - loss: 0.3231\n",
            "Epoch 16/20\n",
            "\u001b[1m34/34\u001b[0m \u001b[32m━━━━━━━━━━━━━━━━━━━━\u001b[0m\u001b[37m\u001b[0m \u001b[1m0s\u001b[0m 2ms/step - accuracy: 0.9406 - loss: 0.2968\n",
            "Epoch 17/20\n",
            "\u001b[1m34/34\u001b[0m \u001b[32m━━━━━━━━━━━━━━━━━━━━\u001b[0m\u001b[37m\u001b[0m \u001b[1m0s\u001b[0m 2ms/step - accuracy: 0.9593 - loss: 0.2829\n",
            "Epoch 18/20\n",
            "\u001b[1m34/34\u001b[0m \u001b[32m━━━━━━━━━━━━━━━━━━━━\u001b[0m\u001b[37m\u001b[0m \u001b[1m0s\u001b[0m 3ms/step - accuracy: 0.9741 - loss: 0.2606\n",
            "Epoch 19/20\n",
            "\u001b[1m34/34\u001b[0m \u001b[32m━━━━━━━━━━━━━━━━━━━━\u001b[0m\u001b[37m\u001b[0m \u001b[1m0s\u001b[0m 3ms/step - accuracy: 0.9701 - loss: 0.2466\n",
            "Epoch 20/20\n",
            "\u001b[1m34/34\u001b[0m \u001b[32m━━━━━━━━━━━━━━━━━━━━\u001b[0m\u001b[37m\u001b[0m \u001b[1m0s\u001b[0m 2ms/step - accuracy: 0.9833 - loss: 0.2164\n"
          ]
        },
        {
          "output_type": "execute_result",
          "data": {
            "text/plain": [
              "<keras.src.callbacks.history.History at 0x7dbd743b0af0>"
            ]
          },
          "metadata": {},
          "execution_count": 34
        }
      ]
    },
    {
      "cell_type": "code",
      "source": [
        "model = Sequential()\n",
        "\n",
        "model.add(Dense(units=32, activation='relu', input_shape=(150,)))\n",
        "model.add(Dense(units=1, activation='sigmoid'))\n",
        "\n",
        "model.compile(optimizer='rmsprop',\n",
        "              loss='binary_crossentropy',\n",
        "              metrics=['accuracy'])\n",
        "\n",
        "model.fit(data, labels, epochs=20, batch_size=32, validation_split=0.2)"
      ],
      "metadata": {
        "colab": {
          "base_uri": "https://localhost:8080/"
        },
        "id": "p7W4u0CtxNbU",
        "outputId": "edaf72d3-4b48-415e-fa6f-d5896d3b752a"
      },
      "execution_count": 36,
      "outputs": [
        {
          "output_type": "stream",
          "name": "stdout",
          "text": [
            "Epoch 1/20\n"
          ]
        },
        {
          "output_type": "stream",
          "name": "stderr",
          "text": [
            "/usr/local/lib/python3.10/dist-packages/keras/src/layers/core/dense.py:87: UserWarning:\n",
            "\n",
            "Do not pass an `input_shape`/`input_dim` argument to a layer. When using Sequential models, prefer using an `Input(shape)` object as the first layer in the model instead.\n",
            "\n"
          ]
        },
        {
          "output_type": "stream",
          "name": "stdout",
          "text": [
            "\u001b[1m25/25\u001b[0m \u001b[32m━━━━━━━━━━━━━━━━━━━━\u001b[0m\u001b[37m\u001b[0m \u001b[1m1s\u001b[0m 10ms/step - accuracy: 0.4924 - loss: 0.8422 - val_accuracy: 0.4400 - val_loss: 0.8382\n",
            "Epoch 2/20\n",
            "\u001b[1m25/25\u001b[0m \u001b[32m━━━━━━━━━━━━━━━━━━━━\u001b[0m\u001b[37m\u001b[0m \u001b[1m0s\u001b[0m 3ms/step - accuracy: 0.5457 - loss: 0.7193 - val_accuracy: 0.4350 - val_loss: 0.8206\n",
            "Epoch 3/20\n",
            "\u001b[1m25/25\u001b[0m \u001b[32m━━━━━━━━━━━━━━━━━━━━\u001b[0m\u001b[37m\u001b[0m \u001b[1m0s\u001b[0m 2ms/step - accuracy: 0.5945 - loss: 0.6626 - val_accuracy: 0.4500 - val_loss: 0.8098\n",
            "Epoch 4/20\n",
            "\u001b[1m25/25\u001b[0m \u001b[32m━━━━━━━━━━━━━━━━━━━━\u001b[0m\u001b[37m\u001b[0m \u001b[1m0s\u001b[0m 3ms/step - accuracy: 0.6482 - loss: 0.6139 - val_accuracy: 0.4550 - val_loss: 0.8090\n",
            "Epoch 5/20\n",
            "\u001b[1m25/25\u001b[0m \u001b[32m━━━━━━━━━━━━━━━━━━━━\u001b[0m\u001b[37m\u001b[0m \u001b[1m0s\u001b[0m 3ms/step - accuracy: 0.7144 - loss: 0.5684 - val_accuracy: 0.4600 - val_loss: 0.8098\n",
            "Epoch 6/20\n",
            "\u001b[1m25/25\u001b[0m \u001b[32m━━━━━━━━━━━━━━━━━━━━\u001b[0m\u001b[37m\u001b[0m \u001b[1m0s\u001b[0m 3ms/step - accuracy: 0.7646 - loss: 0.5245 - val_accuracy: 0.4750 - val_loss: 0.8126\n",
            "Epoch 7/20\n",
            "\u001b[1m25/25\u001b[0m \u001b[32m━━━━━━━━━━━━━━━━━━━━\u001b[0m\u001b[37m\u001b[0m \u001b[1m0s\u001b[0m 3ms/step - accuracy: 0.7941 - loss: 0.5034 - val_accuracy: 0.4900 - val_loss: 0.8200\n",
            "Epoch 8/20\n",
            "\u001b[1m25/25\u001b[0m \u001b[32m━━━━━━━━━━━━━━━━━━━━\u001b[0m\u001b[37m\u001b[0m \u001b[1m0s\u001b[0m 3ms/step - accuracy: 0.8230 - loss: 0.4692 - val_accuracy: 0.5000 - val_loss: 0.8269\n",
            "Epoch 9/20\n",
            "\u001b[1m25/25\u001b[0m \u001b[32m━━━━━━━━━━━━━━━━━━━━\u001b[0m\u001b[37m\u001b[0m \u001b[1m0s\u001b[0m 3ms/step - accuracy: 0.8491 - loss: 0.4423 - val_accuracy: 0.5000 - val_loss: 0.8387\n",
            "Epoch 10/20\n",
            "\u001b[1m25/25\u001b[0m \u001b[32m━━━━━━━━━━━━━━━━━━━━\u001b[0m\u001b[37m\u001b[0m \u001b[1m0s\u001b[0m 3ms/step - accuracy: 0.8758 - loss: 0.4179 - val_accuracy: 0.4950 - val_loss: 0.8488\n",
            "Epoch 11/20\n",
            "\u001b[1m25/25\u001b[0m \u001b[32m━━━━━━━━━━━━━━━━━━━━\u001b[0m\u001b[37m\u001b[0m \u001b[1m0s\u001b[0m 2ms/step - accuracy: 0.8819 - loss: 0.3826 - val_accuracy: 0.4950 - val_loss: 0.8611\n",
            "Epoch 12/20\n",
            "\u001b[1m25/25\u001b[0m \u001b[32m━━━━━━━━━━━━━━━━━━━━\u001b[0m\u001b[37m\u001b[0m \u001b[1m0s\u001b[0m 3ms/step - accuracy: 0.9144 - loss: 0.3634 - val_accuracy: 0.4850 - val_loss: 0.8748\n",
            "Epoch 13/20\n",
            "\u001b[1m25/25\u001b[0m \u001b[32m━━━━━━━━━━━━━━━━━━━━\u001b[0m\u001b[37m\u001b[0m \u001b[1m0s\u001b[0m 3ms/step - accuracy: 0.9344 - loss: 0.3403 - val_accuracy: 0.4850 - val_loss: 0.8861\n",
            "Epoch 14/20\n",
            "\u001b[1m25/25\u001b[0m \u001b[32m━━━━━━━━━━━━━━━━━━━━\u001b[0m\u001b[37m\u001b[0m \u001b[1m0s\u001b[0m 3ms/step - accuracy: 0.9507 - loss: 0.3233 - val_accuracy: 0.4800 - val_loss: 0.9014\n",
            "Epoch 15/20\n",
            "\u001b[1m25/25\u001b[0m \u001b[32m━━━━━━━━━━━━━━━━━━━━\u001b[0m\u001b[37m\u001b[0m \u001b[1m0s\u001b[0m 3ms/step - accuracy: 0.9481 - loss: 0.3061 - val_accuracy: 0.4850 - val_loss: 0.9158\n",
            "Epoch 16/20\n",
            "\u001b[1m25/25\u001b[0m \u001b[32m━━━━━━━━━━━━━━━━━━━━\u001b[0m\u001b[37m\u001b[0m \u001b[1m0s\u001b[0m 3ms/step - accuracy: 0.9589 - loss: 0.2928 - val_accuracy: 0.4800 - val_loss: 0.9317\n",
            "Epoch 17/20\n",
            "\u001b[1m25/25\u001b[0m \u001b[32m━━━━━━━━━━━━━━━━━━━━\u001b[0m\u001b[37m\u001b[0m \u001b[1m0s\u001b[0m 3ms/step - accuracy: 0.9619 - loss: 0.2673 - val_accuracy: 0.4850 - val_loss: 0.9424\n",
            "Epoch 18/20\n",
            "\u001b[1m25/25\u001b[0m \u001b[32m━━━━━━━━━━━━━━━━━━━━\u001b[0m\u001b[37m\u001b[0m \u001b[1m0s\u001b[0m 3ms/step - accuracy: 0.9703 - loss: 0.2468 - val_accuracy: 0.4700 - val_loss: 0.9643\n",
            "Epoch 19/20\n",
            "\u001b[1m25/25\u001b[0m \u001b[32m━━━━━━━━━━━━━━━━━━━━\u001b[0m\u001b[37m\u001b[0m \u001b[1m0s\u001b[0m 2ms/step - accuracy: 0.9760 - loss: 0.2252 - val_accuracy: 0.4700 - val_loss: 0.9792\n",
            "Epoch 20/20\n",
            "\u001b[1m25/25\u001b[0m \u001b[32m━━━━━━━━━━━━━━━━━━━━\u001b[0m\u001b[37m\u001b[0m \u001b[1m0s\u001b[0m 3ms/step - accuracy: 0.9899 - loss: 0.2054 - val_accuracy: 0.4850 - val_loss: 0.9937\n"
          ]
        },
        {
          "output_type": "execute_result",
          "data": {
            "text/plain": [
              "<keras.src.callbacks.history.History at 0x7dbd73957fa0>"
            ]
          },
          "metadata": {},
          "execution_count": 36
        }
      ]
    },
    {
      "cell_type": "code",
      "source": [
        "model = Sequential()\n",
        "\n",
        "model.add(Dense(units=32, activation='relu', input_shape=(150,)))\n",
        "model.add(Dense(units=1, activation='sigmoid'))\n",
        "\n",
        "model.compile(optimizer='rmsprop',\n",
        "              loss='binary_crossentropy',\n",
        "              metrics=['accuracy'])\n",
        "\n",
        "history = model.fit(data, labels, epochs=20, batch_size=32, validation_split=0.2, verbose=0)"
      ],
      "metadata": {
        "colab": {
          "base_uri": "https://localhost:8080/"
        },
        "id": "DIoZpNv8x_fM",
        "outputId": "a591bb89-c0ca-4da1-99a1-1ccc46447559"
      },
      "execution_count": 39,
      "outputs": [
        {
          "output_type": "stream",
          "name": "stderr",
          "text": [
            "/usr/local/lib/python3.10/dist-packages/keras/src/layers/core/dense.py:87: UserWarning:\n",
            "\n",
            "Do not pass an `input_shape`/`input_dim` argument to a layer. When using Sequential models, prefer using an `Input(shape)` object as the first layer in the model instead.\n",
            "\n"
          ]
        }
      ]
    },
    {
      "cell_type": "code",
      "source": [
        "metrics = history.history\n",
        "metrics.keys()"
      ],
      "metadata": {
        "colab": {
          "base_uri": "https://localhost:8080/"
        },
        "id": "PAILtyLaypXl",
        "outputId": "f6dbef5f-a5c9-411e-beba-812286f92b91"
      },
      "execution_count": 42,
      "outputs": [
        {
          "output_type": "execute_result",
          "data": {
            "text/plain": [
              "dict_keys(['accuracy', 'loss', 'val_accuracy', 'val_loss'])"
            ]
          },
          "metadata": {},
          "execution_count": 42
        }
      ]
    },
    {
      "cell_type": "code",
      "source": [
        "model = Sequential()\n",
        "\n",
        "model.add(Dense(units=32, activation='relu', input_shape=(150,)))\n",
        "model.add(Dense(units=1, activation='sigmoid'))\n",
        "\n",
        "model.compile(optimizer='rmsprop',\n",
        "              loss='binary_crossentropy',\n",
        "              metrics=['accuracy'])\n",
        "\n",
        "history = model.fit(data, labels, epochs=20, batch_size=32, validation_split=0.2, verbose=1)\n"
      ],
      "metadata": {
        "colab": {
          "base_uri": "https://localhost:8080/"
        },
        "id": "Kx4O9A_Ay4dw",
        "outputId": "4d52883c-3515-449d-9c71-36f2d378cb32"
      },
      "execution_count": 43,
      "outputs": [
        {
          "output_type": "stream",
          "name": "stdout",
          "text": [
            "Epoch 1/20\n"
          ]
        },
        {
          "output_type": "stream",
          "name": "stderr",
          "text": [
            "/usr/local/lib/python3.10/dist-packages/keras/src/layers/core/dense.py:87: UserWarning:\n",
            "\n",
            "Do not pass an `input_shape`/`input_dim` argument to a layer. When using Sequential models, prefer using an `Input(shape)` object as the first layer in the model instead.\n",
            "\n"
          ]
        },
        {
          "output_type": "stream",
          "name": "stdout",
          "text": [
            "\u001b[1m25/25\u001b[0m \u001b[32m━━━━━━━━━━━━━━━━━━━━\u001b[0m\u001b[37m\u001b[0m \u001b[1m1s\u001b[0m 9ms/step - accuracy: 0.5308 - loss: 0.8538 - val_accuracy: 0.5050 - val_loss: 0.8147\n",
            "Epoch 2/20\n",
            "\u001b[1m25/25\u001b[0m \u001b[32m━━━━━━━━━━━━━━━━━━━━\u001b[0m\u001b[37m\u001b[0m \u001b[1m0s\u001b[0m 3ms/step - accuracy: 0.5437 - loss: 0.7305 - val_accuracy: 0.4950 - val_loss: 0.7947\n",
            "Epoch 3/20\n",
            "\u001b[1m25/25\u001b[0m \u001b[32m━━━━━━━━━━━━━━━━━━━━\u001b[0m\u001b[37m\u001b[0m \u001b[1m0s\u001b[0m 3ms/step - accuracy: 0.6039 - loss: 0.6574 - val_accuracy: 0.5200 - val_loss: 0.7853\n",
            "Epoch 4/20\n",
            "\u001b[1m25/25\u001b[0m \u001b[32m━━━━━━━━━━━━━━━━━━━━\u001b[0m\u001b[37m\u001b[0m \u001b[1m0s\u001b[0m 3ms/step - accuracy: 0.6509 - loss: 0.6171 - val_accuracy: 0.5050 - val_loss: 0.7839\n",
            "Epoch 5/20\n",
            "\u001b[1m25/25\u001b[0m \u001b[32m━━━━━━━━━━━━━━━━━━━━\u001b[0m\u001b[37m\u001b[0m \u001b[1m0s\u001b[0m 4ms/step - accuracy: 0.7023 - loss: 0.5700 - val_accuracy: 0.5100 - val_loss: 0.7851\n",
            "Epoch 6/20\n",
            "\u001b[1m25/25\u001b[0m \u001b[32m━━━━━━━━━━━━━━━━━━━━\u001b[0m\u001b[37m\u001b[0m \u001b[1m0s\u001b[0m 4ms/step - accuracy: 0.7663 - loss: 0.5324 - val_accuracy: 0.5150 - val_loss: 0.7896\n",
            "Epoch 7/20\n",
            "\u001b[1m25/25\u001b[0m \u001b[32m━━━━━━━━━━━━━━━━━━━━\u001b[0m\u001b[37m\u001b[0m \u001b[1m0s\u001b[0m 4ms/step - accuracy: 0.7741 - loss: 0.5141 - val_accuracy: 0.5200 - val_loss: 0.7960\n",
            "Epoch 8/20\n",
            "\u001b[1m25/25\u001b[0m \u001b[32m━━━━━━━━━━━━━━━━━━━━\u001b[0m\u001b[37m\u001b[0m \u001b[1m0s\u001b[0m 4ms/step - accuracy: 0.8057 - loss: 0.4780 - val_accuracy: 0.5150 - val_loss: 0.8051\n",
            "Epoch 9/20\n",
            "\u001b[1m25/25\u001b[0m \u001b[32m━━━━━━━━━━━━━━━━━━━━\u001b[0m\u001b[37m\u001b[0m \u001b[1m0s\u001b[0m 3ms/step - accuracy: 0.8427 - loss: 0.4484 - val_accuracy: 0.5050 - val_loss: 0.8152\n",
            "Epoch 10/20\n",
            "\u001b[1m25/25\u001b[0m \u001b[32m━━━━━━━━━━━━━━━━━━━━\u001b[0m\u001b[37m\u001b[0m \u001b[1m0s\u001b[0m 3ms/step - accuracy: 0.8702 - loss: 0.4297 - val_accuracy: 0.5050 - val_loss: 0.8256\n",
            "Epoch 11/20\n",
            "\u001b[1m25/25\u001b[0m \u001b[32m━━━━━━━━━━━━━━━━━━━━\u001b[0m\u001b[37m\u001b[0m \u001b[1m0s\u001b[0m 4ms/step - accuracy: 0.8603 - loss: 0.4050 - val_accuracy: 0.5050 - val_loss: 0.8389\n",
            "Epoch 12/20\n",
            "\u001b[1m25/25\u001b[0m \u001b[32m━━━━━━━━━━━━━━━━━━━━\u001b[0m\u001b[37m\u001b[0m \u001b[1m0s\u001b[0m 4ms/step - accuracy: 0.8985 - loss: 0.3840 - val_accuracy: 0.5000 - val_loss: 0.8509\n",
            "Epoch 13/20\n",
            "\u001b[1m25/25\u001b[0m \u001b[32m━━━━━━━━━━━━━━━━━━━━\u001b[0m\u001b[37m\u001b[0m \u001b[1m0s\u001b[0m 4ms/step - accuracy: 0.9101 - loss: 0.3487 - val_accuracy: 0.5150 - val_loss: 0.8639\n",
            "Epoch 14/20\n",
            "\u001b[1m25/25\u001b[0m \u001b[32m━━━━━━━━━━━━━━━━━━━━\u001b[0m\u001b[37m\u001b[0m \u001b[1m0s\u001b[0m 4ms/step - accuracy: 0.9081 - loss: 0.3477 - val_accuracy: 0.5050 - val_loss: 0.8776\n",
            "Epoch 15/20\n",
            "\u001b[1m25/25\u001b[0m \u001b[32m━━━━━━━━━━━━━━━━━━━━\u001b[0m\u001b[37m\u001b[0m \u001b[1m0s\u001b[0m 4ms/step - accuracy: 0.9420 - loss: 0.3155 - val_accuracy: 0.4900 - val_loss: 0.8923\n",
            "Epoch 16/20\n",
            "\u001b[1m25/25\u001b[0m \u001b[32m━━━━━━━━━━━━━━━━━━━━\u001b[0m\u001b[37m\u001b[0m \u001b[1m0s\u001b[0m 3ms/step - accuracy: 0.9544 - loss: 0.2867 - val_accuracy: 0.5200 - val_loss: 0.9059\n",
            "Epoch 17/20\n",
            "\u001b[1m25/25\u001b[0m \u001b[32m━━━━━━━━━━━━━━━━━━━━\u001b[0m\u001b[37m\u001b[0m \u001b[1m0s\u001b[0m 4ms/step - accuracy: 0.9496 - loss: 0.2846 - val_accuracy: 0.5350 - val_loss: 0.9236\n",
            "Epoch 18/20\n",
            "\u001b[1m25/25\u001b[0m \u001b[32m━━━━━━━━━━━━━━━━━━━━\u001b[0m\u001b[37m\u001b[0m \u001b[1m0s\u001b[0m 3ms/step - accuracy: 0.9683 - loss: 0.2468 - val_accuracy: 0.5250 - val_loss: 0.9369\n",
            "Epoch 19/20\n",
            "\u001b[1m25/25\u001b[0m \u001b[32m━━━━━━━━━━━━━━━━━━━━\u001b[0m\u001b[37m\u001b[0m \u001b[1m0s\u001b[0m 2ms/step - accuracy: 0.9844 - loss: 0.2336 - val_accuracy: 0.5450 - val_loss: 0.9529\n",
            "Epoch 20/20\n",
            "\u001b[1m25/25\u001b[0m \u001b[32m━━━━━━━━━━━━━━━━━━━━\u001b[0m\u001b[37m\u001b[0m \u001b[1m0s\u001b[0m 3ms/step - accuracy: 0.9812 - loss: 0.2199 - val_accuracy: 0.5450 - val_loss: 0.9654\n"
          ]
        }
      ]
    },
    {
      "cell_type": "code",
      "source": [
        "test_data = np.random.randn(5, 150)\n",
        "test_labels = np.random.randint(2, size=(5, 1))"
      ],
      "metadata": {
        "id": "YOzu3qBny_zS"
      },
      "execution_count": 44,
      "outputs": []
    },
    {
      "cell_type": "code",
      "source": [
        "model.predict(test_data)"
      ],
      "metadata": {
        "colab": {
          "base_uri": "https://localhost:8080/"
        },
        "id": "EWKrikXJzASy",
        "outputId": "2ed24cdf-604e-4e35-e323-453e3367d26e"
      },
      "execution_count": 45,
      "outputs": [
        {
          "output_type": "stream",
          "name": "stdout",
          "text": [
            "\u001b[1m1/1\u001b[0m \u001b[32m━━━━━━━━━━━━━━━━━━━━\u001b[0m\u001b[37m\u001b[0m \u001b[1m0s\u001b[0m 46ms/step\n"
          ]
        },
        {
          "output_type": "execute_result",
          "data": {
            "text/plain": [
              "array([[0.42735738],\n",
              "       [0.7950977 ],\n",
              "       [0.15327932],\n",
              "       [0.34152773],\n",
              "       [0.19717948]], dtype=float32)"
            ]
          },
          "metadata": {},
          "execution_count": 45
        }
      ]
    },
    {
      "cell_type": "code",
      "source": [
        "model.predict_proba(test_data)"
      ],
      "metadata": {
        "colab": {
          "base_uri": "https://localhost:8080/",
          "height": 141
        },
        "id": "4BrobJ8azHwf",
        "outputId": "4c02104a-5970-4ac8-cc5e-65b35b6ae69c"
      },
      "execution_count": 46,
      "outputs": [
        {
          "output_type": "error",
          "ename": "AttributeError",
          "evalue": "'Sequential' object has no attribute 'predict_proba'",
          "traceback": [
            "\u001b[0;31m---------------------------------------------------------------------------\u001b[0m",
            "\u001b[0;31mAttributeError\u001b[0m                            Traceback (most recent call last)",
            "\u001b[0;32m<ipython-input-46-179dbf9460b3>\u001b[0m in \u001b[0;36m<cell line: 1>\u001b[0;34m()\u001b[0m\n\u001b[0;32m----> 1\u001b[0;31m \u001b[0mmodel\u001b[0m\u001b[0;34m.\u001b[0m\u001b[0mpredict_proba\u001b[0m\u001b[0;34m(\u001b[0m\u001b[0mtest_data\u001b[0m\u001b[0;34m)\u001b[0m\u001b[0;34m\u001b[0m\u001b[0;34m\u001b[0m\u001b[0m\n\u001b[0m",
            "\u001b[0;31mAttributeError\u001b[0m: 'Sequential' object has no attribute 'predict_proba'"
          ]
        }
      ]
    },
    {
      "cell_type": "code",
      "source": [
        "\n",
        "probabilities = model.predict(test_data)\n",
        "\n",
        "\n",
        "classes = (probabilities > 0.5).astype(\"int32\")\n",
        "classes"
      ],
      "metadata": {
        "colab": {
          "base_uri": "https://localhost:8080/"
        },
        "id": "Q_EWeva2zVyc",
        "outputId": "21c7b1a1-45b7-46a8-d88b-60eb775dff5e"
      },
      "execution_count": 51,
      "outputs": [
        {
          "output_type": "stream",
          "name": "stdout",
          "text": [
            "\u001b[1m1/1\u001b[0m \u001b[32m━━━━━━━━━━━━━━━━━━━━\u001b[0m\u001b[37m\u001b[0m \u001b[1m0s\u001b[0m 21ms/step\n"
          ]
        },
        {
          "output_type": "execute_result",
          "data": {
            "text/plain": [
              "array([[0],\n",
              "       [1],\n",
              "       [0],\n",
              "       [0],\n",
              "       [0]], dtype=int32)"
            ]
          },
          "metadata": {},
          "execution_count": 51
        }
      ]
    },
    {
      "cell_type": "markdown",
      "source": [
        "###Example - multi-class classification"
      ],
      "metadata": {
        "id": "VAHsCwW8zzjI"
      }
    },
    {
      "cell_type": "code",
      "source": [
        "data = np.random.random((1000, 150))\n",
        "labels = np.random.randint(10, size=(1000, 1))"
      ],
      "metadata": {
        "id": "kQ3mQhTPz2oY"
      },
      "execution_count": 52,
      "outputs": []
    },
    {
      "cell_type": "code",
      "source": [
        "print(data.shape)\n",
        "print(labels.shape)"
      ],
      "metadata": {
        "colab": {
          "base_uri": "https://localhost:8080/"
        },
        "id": "mbzSK7YVz3yb",
        "outputId": "c47f24bf-4efc-486b-f655-795dec291af4"
      },
      "execution_count": 53,
      "outputs": [
        {
          "output_type": "stream",
          "name": "stdout",
          "text": [
            "(1000, 150)\n",
            "(1000, 1)\n"
          ]
        }
      ]
    },
    {
      "cell_type": "code",
      "source": [
        "data[:3]"
      ],
      "metadata": {
        "colab": {
          "base_uri": "https://localhost:8080/"
        },
        "id": "pOY2wPmGz4tT",
        "outputId": "c35e5f95-1bbd-450f-aff1-1ae183546d26"
      },
      "execution_count": 54,
      "outputs": [
        {
          "output_type": "execute_result",
          "data": {
            "text/plain": [
              "array([[0.65933691, 0.94973831, 0.1866041 , 0.58792569, 0.37556247,\n",
              "        0.8880093 , 0.09455854, 0.96452328, 0.73591276, 0.73486031,\n",
              "        0.22636295, 0.2436525 , 0.32295223, 0.50013947, 0.90582299,\n",
              "        0.77056612, 0.1701903 , 0.68751523, 0.33720514, 0.58053596,\n",
              "        0.499522  , 0.99496821, 0.303532  , 0.03873955, 0.92361613,\n",
              "        0.1123115 , 0.63854187, 0.90108914, 0.24332562, 0.05464649,\n",
              "        0.74542124, 0.17729393, 0.4875425 , 0.41980254, 0.98131972,\n",
              "        0.18397748, 0.993696  , 0.58095646, 0.39422346, 0.71667442,\n",
              "        0.65819302, 0.08188382, 0.17165309, 0.57869158, 0.79533666,\n",
              "        0.15549207, 0.1226795 , 0.94905049, 0.19397325, 0.30793754,\n",
              "        0.00554398, 0.80390505, 0.20449215, 0.6571259 , 0.5678557 ,\n",
              "        0.78859767, 0.24710495, 0.31439779, 0.42378772, 0.04811988,\n",
              "        0.67880327, 0.36305408, 0.46887876, 0.04017784, 0.08324562,\n",
              "        0.26034416, 0.48794475, 0.26277701, 0.43860586, 0.86493906,\n",
              "        0.30686563, 0.43101296, 0.25671481, 0.55964764, 0.21930296,\n",
              "        0.82889096, 0.02925865, 0.58282316, 0.75152072, 0.39774198,\n",
              "        0.34443233, 0.1393142 , 0.39979268, 0.19460738, 0.77344933,\n",
              "        0.62038977, 0.91925949, 0.84516891, 0.18406634, 0.56021991,\n",
              "        0.27819976, 0.58332514, 0.53012726, 0.53270367, 0.21503978,\n",
              "        0.90194136, 0.22698851, 0.16179659, 0.5488677 , 0.43726909,\n",
              "        0.78365953, 0.82925133, 0.49054589, 0.39272869, 0.47430134,\n",
              "        0.36702558, 0.64620487, 0.84677687, 0.84389254, 0.28303733,\n",
              "        0.14188105, 0.7111529 , 0.22129093, 0.15600349, 0.3404682 ,\n",
              "        0.47256497, 0.06996211, 0.48197804, 0.66009508, 0.06209585,\n",
              "        0.5774263 , 0.4557155 , 0.55749247, 0.10100807, 0.98985324,\n",
              "        0.79447682, 0.37784073, 0.08624574, 0.06427489, 0.30595692,\n",
              "        0.59965192, 0.6629817 , 0.65388356, 0.90464374, 0.46910463,\n",
              "        0.64376691, 0.31470947, 0.75105545, 0.14645935, 0.30286462,\n",
              "        0.3947036 , 0.08663758, 0.36854929, 0.5765506 , 0.41799895,\n",
              "        0.18753598, 0.78860319, 0.51838358, 0.31480295, 0.63546987],\n",
              "       [0.87007916, 0.46989188, 0.58309616, 0.38706981, 0.53372505,\n",
              "        0.10049162, 0.12876081, 0.21964381, 0.11912186, 0.63096922,\n",
              "        0.78883559, 0.77989766, 0.18223685, 0.00390677, 0.59008959,\n",
              "        0.89823254, 0.41370667, 0.0451435 , 0.03490743, 0.06214209,\n",
              "        0.94841624, 0.04681846, 0.31095898, 0.03626418, 0.68770451,\n",
              "        0.08575271, 0.63585308, 0.84540089, 0.48502148, 0.39689579,\n",
              "        0.7141985 , 0.05665754, 0.45787304, 0.75967571, 0.8306152 ,\n",
              "        0.24604933, 0.12462836, 0.34667862, 0.91355247, 0.47392966,\n",
              "        0.17804309, 0.8004077 , 0.5995724 , 0.34546224, 0.24245107,\n",
              "        0.45133789, 0.05853026, 0.70839333, 0.09791223, 0.69067396,\n",
              "        0.11747294, 0.99486979, 0.91224957, 0.36716575, 0.80721432,\n",
              "        0.42774361, 0.84405398, 0.1538721 , 0.97979191, 0.79359689,\n",
              "        0.7921425 , 0.54272313, 0.64901352, 0.93726147, 0.93360699,\n",
              "        0.54011329, 0.97318805, 0.95491913, 0.07675799, 0.86316433,\n",
              "        0.19334328, 0.29748991, 0.88171161, 0.81093824, 0.10778933,\n",
              "        0.05227479, 0.04210822, 0.93102942, 0.98936212, 0.19501743,\n",
              "        0.49037403, 0.20830241, 0.49819655, 0.31365469, 0.68784057,\n",
              "        0.36821245, 0.0725678 , 0.1943277 , 0.16360272, 0.03312065,\n",
              "        0.21704125, 0.67597352, 0.83994164, 0.8245096 , 0.24441882,\n",
              "        0.16315641, 0.13056077, 0.42786618, 0.47054115, 0.54948236,\n",
              "        0.18059459, 0.88793539, 0.85687956, 0.35002617, 0.39109078,\n",
              "        0.76092704, 0.60027462, 0.45727839, 0.62956505, 0.84657813,\n",
              "        0.63137141, 0.95940515, 0.79277259, 0.28936693, 0.18582988,\n",
              "        0.02357174, 0.84697279, 0.75569078, 0.06735103, 0.83651621,\n",
              "        0.78634704, 0.89636769, 0.83159315, 0.65290191, 0.70211146,\n",
              "        0.41829132, 0.24627475, 0.90598009, 0.66338418, 0.81166835,\n",
              "        0.60884871, 0.82818849, 0.18692825, 0.16732929, 0.64115754,\n",
              "        0.76775082, 0.20793049, 0.62720812, 0.06241197, 0.89622086,\n",
              "        0.23418207, 0.09993791, 0.28400788, 0.20987137, 0.70032325,\n",
              "        0.27678462, 0.79880715, 0.40555068, 0.88922041, 0.57392154],\n",
              "       [0.85898449, 0.98655385, 0.74969979, 0.2996553 , 0.85662542,\n",
              "        0.85653484, 0.34531967, 0.89901094, 0.44981935, 0.60237223,\n",
              "        0.57200031, 0.08048724, 0.81681446, 0.43095296, 0.52153751,\n",
              "        0.24613816, 0.15872201, 0.93603081, 0.30394824, 0.65684485,\n",
              "        0.52957248, 0.68583746, 0.23681148, 0.01357058, 0.18561515,\n",
              "        0.42572226, 0.54659664, 0.89411668, 0.65818739, 0.4504861 ,\n",
              "        0.78569896, 0.49002949, 0.36827856, 0.0397483 , 0.68156197,\n",
              "        0.37352935, 0.41332426, 0.43165225, 0.17412157, 0.6044241 ,\n",
              "        0.21322729, 0.10123499, 0.16897867, 0.74488613, 0.71410944,\n",
              "        0.8496544 , 0.64203437, 0.9495218 , 0.95004572, 0.51217682,\n",
              "        0.58792182, 0.93603451, 0.57518475, 0.77103479, 0.81800495,\n",
              "        0.52629188, 0.88687664, 0.42373884, 0.6073257 , 0.76700427,\n",
              "        0.97639659, 0.8072622 , 0.65621712, 0.2166636 , 0.89312143,\n",
              "        0.67345868, 0.20532797, 0.3437803 , 0.19109885, 0.9250369 ,\n",
              "        0.0059747 , 0.98061092, 0.52318628, 0.45753228, 0.53342001,\n",
              "        0.66553607, 0.19402647, 0.21781736, 0.37880311, 0.28591787,\n",
              "        0.55150507, 0.66251114, 0.09273136, 0.43669601, 0.88957521,\n",
              "        0.19646481, 0.41463214, 0.85898703, 0.22792466, 0.80823486,\n",
              "        0.50492635, 0.73549865, 0.90677114, 0.8573395 , 0.6008067 ,\n",
              "        0.45437904, 0.14763014, 0.54103208, 0.730366  , 0.69025828,\n",
              "        0.81779767, 0.78379671, 0.12215793, 0.06226963, 0.65752457,\n",
              "        0.68601048, 0.32479099, 0.16411908, 0.43079554, 0.7766205 ,\n",
              "        0.20756406, 0.77902164, 0.79427433, 0.46326307, 0.40905879,\n",
              "        0.98636087, 0.35099145, 0.42489613, 0.44628913, 0.62096013,\n",
              "        0.40047853, 0.20161334, 0.79064379, 0.73280104, 0.88980874,\n",
              "        0.46460495, 0.62159593, 0.32116585, 0.28089942, 0.06773045,\n",
              "        0.59458311, 0.7892516 , 0.33312243, 0.17721717, 0.23770077,\n",
              "        0.43855767, 0.03836213, 0.62409465, 0.31034852, 0.5189695 ,\n",
              "        0.85011736, 0.76253306, 0.19137002, 0.94636236, 0.07949038,\n",
              "        0.95532875, 0.97763166, 0.95771503, 0.14800385, 0.17249968]])"
            ]
          },
          "metadata": {},
          "execution_count": 54
        }
      ]
    },
    {
      "cell_type": "code",
      "source": [
        "labels[:10]"
      ],
      "metadata": {
        "colab": {
          "base_uri": "https://localhost:8080/"
        },
        "id": "ecgdAuwt0Aee",
        "outputId": "eb4e2277-6dd7-446c-9e86-8fbb7cd38f08"
      },
      "execution_count": 55,
      "outputs": [
        {
          "output_type": "execute_result",
          "data": {
            "text/plain": [
              "array([[9],\n",
              "       [5],\n",
              "       [1],\n",
              "       [1],\n",
              "       [8],\n",
              "       [2],\n",
              "       [2],\n",
              "       [3],\n",
              "       [6],\n",
              "       [1]])"
            ]
          },
          "metadata": {},
          "execution_count": 55
        }
      ]
    },
    {
      "cell_type": "code",
      "source": [
        "from tensorflow.keras.utils import to_categorical\n",
        "\n",
        "labels = to_categorical(labels, num_classes=10)\n",
        "labels"
      ],
      "metadata": {
        "colab": {
          "base_uri": "https://localhost:8080/"
        },
        "id": "FhJ8Q2or0CAY",
        "outputId": "18664446-abf9-47bf-abc5-f94b9a512808"
      },
      "execution_count": 56,
      "outputs": [
        {
          "output_type": "execute_result",
          "data": {
            "text/plain": [
              "array([[0., 0., 0., ..., 0., 0., 1.],\n",
              "       [0., 0., 0., ..., 0., 0., 0.],\n",
              "       [0., 1., 0., ..., 0., 0., 0.],\n",
              "       ...,\n",
              "       [0., 0., 0., ..., 1., 0., 0.],\n",
              "       [0., 0., 0., ..., 1., 0., 0.],\n",
              "       [0., 1., 0., ..., 0., 0., 0.]])"
            ]
          },
          "metadata": {},
          "execution_count": 56
        }
      ]
    },
    {
      "cell_type": "code",
      "source": [
        "labels[1]"
      ],
      "metadata": {
        "colab": {
          "base_uri": "https://localhost:8080/"
        },
        "id": "ZdQSEDum0Mp8",
        "outputId": "01797e4e-ffb8-4bac-8f2e-36f8d166ea70"
      },
      "execution_count": 57,
      "outputs": [
        {
          "output_type": "execute_result",
          "data": {
            "text/plain": [
              "array([0., 0., 0., 0., 0., 1., 0., 0., 0., 0.])"
            ]
          },
          "metadata": {},
          "execution_count": 57
        }
      ]
    },
    {
      "cell_type": "code",
      "source": [
        "model = Sequential()\n",
        "model.add(Dense(units=32, activation='relu', input_shape=(150,)))\n",
        "model.add(Dense(units=10, activation='softmax'))\n",
        "\n",
        "model.compile(optimizer='rmsprop',\n",
        "              loss='categorical_crossentropy',\n",
        "              metrics=['accuracy'])\n",
        "\n",
        "model.fit(data, labels, batch_size=32, epochs=30, validation_split=0.2)"
      ],
      "metadata": {
        "colab": {
          "base_uri": "https://localhost:8080/"
        },
        "id": "LW3FrBsw0Pv1",
        "outputId": "36f51504-4aa3-4a32-d496-3ff9a8215292"
      },
      "execution_count": 58,
      "outputs": [
        {
          "output_type": "stream",
          "name": "stdout",
          "text": [
            "Epoch 1/30\n"
          ]
        },
        {
          "output_type": "stream",
          "name": "stderr",
          "text": [
            "/usr/local/lib/python3.10/dist-packages/keras/src/layers/core/dense.py:87: UserWarning:\n",
            "\n",
            "Do not pass an `input_shape`/`input_dim` argument to a layer. When using Sequential models, prefer using an `Input(shape)` object as the first layer in the model instead.\n",
            "\n"
          ]
        },
        {
          "output_type": "stream",
          "name": "stdout",
          "text": [
            "\u001b[1m25/25\u001b[0m \u001b[32m━━━━━━━━━━━━━━━━━━━━\u001b[0m\u001b[37m\u001b[0m \u001b[1m1s\u001b[0m 10ms/step - accuracy: 0.0994 - loss: 2.4979 - val_accuracy: 0.0600 - val_loss: 2.3844\n",
            "Epoch 2/30\n",
            "\u001b[1m25/25\u001b[0m \u001b[32m━━━━━━━━━━━━━━━━━━━━\u001b[0m\u001b[37m\u001b[0m \u001b[1m0s\u001b[0m 3ms/step - accuracy: 0.1038 - loss: 2.3436 - val_accuracy: 0.0650 - val_loss: 2.3714\n",
            "Epoch 3/30\n",
            "\u001b[1m25/25\u001b[0m \u001b[32m━━━━━━━━━━━━━━━━━━━━\u001b[0m\u001b[37m\u001b[0m \u001b[1m0s\u001b[0m 3ms/step - accuracy: 0.1294 - loss: 2.3018 - val_accuracy: 0.0900 - val_loss: 2.3787\n",
            "Epoch 4/30\n",
            "\u001b[1m25/25\u001b[0m \u001b[32m━━━━━━━━━━━━━━━━━━━━\u001b[0m\u001b[37m\u001b[0m \u001b[1m0s\u001b[0m 3ms/step - accuracy: 0.1438 - loss: 2.2899 - val_accuracy: 0.0800 - val_loss: 2.3738\n",
            "Epoch 5/30\n",
            "\u001b[1m25/25\u001b[0m \u001b[32m━━━━━━━━━━━━━━━━━━━━\u001b[0m\u001b[37m\u001b[0m \u001b[1m0s\u001b[0m 3ms/step - accuracy: 0.1631 - loss: 2.2825 - val_accuracy: 0.0750 - val_loss: 2.3738\n",
            "Epoch 6/30\n",
            "\u001b[1m25/25\u001b[0m \u001b[32m━━━━━━━━━━━━━━━━━━━━\u001b[0m\u001b[37m\u001b[0m \u001b[1m0s\u001b[0m 3ms/step - accuracy: 0.1509 - loss: 2.2728 - val_accuracy: 0.0900 - val_loss: 2.3722\n",
            "Epoch 7/30\n",
            "\u001b[1m25/25\u001b[0m \u001b[32m━━━━━━━━━━━━━━━━━━━━\u001b[0m\u001b[37m\u001b[0m \u001b[1m0s\u001b[0m 3ms/step - accuracy: 0.1799 - loss: 2.2759 - val_accuracy: 0.0900 - val_loss: 2.3808\n",
            "Epoch 8/30\n",
            "\u001b[1m25/25\u001b[0m \u001b[32m━━━━━━━━━━━━━━━━━━━━\u001b[0m\u001b[37m\u001b[0m \u001b[1m0s\u001b[0m 3ms/step - accuracy: 0.2043 - loss: 2.2374 - val_accuracy: 0.1100 - val_loss: 2.3797\n",
            "Epoch 9/30\n",
            "\u001b[1m25/25\u001b[0m \u001b[32m━━━━━━━━━━━━━━━━━━━━\u001b[0m\u001b[37m\u001b[0m \u001b[1m0s\u001b[0m 3ms/step - accuracy: 0.2117 - loss: 2.2367 - val_accuracy: 0.0800 - val_loss: 2.3767\n",
            "Epoch 10/30\n",
            "\u001b[1m25/25\u001b[0m \u001b[32m━━━━━━━━━━━━━━━━━━━━\u001b[0m\u001b[37m\u001b[0m \u001b[1m0s\u001b[0m 3ms/step - accuracy: 0.2067 - loss: 2.2296 - val_accuracy: 0.0800 - val_loss: 2.3845\n",
            "Epoch 11/30\n",
            "\u001b[1m25/25\u001b[0m \u001b[32m━━━━━━━━━━━━━━━━━━━━\u001b[0m\u001b[37m\u001b[0m \u001b[1m0s\u001b[0m 3ms/step - accuracy: 0.2257 - loss: 2.1916 - val_accuracy: 0.0800 - val_loss: 2.3854\n",
            "Epoch 12/30\n",
            "\u001b[1m25/25\u001b[0m \u001b[32m━━━━━━━━━━━━━━━━━━━━\u001b[0m\u001b[37m\u001b[0m \u001b[1m0s\u001b[0m 3ms/step - accuracy: 0.2168 - loss: 2.2064 - val_accuracy: 0.0900 - val_loss: 2.3812\n",
            "Epoch 13/30\n",
            "\u001b[1m25/25\u001b[0m \u001b[32m━━━━━━━━━━━━━━━━━━━━\u001b[0m\u001b[37m\u001b[0m \u001b[1m0s\u001b[0m 3ms/step - accuracy: 0.2330 - loss: 2.1877 - val_accuracy: 0.0750 - val_loss: 2.3887\n",
            "Epoch 14/30\n",
            "\u001b[1m25/25\u001b[0m \u001b[32m━━━━━━━━━━━━━━━━━━━━\u001b[0m\u001b[37m\u001b[0m \u001b[1m0s\u001b[0m 3ms/step - accuracy: 0.2101 - loss: 2.1943 - val_accuracy: 0.0750 - val_loss: 2.3871\n",
            "Epoch 15/30\n",
            "\u001b[1m25/25\u001b[0m \u001b[32m━━━━━━━━━━━━━━━━━━━━\u001b[0m\u001b[37m\u001b[0m \u001b[1m0s\u001b[0m 3ms/step - accuracy: 0.2395 - loss: 2.1535 - val_accuracy: 0.0750 - val_loss: 2.3847\n",
            "Epoch 16/30\n",
            "\u001b[1m25/25\u001b[0m \u001b[32m━━━━━━━━━━━━━━━━━━━━\u001b[0m\u001b[37m\u001b[0m \u001b[1m0s\u001b[0m 3ms/step - accuracy: 0.2499 - loss: 2.1487 - val_accuracy: 0.0800 - val_loss: 2.3895\n",
            "Epoch 17/30\n",
            "\u001b[1m25/25\u001b[0m \u001b[32m━━━━━━━━━━━━━━━━━━━━\u001b[0m\u001b[37m\u001b[0m \u001b[1m0s\u001b[0m 3ms/step - accuracy: 0.2668 - loss: 2.1381 - val_accuracy: 0.0750 - val_loss: 2.3962\n",
            "Epoch 18/30\n",
            "\u001b[1m25/25\u001b[0m \u001b[32m━━━━━━━━━━━━━━━━━━━━\u001b[0m\u001b[37m\u001b[0m \u001b[1m0s\u001b[0m 2ms/step - accuracy: 0.2585 - loss: 2.1206 - val_accuracy: 0.0700 - val_loss: 2.3969\n",
            "Epoch 19/30\n",
            "\u001b[1m25/25\u001b[0m \u001b[32m━━━━━━━━━━━━━━━━━━━━\u001b[0m\u001b[37m\u001b[0m \u001b[1m0s\u001b[0m 3ms/step - accuracy: 0.2801 - loss: 2.1162 - val_accuracy: 0.0950 - val_loss: 2.4097\n",
            "Epoch 20/30\n",
            "\u001b[1m25/25\u001b[0m \u001b[32m━━━━━━━━━━━━━━━━━━━━\u001b[0m\u001b[37m\u001b[0m \u001b[1m0s\u001b[0m 3ms/step - accuracy: 0.2752 - loss: 2.1230 - val_accuracy: 0.0900 - val_loss: 2.4097\n",
            "Epoch 21/30\n",
            "\u001b[1m25/25\u001b[0m \u001b[32m━━━━━━━━━━━━━━━━━━━━\u001b[0m\u001b[37m\u001b[0m \u001b[1m0s\u001b[0m 3ms/step - accuracy: 0.2845 - loss: 2.0957 - val_accuracy: 0.0850 - val_loss: 2.4104\n",
            "Epoch 22/30\n",
            "\u001b[1m25/25\u001b[0m \u001b[32m━━━━━━━━━━━━━━━━━━━━\u001b[0m\u001b[37m\u001b[0m \u001b[1m0s\u001b[0m 3ms/step - accuracy: 0.2906 - loss: 2.0691 - val_accuracy: 0.0700 - val_loss: 2.4164\n",
            "Epoch 23/30\n",
            "\u001b[1m25/25\u001b[0m \u001b[32m━━━━━━━━━━━━━━━━━━━━\u001b[0m\u001b[37m\u001b[0m \u001b[1m0s\u001b[0m 3ms/step - accuracy: 0.3175 - loss: 2.0470 - val_accuracy: 0.0750 - val_loss: 2.4143\n",
            "Epoch 24/30\n",
            "\u001b[1m25/25\u001b[0m \u001b[32m━━━━━━━━━━━━━━━━━━━━\u001b[0m\u001b[37m\u001b[0m \u001b[1m0s\u001b[0m 3ms/step - accuracy: 0.3136 - loss: 2.0541 - val_accuracy: 0.0700 - val_loss: 2.4335\n",
            "Epoch 25/30\n",
            "\u001b[1m25/25\u001b[0m \u001b[32m━━━━━━━━━━━━━━━━━━━━\u001b[0m\u001b[37m\u001b[0m \u001b[1m0s\u001b[0m 6ms/step - accuracy: 0.3187 - loss: 2.0310 - val_accuracy: 0.0700 - val_loss: 2.4230\n",
            "Epoch 26/30\n",
            "\u001b[1m25/25\u001b[0m \u001b[32m━━━━━━━━━━━━━━━━━━━━\u001b[0m\u001b[37m\u001b[0m \u001b[1m0s\u001b[0m 4ms/step - accuracy: 0.3077 - loss: 2.0278 - val_accuracy: 0.0700 - val_loss: 2.4335\n",
            "Epoch 27/30\n",
            "\u001b[1m25/25\u001b[0m \u001b[32m━━━━━━━━━━━━━━━━━━━━\u001b[0m\u001b[37m\u001b[0m \u001b[1m0s\u001b[0m 4ms/step - accuracy: 0.3619 - loss: 2.0061 - val_accuracy: 0.0850 - val_loss: 2.4372\n",
            "Epoch 28/30\n",
            "\u001b[1m25/25\u001b[0m \u001b[32m━━━━━━━━━━━━━━━━━━━━\u001b[0m\u001b[37m\u001b[0m \u001b[1m0s\u001b[0m 4ms/step - accuracy: 0.3102 - loss: 2.0070 - val_accuracy: 0.0750 - val_loss: 2.4412\n",
            "Epoch 29/30\n",
            "\u001b[1m25/25\u001b[0m \u001b[32m━━━━━━━━━━━━━━━━━━━━\u001b[0m\u001b[37m\u001b[0m \u001b[1m0s\u001b[0m 5ms/step - accuracy: 0.3436 - loss: 1.9765 - val_accuracy: 0.0750 - val_loss: 2.4467\n",
            "Epoch 30/30\n",
            "\u001b[1m25/25\u001b[0m \u001b[32m━━━━━━━━━━━━━━━━━━━━\u001b[0m\u001b[37m\u001b[0m \u001b[1m0s\u001b[0m 4ms/step - accuracy: 0.3719 - loss: 1.9666 - val_accuracy: 0.0650 - val_loss: 2.4506\n"
          ]
        },
        {
          "output_type": "execute_result",
          "data": {
            "text/plain": [
              "<keras.src.callbacks.history.History at 0x7dbd73f142b0>"
            ]
          },
          "metadata": {},
          "execution_count": 58
        }
      ]
    },
    {
      "cell_type": "code",
      "source": [
        "test_data = np.random.random((10, 150))\n",
        "\n",
        "model.predict(test_data)"
      ],
      "metadata": {
        "colab": {
          "base_uri": "https://localhost:8080/"
        },
        "id": "09HWzIam0a7f",
        "outputId": "1a5500c9-d086-4554-8b90-92f90c1abf46"
      },
      "execution_count": 59,
      "outputs": [
        {
          "output_type": "stream",
          "name": "stdout",
          "text": [
            "\u001b[1m1/1\u001b[0m \u001b[32m━━━━━━━━━━━━━━━━━━━━\u001b[0m\u001b[37m\u001b[0m \u001b[1m0s\u001b[0m 46ms/step\n"
          ]
        },
        {
          "output_type": "execute_result",
          "data": {
            "text/plain": [
              "array([[0.05133191, 0.02676557, 0.31163254, 0.05119172, 0.07011239,\n",
              "        0.06560519, 0.09486675, 0.14350736, 0.05554933, 0.12943734],\n",
              "       [0.07114828, 0.05255695, 0.07979421, 0.06492963, 0.09165414,\n",
              "        0.12352966, 0.06255471, 0.13728927, 0.18119359, 0.13534954],\n",
              "       [0.07834195, 0.1263055 , 0.09139713, 0.07774067, 0.09262682,\n",
              "        0.11035097, 0.12490135, 0.13588078, 0.04637264, 0.11608215],\n",
              "       [0.03662372, 0.08279045, 0.17064221, 0.15725702, 0.15938646,\n",
              "        0.0368039 , 0.06259691, 0.06557694, 0.140665  , 0.08765745],\n",
              "       [0.22951294, 0.07069313, 0.05724055, 0.0819444 , 0.04752948,\n",
              "        0.17638734, 0.09522831, 0.07909296, 0.0873633 , 0.07500758],\n",
              "       [0.12140564, 0.21449181, 0.09333993, 0.08803882, 0.08776799,\n",
              "        0.05727502, 0.16239233, 0.06273825, 0.07718953, 0.0353606 ],\n",
              "       [0.20429452, 0.04640013, 0.14108948, 0.04156311, 0.03330422,\n",
              "        0.07981596, 0.10696006, 0.08750178, 0.07912351, 0.1799472 ],\n",
              "       [0.10991153, 0.0525465 , 0.0691481 , 0.08690194, 0.05934943,\n",
              "        0.05932795, 0.13728826, 0.20940495, 0.0796954 , 0.13642597],\n",
              "       [0.06672639, 0.04361018, 0.2092829 , 0.09426234, 0.09673382,\n",
              "        0.02683519, 0.11452257, 0.04119634, 0.10175252, 0.2050778 ],\n",
              "       [0.11106134, 0.0807742 , 0.15366131, 0.03990637, 0.05936116,\n",
              "        0.06203666, 0.19769216, 0.08394162, 0.06473427, 0.14683093]],\n",
              "      dtype=float32)"
            ]
          },
          "metadata": {},
          "execution_count": 59
        }
      ]
    },
    {
      "cell_type": "code",
      "source": [
        "probabilities = model.predict(test_data)\n",
        "\n",
        "\n",
        "classes = np.argmax(probabilities, axis=1)\n",
        "classes"
      ],
      "metadata": {
        "colab": {
          "base_uri": "https://localhost:8080/"
        },
        "id": "RWVVFuD_0elo",
        "outputId": "fa54cbb4-0ea6-4a24-9152-2c43b25ca14e"
      },
      "execution_count": 60,
      "outputs": [
        {
          "output_type": "stream",
          "name": "stdout",
          "text": [
            "\u001b[1m1/1\u001b[0m \u001b[32m━━━━━━━━━━━━━━━━━━━━\u001b[0m\u001b[37m\u001b[0m \u001b[1m0s\u001b[0m 21ms/step\n"
          ]
        },
        {
          "output_type": "execute_result",
          "data": {
            "text/plain": [
              "array([2, 8, 7, 2, 0, 1, 0, 7, 2, 6])"
            ]
          },
          "metadata": {},
          "execution_count": 60
        }
      ]
    },
    {
      "cell_type": "markdown",
      "source": [
        "###Example - regression"
      ],
      "metadata": {
        "id": "y-SghL5J0pWX"
      }
    },
    {
      "cell_type": "code",
      "source": [
        "data = np.random.random((1000, 150))\n",
        "labels = 50 * np.random.random(1000)"
      ],
      "metadata": {
        "id": "OSAXTR4W0sa9"
      },
      "execution_count": 62,
      "outputs": []
    },
    {
      "cell_type": "code",
      "source": [
        "data[:3]"
      ],
      "metadata": {
        "colab": {
          "base_uri": "https://localhost:8080/"
        },
        "id": "UY4IzFUg0uch",
        "outputId": "b1182e53-2800-43cd-a827-57db06f4e428"
      },
      "execution_count": 63,
      "outputs": [
        {
          "output_type": "execute_result",
          "data": {
            "text/plain": [
              "array([[1.03430744e-02, 3.04375665e-01, 9.75674448e-01, 4.30503417e-01,\n",
              "        6.53869809e-01, 2.79899104e-01, 6.07841192e-01, 1.10593039e-01,\n",
              "        1.31874298e-01, 1.74584882e-01, 8.75786537e-01, 5.08527380e-01,\n",
              "        6.16669775e-02, 2.33660216e-01, 1.98579053e-01, 4.53768706e-02,\n",
              "        1.31968857e-01, 7.56200907e-01, 9.34698142e-02, 4.07393094e-02,\n",
              "        2.58883463e-01, 4.03396774e-01, 3.22722234e-01, 3.70657143e-01,\n",
              "        9.58808125e-01, 9.61498550e-01, 9.08613316e-01, 3.50781836e-01,\n",
              "        1.33758495e-01, 2.79555292e-01, 8.91982702e-01, 7.34302998e-01,\n",
              "        8.02129793e-01, 9.49568043e-02, 7.08071829e-01, 2.73844837e-01,\n",
              "        7.30152044e-01, 8.03866499e-01, 6.10554209e-01, 8.69847857e-01,\n",
              "        7.82570444e-01, 1.64396244e-01, 6.01805721e-01, 3.53915876e-01,\n",
              "        6.06924353e-02, 2.93216540e-01, 8.64043219e-01, 4.00343337e-01,\n",
              "        5.19913292e-01, 3.60460190e-01, 2.51498009e-01, 7.63383657e-01,\n",
              "        2.26238436e-01, 8.56045889e-01, 5.92297632e-01, 6.46914270e-01,\n",
              "        7.17123234e-02, 7.92531852e-01, 7.55351358e-01, 5.78589481e-01,\n",
              "        7.08385133e-01, 4.67411461e-02, 2.00649312e-01, 4.53404441e-01,\n",
              "        5.61284545e-01, 4.64447463e-01, 1.92359097e-01, 5.08608320e-01,\n",
              "        8.76872835e-01, 7.09956409e-01, 1.56271595e-01, 9.10071556e-01,\n",
              "        9.46805457e-01, 9.80008285e-01, 6.75902912e-01, 7.19812161e-01,\n",
              "        1.99096304e-01, 6.32929746e-01, 2.40580277e-01, 6.90110590e-01,\n",
              "        5.06906720e-01, 9.43371056e-01, 1.92576819e-01, 9.74654853e-01,\n",
              "        5.49663969e-01, 4.22284869e-01, 4.44731876e-01, 5.97889088e-01,\n",
              "        8.36318950e-01, 1.14076908e-01, 2.15424726e-02, 6.94570517e-01,\n",
              "        4.56938587e-01, 7.61491790e-02, 3.56809126e-01, 6.29707818e-01,\n",
              "        7.81957015e-02, 1.85434277e-01, 6.78723515e-01, 8.00406095e-02,\n",
              "        5.90571574e-01, 2.35102958e-01, 1.73319250e-01, 2.30849082e-02,\n",
              "        5.37174173e-01, 2.49235500e-01, 4.38257825e-01, 2.69325227e-01,\n",
              "        8.15467146e-01, 3.60027197e-01, 6.10580551e-01, 6.29737223e-01,\n",
              "        4.39596939e-01, 2.58912957e-01, 4.00993038e-01, 7.37487788e-01,\n",
              "        4.92411488e-01, 5.46779072e-01, 3.05475129e-02, 4.02803637e-01,\n",
              "        6.46796524e-01, 1.46485151e-01, 9.81194330e-01, 3.31684745e-01,\n",
              "        5.57591090e-01, 5.98511503e-01, 6.40918086e-01, 4.80544949e-01,\n",
              "        4.00810916e-01, 2.90903739e-01, 7.39737856e-01, 3.82278810e-01,\n",
              "        8.81963268e-01, 3.71002440e-01, 9.00163676e-01, 4.71825538e-01,\n",
              "        5.13222644e-01, 1.36264367e-01, 7.47618043e-01, 1.46528194e-01,\n",
              "        9.17147406e-01, 9.81242427e-01, 9.60626766e-01, 7.13463490e-01,\n",
              "        6.26767902e-01, 5.28987634e-01, 5.19457450e-01, 4.32959341e-01,\n",
              "        4.33556668e-01, 6.00708569e-01],\n",
              "       [2.52061043e-01, 6.66466493e-01, 1.18809309e-01, 5.96512571e-01,\n",
              "        6.64232128e-01, 7.63032134e-01, 2.56601412e-01, 5.90845314e-01,\n",
              "        4.47622298e-01, 6.14997135e-01, 1.85048086e-01, 2.05215939e-01,\n",
              "        8.03582536e-01, 7.45762211e-01, 3.88847838e-01, 1.58081262e-01,\n",
              "        6.06140549e-01, 8.47825244e-01, 5.47224959e-01, 7.27493498e-01,\n",
              "        1.55629402e-01, 1.97859742e-02, 5.29394807e-01, 2.39146449e-02,\n",
              "        5.55890996e-02, 4.89722018e-01, 3.44880468e-01, 5.48332339e-01,\n",
              "        2.07884647e-01, 7.90225921e-01, 5.80314609e-02, 7.64586987e-01,\n",
              "        1.99396643e-01, 9.64209548e-01, 6.94103063e-01, 1.38371058e-02,\n",
              "        8.22574444e-01, 7.64460215e-02, 1.20552372e-01, 2.87127929e-01,\n",
              "        2.65255105e-02, 3.27042961e-01, 6.07724171e-01, 8.70431321e-01,\n",
              "        3.49660668e-01, 7.19035433e-01, 1.78188887e-01, 8.92557069e-01,\n",
              "        9.26292976e-03, 7.88275584e-01, 2.00941528e-01, 9.09117633e-01,\n",
              "        2.13246810e-02, 6.94233548e-01, 9.89008156e-02, 7.45957723e-02,\n",
              "        8.27432451e-02, 8.79308899e-01, 8.15507522e-01, 4.45696476e-01,\n",
              "        7.78592418e-01, 9.31609428e-01, 5.00976995e-01, 1.45304445e-01,\n",
              "        3.38777362e-01, 1.07866086e-01, 7.94246492e-01, 1.98447234e-01,\n",
              "        9.29560610e-01, 7.43070031e-01, 4.45790048e-01, 6.99050004e-01,\n",
              "        1.79647834e-01, 8.35903928e-01, 4.85928477e-01, 6.92805743e-01,\n",
              "        6.63794471e-01, 5.75450216e-01, 4.95377264e-01, 9.29120248e-01,\n",
              "        4.11145050e-01, 8.19157283e-01, 4.07520631e-01, 9.81486170e-01,\n",
              "        3.68090263e-01, 5.27556361e-01, 5.52231772e-01, 3.60959142e-01,\n",
              "        5.26512956e-01, 4.25278536e-01, 6.37848765e-01, 6.12194624e-01,\n",
              "        4.44435428e-01, 1.82494336e-02, 4.08582933e-01, 2.02971556e-01,\n",
              "        8.28195164e-01, 3.59403836e-01, 7.86470207e-02, 9.28951169e-01,\n",
              "        7.41946770e-01, 1.93446752e-01, 5.80301382e-01, 7.12853129e-01,\n",
              "        8.06907385e-01, 5.69110931e-01, 8.90129248e-01, 6.19417152e-02,\n",
              "        5.31302874e-01, 1.52036515e-01, 4.68110199e-02, 2.28112889e-01,\n",
              "        4.50580107e-01, 1.49671713e-01, 2.00492819e-03, 3.59774954e-01,\n",
              "        4.73466522e-02, 7.43873895e-01, 5.49228444e-01, 1.52578115e-01,\n",
              "        2.55347407e-01, 1.89530353e-01, 1.99508331e-01, 5.47905537e-01,\n",
              "        8.68763733e-01, 1.13948998e-01, 2.68163811e-01, 5.03719666e-01,\n",
              "        3.08121570e-01, 7.86124305e-01, 8.68112176e-01, 2.03740750e-01,\n",
              "        9.91877676e-01, 6.12214624e-01, 3.40414149e-01, 5.75488909e-01,\n",
              "        4.99621623e-01, 7.89793405e-01, 2.87620399e-01, 4.92830321e-01,\n",
              "        4.88992096e-01, 2.27659030e-01, 1.50053194e-01, 2.85550805e-01,\n",
              "        2.17566094e-02, 4.78979047e-01, 3.84538610e-01, 7.77935816e-01,\n",
              "        8.88657781e-01, 7.78068467e-01],\n",
              "       [8.54237832e-01, 5.90865965e-01, 7.02307633e-01, 8.48165566e-01,\n",
              "        7.85943434e-01, 7.08058917e-02, 6.50991708e-01, 3.09321259e-01,\n",
              "        9.74067784e-01, 5.37646425e-01, 2.22943848e-01, 9.43669753e-01,\n",
              "        7.51751261e-02, 3.00634882e-02, 4.01782316e-01, 5.08717424e-01,\n",
              "        5.76188882e-02, 5.68575205e-01, 5.21258830e-02, 4.42547380e-01,\n",
              "        9.22013420e-01, 3.30368247e-01, 5.23357073e-01, 6.79090578e-02,\n",
              "        7.47673256e-01, 2.17399387e-01, 6.28891932e-02, 6.67565227e-01,\n",
              "        2.32969123e-01, 7.71893731e-02, 7.44333447e-01, 9.87605765e-01,\n",
              "        6.82735883e-01, 5.90062233e-01, 2.39476510e-01, 7.18609423e-02,\n",
              "        3.35013802e-01, 7.06178970e-01, 6.73720798e-01, 8.21875341e-01,\n",
              "        5.48737283e-01, 6.62785626e-01, 4.57784320e-01, 4.33693534e-01,\n",
              "        3.53463882e-02, 2.45433918e-02, 1.71335089e-01, 6.69648630e-01,\n",
              "        8.88802857e-01, 7.61758431e-02, 2.44519847e-01, 2.80509099e-01,\n",
              "        9.00198001e-01, 6.53455026e-01, 5.55091763e-03, 2.07244318e-01,\n",
              "        7.52944507e-01, 6.30945834e-01, 5.20083242e-01, 5.93748406e-01,\n",
              "        2.21766534e-01, 7.30663456e-02, 6.63976336e-01, 3.33815160e-01,\n",
              "        1.30078627e-01, 2.83167125e-01, 4.54679048e-01, 2.00830935e-02,\n",
              "        3.30904764e-01, 5.14247934e-01, 2.25801759e-01, 5.22679024e-01,\n",
              "        8.74373717e-01, 3.54547462e-01, 8.67401822e-01, 9.24232449e-01,\n",
              "        6.11637027e-01, 4.12066436e-01, 8.62183908e-02, 2.48070361e-01,\n",
              "        6.54415696e-01, 8.58567949e-01, 3.59248578e-01, 3.93302586e-01,\n",
              "        6.62418288e-02, 2.38859497e-01, 3.47310030e-01, 5.67469494e-01,\n",
              "        5.94416119e-01, 2.09600848e-01, 8.07478270e-02, 2.28482618e-01,\n",
              "        6.40535758e-01, 3.36229940e-01, 4.54743281e-01, 5.89955336e-03,\n",
              "        3.67736179e-01, 9.14693383e-01, 6.07767887e-01, 8.95902568e-02,\n",
              "        3.08889035e-01, 3.31778611e-01, 7.20476444e-01, 1.39644120e-01,\n",
              "        4.79427062e-03, 5.45892340e-01, 3.49190732e-03, 4.38233246e-01,\n",
              "        6.25134188e-01, 1.28813608e-01, 7.40616931e-02, 4.54194678e-01,\n",
              "        9.04183549e-02, 4.20705675e-01, 7.24367182e-02, 6.32878528e-01,\n",
              "        6.99353469e-01, 1.12535035e-01, 7.30152345e-01, 2.64065324e-01,\n",
              "        9.91670542e-02, 4.46752334e-01, 7.86953864e-01, 4.00811542e-01,\n",
              "        1.20607881e-01, 5.04706158e-01, 6.54820299e-01, 2.91139529e-02,\n",
              "        9.17969951e-01, 9.29367240e-01, 6.58780495e-01, 9.48938148e-01,\n",
              "        8.06462125e-01, 5.19646849e-01, 5.56960636e-01, 1.97196973e-01,\n",
              "        6.23718536e-02, 4.19530653e-01, 9.08776888e-01, 6.04033465e-04,\n",
              "        5.38207813e-01, 6.15852469e-01, 5.91555651e-01, 5.18089689e-01,\n",
              "        5.17353499e-01, 6.74232501e-02, 6.81316984e-01, 2.52515849e-02,\n",
              "        4.52117880e-01, 8.41417362e-01]])"
            ]
          },
          "metadata": {},
          "execution_count": 63
        }
      ]
    },
    {
      "cell_type": "code",
      "source": [
        "labels[:10]"
      ],
      "metadata": {
        "colab": {
          "base_uri": "https://localhost:8080/"
        },
        "id": "7z5xzXhr0v6T",
        "outputId": "7ddd77fd-c5bb-455a-d7cb-f70a2c4b9d78"
      },
      "execution_count": 64,
      "outputs": [
        {
          "output_type": "execute_result",
          "data": {
            "text/plain": [
              "array([ 4.06507032, 40.18395398, 39.91584908,  1.3682327 ,  3.79487307,\n",
              "       16.47227585, 24.54038425,  5.00935072, 12.36194379, 33.36846073])"
            ]
          },
          "metadata": {},
          "execution_count": 64
        }
      ]
    },
    {
      "cell_type": "code",
      "source": [
        "model = Sequential()\n",
        "model.add(Dense(units=32, activation='relu', input_shape=(150,)))\n",
        "model.add(Dense(units=1))\n",
        "\n",
        "model.compile(optimizer='rmsprop',\n",
        "              loss='mse')\n",
        "\n",
        "model.fit(data, labels, epochs=30, batch_size=32, validation_split=0.2)"
      ],
      "metadata": {
        "colab": {
          "base_uri": "https://localhost:8080/"
        },
        "id": "IYKujqB90xxY",
        "outputId": "46b6de87-bb5a-4e3e-ee8f-9282c1d4df01"
      },
      "execution_count": 65,
      "outputs": [
        {
          "output_type": "stream",
          "name": "stdout",
          "text": [
            "Epoch 1/30\n"
          ]
        },
        {
          "output_type": "stream",
          "name": "stderr",
          "text": [
            "/usr/local/lib/python3.10/dist-packages/keras/src/layers/core/dense.py:87: UserWarning:\n",
            "\n",
            "Do not pass an `input_shape`/`input_dim` argument to a layer. When using Sequential models, prefer using an `Input(shape)` object as the first layer in the model instead.\n",
            "\n"
          ]
        },
        {
          "output_type": "stream",
          "name": "stdout",
          "text": [
            "\u001b[1m25/25\u001b[0m \u001b[32m━━━━━━━━━━━━━━━━━━━━\u001b[0m\u001b[37m\u001b[0m \u001b[1m1s\u001b[0m 9ms/step - loss: 702.2445 - val_loss: 440.1204\n",
            "Epoch 2/30\n",
            "\u001b[1m25/25\u001b[0m \u001b[32m━━━━━━━━━━━━━━━━━━━━\u001b[0m\u001b[37m\u001b[0m \u001b[1m0s\u001b[0m 2ms/step - loss: 408.6120 - val_loss: 273.3684\n",
            "Epoch 3/30\n",
            "\u001b[1m25/25\u001b[0m \u001b[32m━━━━━━━━━━━━━━━━━━━━\u001b[0m\u001b[37m\u001b[0m \u001b[1m0s\u001b[0m 2ms/step - loss: 259.1965 - val_loss: 203.6759\n",
            "Epoch 4/30\n",
            "\u001b[1m25/25\u001b[0m \u001b[32m━━━━━━━━━━━━━━━━━━━━\u001b[0m\u001b[37m\u001b[0m \u001b[1m0s\u001b[0m 3ms/step - loss: 208.5763 - val_loss: 197.7595\n",
            "Epoch 5/30\n",
            "\u001b[1m25/25\u001b[0m \u001b[32m━━━━━━━━━━━━━━━━━━━━\u001b[0m\u001b[37m\u001b[0m \u001b[1m0s\u001b[0m 2ms/step - loss: 198.0247 - val_loss: 197.7350\n",
            "Epoch 6/30\n",
            "\u001b[1m25/25\u001b[0m \u001b[32m━━━━━━━━━━━━━━━━━━━━\u001b[0m\u001b[37m\u001b[0m \u001b[1m0s\u001b[0m 3ms/step - loss: 192.7732 - val_loss: 197.6216\n",
            "Epoch 7/30\n",
            "\u001b[1m25/25\u001b[0m \u001b[32m━━━━━━━━━━━━━━━━━━━━\u001b[0m\u001b[37m\u001b[0m \u001b[1m0s\u001b[0m 2ms/step - loss: 202.8745 - val_loss: 197.9871\n",
            "Epoch 8/30\n",
            "\u001b[1m25/25\u001b[0m \u001b[32m━━━━━━━━━━━━━━━━━━━━\u001b[0m\u001b[37m\u001b[0m \u001b[1m0s\u001b[0m 2ms/step - loss: 199.1242 - val_loss: 200.1290\n",
            "Epoch 9/30\n",
            "\u001b[1m25/25\u001b[0m \u001b[32m━━━━━━━━━━━━━━━━━━━━\u001b[0m\u001b[37m\u001b[0m \u001b[1m0s\u001b[0m 3ms/step - loss: 198.8719 - val_loss: 199.6169\n",
            "Epoch 10/30\n",
            "\u001b[1m25/25\u001b[0m \u001b[32m━━━━━━━━━━━━━━━━━━━━\u001b[0m\u001b[37m\u001b[0m \u001b[1m0s\u001b[0m 2ms/step - loss: 203.2121 - val_loss: 197.6777\n",
            "Epoch 11/30\n",
            "\u001b[1m25/25\u001b[0m \u001b[32m━━━━━━━━━━━━━━━━━━━━\u001b[0m\u001b[37m\u001b[0m \u001b[1m0s\u001b[0m 2ms/step - loss: 196.2629 - val_loss: 197.9553\n",
            "Epoch 12/30\n",
            "\u001b[1m25/25\u001b[0m \u001b[32m━━━━━━━━━━━━━━━━━━━━\u001b[0m\u001b[37m\u001b[0m \u001b[1m0s\u001b[0m 2ms/step - loss: 189.7733 - val_loss: 196.9632\n",
            "Epoch 13/30\n",
            "\u001b[1m25/25\u001b[0m \u001b[32m━━━━━━━━━━━━━━━━━━━━\u001b[0m\u001b[37m\u001b[0m \u001b[1m0s\u001b[0m 3ms/step - loss: 193.1381 - val_loss: 197.1967\n",
            "Epoch 14/30\n",
            "\u001b[1m25/25\u001b[0m \u001b[32m━━━━━━━━━━━━━━━━━━━━\u001b[0m\u001b[37m\u001b[0m \u001b[1m0s\u001b[0m 3ms/step - loss: 194.9831 - val_loss: 196.8562\n",
            "Epoch 15/30\n",
            "\u001b[1m25/25\u001b[0m \u001b[32m━━━━━━━━━━━━━━━━━━━━\u001b[0m\u001b[37m\u001b[0m \u001b[1m0s\u001b[0m 3ms/step - loss: 189.0379 - val_loss: 196.7146\n",
            "Epoch 16/30\n",
            "\u001b[1m25/25\u001b[0m \u001b[32m━━━━━━━━━━━━━━━━━━━━\u001b[0m\u001b[37m\u001b[0m \u001b[1m0s\u001b[0m 3ms/step - loss: 192.7296 - val_loss: 198.1450\n",
            "Epoch 17/30\n",
            "\u001b[1m25/25\u001b[0m \u001b[32m━━━━━━━━━━━━━━━━━━━━\u001b[0m\u001b[37m\u001b[0m \u001b[1m0s\u001b[0m 3ms/step - loss: 193.4223 - val_loss: 196.5398\n",
            "Epoch 18/30\n",
            "\u001b[1m25/25\u001b[0m \u001b[32m━━━━━━━━━━━━━━━━━━━━\u001b[0m\u001b[37m\u001b[0m \u001b[1m0s\u001b[0m 3ms/step - loss: 190.5854 - val_loss: 197.3114\n",
            "Epoch 19/30\n",
            "\u001b[1m25/25\u001b[0m \u001b[32m━━━━━━━━━━━━━━━━━━━━\u001b[0m\u001b[37m\u001b[0m \u001b[1m0s\u001b[0m 3ms/step - loss: 179.4435 - val_loss: 197.7282\n",
            "Epoch 20/30\n",
            "\u001b[1m25/25\u001b[0m \u001b[32m━━━━━━━━━━━━━━━━━━━━\u001b[0m\u001b[37m\u001b[0m \u001b[1m0s\u001b[0m 2ms/step - loss: 177.4371 - val_loss: 198.4185\n",
            "Epoch 21/30\n",
            "\u001b[1m25/25\u001b[0m \u001b[32m━━━━━━━━━━━━━━━━━━━━\u001b[0m\u001b[37m\u001b[0m \u001b[1m0s\u001b[0m 2ms/step - loss: 190.9764 - val_loss: 197.5031\n",
            "Epoch 22/30\n",
            "\u001b[1m25/25\u001b[0m \u001b[32m━━━━━━━━━━━━━━━━━━━━\u001b[0m\u001b[37m\u001b[0m \u001b[1m0s\u001b[0m 3ms/step - loss: 189.1559 - val_loss: 197.5480\n",
            "Epoch 23/30\n",
            "\u001b[1m25/25\u001b[0m \u001b[32m━━━━━━━━━━━━━━━━━━━━\u001b[0m\u001b[37m\u001b[0m \u001b[1m0s\u001b[0m 3ms/step - loss: 188.1998 - val_loss: 196.0120\n",
            "Epoch 24/30\n",
            "\u001b[1m25/25\u001b[0m \u001b[32m━━━━━━━━━━━━━━━━━━━━\u001b[0m\u001b[37m\u001b[0m \u001b[1m0s\u001b[0m 2ms/step - loss: 185.1243 - val_loss: 196.9442\n",
            "Epoch 25/30\n",
            "\u001b[1m25/25\u001b[0m \u001b[32m━━━━━━━━━━━━━━━━━━━━\u001b[0m\u001b[37m\u001b[0m \u001b[1m0s\u001b[0m 2ms/step - loss: 185.5984 - val_loss: 196.0911\n",
            "Epoch 26/30\n",
            "\u001b[1m25/25\u001b[0m \u001b[32m━━━━━━━━━━━━━━━━━━━━\u001b[0m\u001b[37m\u001b[0m \u001b[1m0s\u001b[0m 2ms/step - loss: 189.5481 - val_loss: 195.8535\n",
            "Epoch 27/30\n",
            "\u001b[1m25/25\u001b[0m \u001b[32m━━━━━━━━━━━━━━━━━━━━\u001b[0m\u001b[37m\u001b[0m \u001b[1m0s\u001b[0m 2ms/step - loss: 186.3095 - val_loss: 197.3718\n",
            "Epoch 28/30\n",
            "\u001b[1m25/25\u001b[0m \u001b[32m━━━━━━━━━━━━━━━━━━━━\u001b[0m\u001b[37m\u001b[0m \u001b[1m0s\u001b[0m 3ms/step - loss: 196.1153 - val_loss: 197.9405\n",
            "Epoch 29/30\n",
            "\u001b[1m25/25\u001b[0m \u001b[32m━━━━━━━━━━━━━━━━━━━━\u001b[0m\u001b[37m\u001b[0m \u001b[1m0s\u001b[0m 2ms/step - loss: 188.4247 - val_loss: 196.4942\n",
            "Epoch 30/30\n",
            "\u001b[1m25/25\u001b[0m \u001b[32m━━━━━━━━━━━━━━━━━━━━\u001b[0m\u001b[37m\u001b[0m \u001b[1m0s\u001b[0m 2ms/step - loss: 192.8989 - val_loss: 196.5228\n"
          ]
        },
        {
          "output_type": "execute_result",
          "data": {
            "text/plain": [
              "<keras.src.callbacks.history.History at 0x7dbd73d17400>"
            ]
          },
          "metadata": {},
          "execution_count": 65
        }
      ]
    },
    {
      "cell_type": "code",
      "source": [
        "model = Sequential()\n",
        "model.add(Dense(units=32, activation='relu', input_shape=(150,)))\n",
        "model.add(Dense(units=1))\n",
        "\n",
        "model.compile(optimizer='rmsprop',\n",
        "              loss='mae',\n",
        "              metrics=['mse'])\n",
        "\n",
        "model.fit(data, labels, epochs=30, batch_size=32, validation_split=0.2)"
      ],
      "metadata": {
        "colab": {
          "base_uri": "https://localhost:8080/"
        },
        "id": "M4WMPSfQ0z_e",
        "outputId": "020b9dca-6c86-4814-a8dd-bf815c0d11f9"
      },
      "execution_count": 67,
      "outputs": [
        {
          "output_type": "stream",
          "name": "stdout",
          "text": [
            "Epoch 1/30\n",
            "\u001b[1m25/25\u001b[0m \u001b[32m━━━━━━━━━━━━━━━━━━━━\u001b[0m\u001b[37m\u001b[0m \u001b[1m1s\u001b[0m 8ms/step - loss: 21.5374 - mse: 650.2164 - val_loss: 15.6538 - val_mse: 369.7215\n",
            "Epoch 2/30\n",
            "\u001b[1m25/25\u001b[0m \u001b[32m━━━━━━━━━━━━━━━━━━━━\u001b[0m\u001b[37m\u001b[0m \u001b[1m0s\u001b[0m 3ms/step - loss: 15.0166 - mse: 329.3556 - val_loss: 12.6222 - val_mse: 220.9880\n",
            "Epoch 3/30\n",
            "\u001b[1m25/25\u001b[0m \u001b[32m━━━━━━━━━━━━━━━━━━━━\u001b[0m\u001b[37m\u001b[0m \u001b[1m0s\u001b[0m 2ms/step - loss: 12.0996 - mse: 201.2152 - val_loss: 12.1738 - val_mse: 197.6305\n",
            "Epoch 4/30\n",
            "\u001b[1m25/25\u001b[0m \u001b[32m━━━━━━━━━━━━━━━━━━━━\u001b[0m\u001b[37m\u001b[0m \u001b[1m0s\u001b[0m 3ms/step - loss: 11.5648 - mse: 187.1243 - val_loss: 12.2151 - val_mse: 199.4911\n",
            "Epoch 5/30\n",
            "\u001b[1m25/25\u001b[0m \u001b[32m━━━━━━━━━━━━━━━━━━━━\u001b[0m\u001b[37m\u001b[0m \u001b[1m0s\u001b[0m 3ms/step - loss: 11.9586 - mse: 198.0290 - val_loss: 12.2284 - val_mse: 200.2507\n",
            "Epoch 6/30\n",
            "\u001b[1m25/25\u001b[0m \u001b[32m━━━━━━━━━━━━━━━━━━━━\u001b[0m\u001b[37m\u001b[0m \u001b[1m0s\u001b[0m 3ms/step - loss: 11.9105 - mse: 197.6228 - val_loss: 12.1748 - val_mse: 197.7955\n",
            "Epoch 7/30\n",
            "\u001b[1m25/25\u001b[0m \u001b[32m━━━━━━━━━━━━━━━━━━━━\u001b[0m\u001b[37m\u001b[0m \u001b[1m0s\u001b[0m 3ms/step - loss: 11.9792 - mse: 195.6432 - val_loss: 12.1632 - val_mse: 197.4839\n",
            "Epoch 8/30\n",
            "\u001b[1m25/25\u001b[0m \u001b[32m━━━━━━━━━━━━━━━━━━━━\u001b[0m\u001b[37m\u001b[0m \u001b[1m0s\u001b[0m 2ms/step - loss: 12.3808 - mse: 206.1091 - val_loss: 12.1659 - val_mse: 197.6585\n",
            "Epoch 9/30\n",
            "\u001b[1m25/25\u001b[0m \u001b[32m━━━━━━━━━━━━━━━━━━━━\u001b[0m\u001b[37m\u001b[0m \u001b[1m0s\u001b[0m 2ms/step - loss: 12.0850 - mse: 198.8146 - val_loss: 12.1545 - val_mse: 197.2839\n",
            "Epoch 10/30\n",
            "\u001b[1m25/25\u001b[0m \u001b[32m━━━━━━━━━━━━━━━━━━━━\u001b[0m\u001b[37m\u001b[0m \u001b[1m0s\u001b[0m 3ms/step - loss: 11.9372 - mse: 196.3300 - val_loss: 12.2113 - val_mse: 200.0064\n",
            "Epoch 11/30\n",
            "\u001b[1m25/25\u001b[0m \u001b[32m━━━━━━━━━━━━━━━━━━━━\u001b[0m\u001b[37m\u001b[0m \u001b[1m0s\u001b[0m 3ms/step - loss: 11.7166 - mse: 191.5793 - val_loss: 12.1239 - val_mse: 196.6220\n",
            "Epoch 12/30\n",
            "\u001b[1m25/25\u001b[0m \u001b[32m━━━━━━━━━━━━━━━━━━━━\u001b[0m\u001b[37m\u001b[0m \u001b[1m0s\u001b[0m 3ms/step - loss: 11.7283 - mse: 193.0242 - val_loss: 12.1201 - val_mse: 196.5730\n",
            "Epoch 13/30\n",
            "\u001b[1m25/25\u001b[0m \u001b[32m━━━━━━━━━━━━━━━━━━━━\u001b[0m\u001b[37m\u001b[0m \u001b[1m0s\u001b[0m 2ms/step - loss: 12.0301 - mse: 196.0759 - val_loss: 12.1523 - val_mse: 197.6718\n",
            "Epoch 14/30\n",
            "\u001b[1m25/25\u001b[0m \u001b[32m━━━━━━━━━━━━━━━━━━━━\u001b[0m\u001b[37m\u001b[0m \u001b[1m0s\u001b[0m 3ms/step - loss: 11.6954 - mse: 190.6897 - val_loss: 12.1268 - val_mse: 196.7060\n",
            "Epoch 15/30\n",
            "\u001b[1m25/25\u001b[0m \u001b[32m━━━━━━━━━━━━━━━━━━━━\u001b[0m\u001b[37m\u001b[0m \u001b[1m0s\u001b[0m 2ms/step - loss: 12.3078 - mse: 207.5140 - val_loss: 12.1766 - val_mse: 198.9900\n",
            "Epoch 16/30\n",
            "\u001b[1m25/25\u001b[0m \u001b[32m━━━━━━━━━━━━━━━━━━━━\u001b[0m\u001b[37m\u001b[0m \u001b[1m0s\u001b[0m 3ms/step - loss: 11.9550 - mse: 197.2753 - val_loss: 12.1444 - val_mse: 197.7592\n",
            "Epoch 17/30\n",
            "\u001b[1m25/25\u001b[0m \u001b[32m━━━━━━━━━━━━━━━━━━━━\u001b[0m\u001b[37m\u001b[0m \u001b[1m0s\u001b[0m 3ms/step - loss: 11.6110 - mse: 187.6727 - val_loss: 12.2152 - val_mse: 200.1630\n",
            "Epoch 18/30\n",
            "\u001b[1m25/25\u001b[0m \u001b[32m━━━━━━━━━━━━━━━━━━━━\u001b[0m\u001b[37m\u001b[0m \u001b[1m0s\u001b[0m 3ms/step - loss: 12.0525 - mse: 198.8061 - val_loss: 12.1732 - val_mse: 198.9529\n",
            "Epoch 19/30\n",
            "\u001b[1m25/25\u001b[0m \u001b[32m━━━━━━━━━━━━━━━━━━━━\u001b[0m\u001b[37m\u001b[0m \u001b[1m0s\u001b[0m 3ms/step - loss: 12.1180 - mse: 200.6846 - val_loss: 12.1252 - val_mse: 197.2761\n",
            "Epoch 20/30\n",
            "\u001b[1m25/25\u001b[0m \u001b[32m━━━━━━━━━━━━━━━━━━━━\u001b[0m\u001b[37m\u001b[0m \u001b[1m0s\u001b[0m 2ms/step - loss: 11.6400 - mse: 191.3692 - val_loss: 12.1192 - val_mse: 197.0803\n",
            "Epoch 21/30\n",
            "\u001b[1m25/25\u001b[0m \u001b[32m━━━━━━━━━━━━━━━━━━━━\u001b[0m\u001b[37m\u001b[0m \u001b[1m0s\u001b[0m 3ms/step - loss: 11.4807 - mse: 186.7280 - val_loss: 12.1079 - val_mse: 196.7806\n",
            "Epoch 22/30\n",
            "\u001b[1m25/25\u001b[0m \u001b[32m━━━━━━━━━━━━━━━━━━━━\u001b[0m\u001b[37m\u001b[0m \u001b[1m0s\u001b[0m 3ms/step - loss: 11.6037 - mse: 188.3168 - val_loss: 12.1383 - val_mse: 197.8117\n",
            "Epoch 23/30\n",
            "\u001b[1m25/25\u001b[0m \u001b[32m━━━━━━━━━━━━━━━━━━━━\u001b[0m\u001b[37m\u001b[0m \u001b[1m0s\u001b[0m 3ms/step - loss: 11.2185 - mse: 179.1381 - val_loss: 12.0789 - val_mse: 196.0716\n",
            "Epoch 24/30\n",
            "\u001b[1m25/25\u001b[0m \u001b[32m━━━━━━━━━━━━━━━━━━━━\u001b[0m\u001b[37m\u001b[0m \u001b[1m0s\u001b[0m 3ms/step - loss: 11.8557 - mse: 195.4911 - val_loss: 12.1316 - val_mse: 197.5995\n",
            "Epoch 25/30\n",
            "\u001b[1m25/25\u001b[0m \u001b[32m━━━━━━━━━━━━━━━━━━━━\u001b[0m\u001b[37m\u001b[0m \u001b[1m0s\u001b[0m 3ms/step - loss: 11.2832 - mse: 182.3035 - val_loss: 12.1625 - val_mse: 198.5462\n",
            "Epoch 26/30\n",
            "\u001b[1m25/25\u001b[0m \u001b[32m━━━━━━━━━━━━━━━━━━━━\u001b[0m\u001b[37m\u001b[0m \u001b[1m0s\u001b[0m 3ms/step - loss: 11.6057 - mse: 187.0549 - val_loss: 12.2789 - val_mse: 202.0362\n",
            "Epoch 27/30\n",
            "\u001b[1m25/25\u001b[0m \u001b[32m━━━━━━━━━━━━━━━━━━━━\u001b[0m\u001b[37m\u001b[0m \u001b[1m0s\u001b[0m 3ms/step - loss: 11.7158 - mse: 191.7777 - val_loss: 12.2390 - val_mse: 200.7428\n",
            "Epoch 28/30\n",
            "\u001b[1m25/25\u001b[0m \u001b[32m━━━━━━━━━━━━━━━━━━━━\u001b[0m\u001b[37m\u001b[0m \u001b[1m0s\u001b[0m 3ms/step - loss: 11.5441 - mse: 187.7373 - val_loss: 12.1067 - val_mse: 196.8362\n",
            "Epoch 29/30\n",
            "\u001b[1m25/25\u001b[0m \u001b[32m━━━━━━━━━━━━━━━━━━━━\u001b[0m\u001b[37m\u001b[0m \u001b[1m0s\u001b[0m 3ms/step - loss: 11.5994 - mse: 191.5706 - val_loss: 12.0604 - val_mse: 195.8981\n",
            "Epoch 30/30\n",
            "\u001b[1m25/25\u001b[0m \u001b[32m━━━━━━━━━━━━━━━━━━━━\u001b[0m\u001b[37m\u001b[0m \u001b[1m0s\u001b[0m 2ms/step - loss: 11.5494 - mse: 186.6498 - val_loss: 12.1757 - val_mse: 198.8507\n"
          ]
        },
        {
          "output_type": "execute_result",
          "data": {
            "text/plain": [
              "<keras.src.callbacks.history.History at 0x7dbd73792590>"
            ]
          },
          "metadata": {},
          "execution_count": 67
        }
      ]
    }
  ]
}