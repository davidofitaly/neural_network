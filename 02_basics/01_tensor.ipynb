{
  "nbformat": 4,
  "nbformat_minor": 0,
  "metadata": {
    "colab": {
      "provenance": [],
      "authorship_tag": "ABX9TyM02Nfr+w/U9kUQE8XEOqn/",
      "include_colab_link": true
    },
    "kernelspec": {
      "name": "python3",
      "display_name": "Python 3"
    },
    "language_info": {
      "name": "python"
    }
  },
  "cells": [
    {
      "cell_type": "markdown",
      "metadata": {
        "id": "view-in-github",
        "colab_type": "text"
      },
      "source": [
        "<a href=\"https://colab.research.google.com/github/davidofitaly/neural_network/blob/main/02_basics/01_tensor.ipynb\" target=\"_parent\"><img src=\"https://colab.research.google.com/assets/colab-badge.svg\" alt=\"Open In Colab\"/></a>"
      ]
    },
    {
      "cell_type": "code",
      "execution_count": null,
      "metadata": {
        "id": "L0D1mkXCDkdh"
      },
      "outputs": [],
      "source": [
        "import numpy as np"
      ]
    },
    {
      "cell_type": "markdown",
      "source": [
        "####Scalar"
      ],
      "metadata": {
        "id": "GnpV8EQ-E4iH"
      }
    },
    {
      "cell_type": "code",
      "source": [
        "scalar = 3\n",
        "\n",
        "print(scalar)\n",
        "print(type(scalar))"
      ],
      "metadata": {
        "colab": {
          "base_uri": "https://localhost:8080/"
        },
        "id": "mCUgjv2oDsX0",
        "outputId": "10b1bc58-024f-48cb-f085-521c7242d351"
      },
      "execution_count": null,
      "outputs": [
        {
          "output_type": "stream",
          "name": "stdout",
          "text": [
            "3\n",
            "<class 'int'>\n"
          ]
        }
      ]
    },
    {
      "cell_type": "code",
      "source": [
        "scalar = 3.0\n",
        "\n",
        "print(scalar)\n",
        "print(type(scalar))"
      ],
      "metadata": {
        "colab": {
          "base_uri": "https://localhost:8080/"
        },
        "id": "cPakk7-ND0Cr",
        "outputId": "1ecb210f-7897-4e7a-a8d2-c41c868af94d"
      },
      "execution_count": null,
      "outputs": [
        {
          "output_type": "stream",
          "name": "stdout",
          "text": [
            "3.0\n",
            "<class 'float'>\n"
          ]
        }
      ]
    },
    {
      "cell_type": "markdown",
      "source": [
        "####Vector"
      ],
      "metadata": {
        "id": "wuEgzz00E6XU"
      }
    },
    {
      "cell_type": "code",
      "source": [
        "vector = np.array([2,4,-6,5])\n",
        "\n",
        "print(vector)\n",
        "print(type(vector))\n",
        "print(f'Shape: {vector.shape}')\n",
        "print(f'Row: {vector.ndim}')\n",
        "print(f'Length: {len(vector)}')\n"
      ],
      "metadata": {
        "colab": {
          "base_uri": "https://localhost:8080/"
        },
        "id": "eec9oiuWD2G0",
        "outputId": "4910ce21-1397-468e-ab12-f3fc99d84803"
      },
      "execution_count": null,
      "outputs": [
        {
          "output_type": "stream",
          "name": "stdout",
          "text": [
            "[ 2  4 -6  5]\n",
            "<class 'numpy.ndarray'>\n",
            "Shape: (4,)\n",
            "Row: 1\n",
            "Length: 4\n"
          ]
        }
      ]
    },
    {
      "cell_type": "code",
      "source": [
        "vector = np.array([2,4,-6,5,], dtype='float')\n",
        "print(vector)\n",
        "print(f'Type: {vector.dtype}')"
      ],
      "metadata": {
        "colab": {
          "base_uri": "https://localhost:8080/"
        },
        "id": "Us7dXX4WEW3k",
        "outputId": "ea894aa5-a033-4ec1-9eb5-e165838291e0"
      },
      "execution_count": null,
      "outputs": [
        {
          "output_type": "stream",
          "name": "stdout",
          "text": [
            "[ 2.  4. -6.  5.]\n",
            "Type: float64\n"
          ]
        }
      ]
    },
    {
      "cell_type": "markdown",
      "source": [
        "####Matrix"
      ],
      "metadata": {
        "id": "ai7ho1NlE173"
      }
    },
    {
      "cell_type": "code",
      "source": [
        "array = np.array([[2,6,3],\n",
        "                  [5,-3,4]])\n",
        "\n",
        "print(array)\n",
        "print(type(array))\n",
        "print(f'Shape: {array.shape}')\n",
        "print(f'Row: {array.ndim}')\n",
        "print(f'Type: {array.dtype}')\n",
        "print(f'Length: {len(array)}')"
      ],
      "metadata": {
        "colab": {
          "base_uri": "https://localhost:8080/"
        },
        "id": "shZyxO05E7o6",
        "outputId": "e295fb28-6c85-4b4f-c4a6-bf087a6a1235"
      },
      "execution_count": null,
      "outputs": [
        {
          "output_type": "stream",
          "name": "stdout",
          "text": [
            "[[ 2  6  3]\n",
            " [ 5 -3  4]]\n",
            "<class 'numpy.ndarray'>\n",
            "Shape: (2, 3)\n",
            "Row: 2\n",
            "Type: int64\n",
            "Length: 2\n"
          ]
        }
      ]
    },
    {
      "cell_type": "code",
      "source": [
        "array = np.array([[2,6,4],\n",
        "                  [5,4,5],\n",
        "                  [4,2,1]], dtype='float')\n",
        "\n",
        "print(array)\n",
        "print(type(array))\n",
        "print(f'Shape: {array.shape}')\n",
        "print(f'Row: {array.ndim}')\n",
        "print(f'Type: {array.dtype}')\n",
        "print(f'Length: {len(array)}')"
      ],
      "metadata": {
        "colab": {
          "base_uri": "https://localhost:8080/"
        },
        "id": "JVX6dBW_FPvh",
        "outputId": "f8dae67e-ec82-45f9-a539-554d2b61a39c"
      },
      "execution_count": null,
      "outputs": [
        {
          "output_type": "stream",
          "name": "stdout",
          "text": [
            "[[2. 6. 4.]\n",
            " [5. 4. 5.]\n",
            " [4. 2. 1.]]\n",
            "<class 'numpy.ndarray'>\n",
            "Shape: (3, 3)\n",
            "Row: 2\n",
            "Type: float64\n",
            "Length: 3\n"
          ]
        }
      ]
    },
    {
      "cell_type": "markdown",
      "source": [
        "#####Tensor"
      ],
      "metadata": {
        "id": "tcnT5fBRFfKV"
      }
    },
    {
      "cell_type": "code",
      "source": [
        "tensor = np.array([[[1,2,3],\n",
        "                   [4,5,6]],\n",
        "                   [[7,8,9],\n",
        "                    [3,7,3]]\n",
        "\n",
        "                  ])\n",
        "\n",
        "print(tensor)\n",
        "print(type(tensor))\n",
        "print(f'Shape: {tensor.shape}')\n",
        "print(f'Row: {tensor.ndim}')\n",
        "print(f'Type: {tensor.dtype}')\n",
        "print(f'Length: {len(tensor)}')"
      ],
      "metadata": {
        "colab": {
          "base_uri": "https://localhost:8080/"
        },
        "id": "ZZYJ2-gfFkis",
        "outputId": "0e89c812-b793-419a-ed3f-1ed576076090"
      },
      "execution_count": null,
      "outputs": [
        {
          "output_type": "stream",
          "name": "stdout",
          "text": [
            "[[[1 2 3]\n",
            "  [4 5 6]]\n",
            "\n",
            " [[7 8 9]\n",
            "  [3 7 3]]]\n",
            "<class 'numpy.ndarray'>\n",
            "Shape: (2, 2, 3)\n",
            "Row: 3\n",
            "Type: int64\n",
            "Length: 2\n"
          ]
        }
      ]
    },
    {
      "cell_type": "code",
      "source": [
        "\n",
        "tensor = np.array([\n",
        "    [[1, 2, 3],\n",
        "     [4, 5, 6]],\n",
        "    [[7, 8, 9],\n",
        "     [3, 7, 3]],\n",
        "    [[2, 3, 5],\n",
        "     [7, 2, 5]]\n",
        "])\n",
        "\n",
        "print(tensor)\n",
        "print(type(tensor))\n",
        "print(f'Rozmiar macierzy: {tensor.shape}')\n",
        "print(f'Typ danych macierzy: {tensor.dtype}')\n",
        "print(f'Rząd: {tensor.ndim}')\n",
        "print(f'Długosc: {len(tensor)}')\n"
      ],
      "metadata": {
        "colab": {
          "base_uri": "https://localhost:8080/"
        },
        "id": "D9gIzKDcF9pP",
        "outputId": "a11a8740-0396-4d2f-cb46-34414afbb21c"
      },
      "execution_count": null,
      "outputs": [
        {
          "output_type": "stream",
          "name": "stdout",
          "text": [
            "[[[1 2 3]\n",
            "  [4 5 6]]\n",
            "\n",
            " [[7 8 9]\n",
            "  [3 7 3]]\n",
            "\n",
            " [[2 3 5]\n",
            "  [7 2 5]]]\n",
            "<class 'numpy.ndarray'>\n",
            "Rozmiar macierzy: (3, 2, 3)\n",
            "Typ danych macierzy: int64\n",
            "Rząd: 3\n",
            "Długosc: 3\n"
          ]
        }
      ]
    },
    {
      "cell_type": "code",
      "source": [
        "tensor = np.array([\n",
        "    [[1, 2, 3, 4],\n",
        "     [4, 5, 6, 4],\n",
        "     [4, 2, 5, 2]],\n",
        "    [[7, 8, 9, 8],\n",
        "     [3, 7, 3, 9],\n",
        "     [5, 2, 4, 3]],\n",
        "    [[2, 3, 5, 4],\n",
        "     [7, 2, 5, 1],\n",
        "     [8, 2, 7, 2]],\n",
        "    [[2, 3, 5, 7],\n",
        "     [7, 2, 5, 9],\n",
        "     [8, 2, 7, 0]],\n",
        "    [[2, 3, 5, 7],\n",
        "     [7, 2, 5, 9],\n",
        "     [8, 2, 7, 0]]\n",
        "])\n",
        "\n",
        "print(tensor)\n",
        "print(type(tensor))\n",
        "print(f'Rozmiar macierzy: {tensor.shape}')\n",
        "print(f'Typ danych macierzy: {tensor.dtype}')\n",
        "print(f'Rząd: {tensor.ndim}')\n",
        "print(f'Długosc: {len(tensor)}')\n"
      ],
      "metadata": {
        "colab": {
          "base_uri": "https://localhost:8080/"
        },
        "id": "_AYq7srlGBE6",
        "outputId": "0420bccd-c965-4dca-fd08-aa590fead3aa"
      },
      "execution_count": null,
      "outputs": [
        {
          "output_type": "stream",
          "name": "stdout",
          "text": [
            "[[[1 2 3 4]\n",
            "  [4 5 6 4]\n",
            "  [4 2 5 2]]\n",
            "\n",
            " [[7 8 9 8]\n",
            "  [3 7 3 9]\n",
            "  [5 2 4 3]]\n",
            "\n",
            " [[2 3 5 4]\n",
            "  [7 2 5 1]\n",
            "  [8 2 7 2]]\n",
            "\n",
            " [[2 3 5 7]\n",
            "  [7 2 5 9]\n",
            "  [8 2 7 0]]\n",
            "\n",
            " [[2 3 5 7]\n",
            "  [7 2 5 9]\n",
            "  [8 2 7 0]]]\n",
            "<class 'numpy.ndarray'>\n",
            "Rozmiar macierzy: (5, 3, 4)\n",
            "Typ danych macierzy: int64\n",
            "Rząd: 3\n",
            "Długosc: 5\n"
          ]
        }
      ]
    }
  ]
}